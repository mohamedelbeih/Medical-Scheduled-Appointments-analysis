{
 "cells": [
  {
   "cell_type": "code",
   "execution_count": 1,
   "id": "7e88e9c0",
   "metadata": {
    "_cell_guid": "b1076dfc-b9ad-4769-8c92-a6c4dae69d19",
    "_uuid": "8f2839f25d086af736a60e9eeb907d3b93b6e0e5",
    "execution": {
     "iopub.execute_input": "2021-08-30T06:56:57.312860Z",
     "iopub.status.busy": "2021-08-30T06:56:57.312151Z",
     "iopub.status.idle": "2021-08-30T06:56:58.236050Z",
     "shell.execute_reply": "2021-08-30T06:56:58.235443Z",
     "shell.execute_reply.started": "2021-08-30T05:57:36.963683Z"
    },
    "papermill": {
     "duration": 0.97022,
     "end_time": "2021-08-30T06:56:58.236218",
     "exception": false,
     "start_time": "2021-08-30T06:56:57.265998",
     "status": "completed"
    },
    "tags": []
   },
   "outputs": [],
   "source": [
    "import pandas as pd\n",
    "import numpy as np\n",
    "import matplotlib.pyplot as plt\n",
    "import seaborn as sb"
   ]
  },
  {
   "cell_type": "code",
   "execution_count": 2,
   "id": "501f6e3e",
   "metadata": {
    "execution": {
     "iopub.execute_input": "2021-08-30T06:56:58.311132Z",
     "iopub.status.busy": "2021-08-30T06:56:58.310559Z",
     "iopub.status.idle": "2021-08-30T06:56:58.778462Z",
     "shell.execute_reply": "2021-08-30T06:56:58.779015Z",
     "shell.execute_reply.started": "2021-08-30T05:57:38.118344Z"
    },
    "papermill": {
     "duration": 0.508216,
     "end_time": "2021-08-30T06:56:58.779178",
     "exception": false,
     "start_time": "2021-08-30T06:56:58.270962",
     "status": "completed"
    },
    "tags": []
   },
   "outputs": [
    {
     "data": {
      "text/html": [
       "<div>\n",
       "<style scoped>\n",
       "    .dataframe tbody tr th:only-of-type {\n",
       "        vertical-align: middle;\n",
       "    }\n",
       "\n",
       "    .dataframe tbody tr th {\n",
       "        vertical-align: top;\n",
       "    }\n",
       "\n",
       "    .dataframe thead th {\n",
       "        text-align: right;\n",
       "    }\n",
       "</style>\n",
       "<table border=\"1\" class=\"dataframe\">\n",
       "  <thead>\n",
       "    <tr style=\"text-align: right;\">\n",
       "      <th></th>\n",
       "      <th>PatientId</th>\n",
       "      <th>AppointmentID</th>\n",
       "      <th>Gender</th>\n",
       "      <th>ScheduledDay</th>\n",
       "      <th>AppointmentDay</th>\n",
       "      <th>Age</th>\n",
       "      <th>Neighbourhood</th>\n",
       "      <th>Scholarship</th>\n",
       "      <th>Hipertension</th>\n",
       "      <th>Diabetes</th>\n",
       "      <th>Alcoholism</th>\n",
       "      <th>Handcap</th>\n",
       "      <th>SMS_received</th>\n",
       "      <th>No-show</th>\n",
       "    </tr>\n",
       "  </thead>\n",
       "  <tbody>\n",
       "    <tr>\n",
       "      <th>0</th>\n",
       "      <td>2.987250e+13</td>\n",
       "      <td>5642903</td>\n",
       "      <td>F</td>\n",
       "      <td>2016-04-29T18:38:08Z</td>\n",
       "      <td>2016-04-29T00:00:00Z</td>\n",
       "      <td>62</td>\n",
       "      <td>JARDIM DA PENHA</td>\n",
       "      <td>0</td>\n",
       "      <td>1</td>\n",
       "      <td>0</td>\n",
       "      <td>0</td>\n",
       "      <td>0</td>\n",
       "      <td>0</td>\n",
       "      <td>0</td>\n",
       "    </tr>\n",
       "    <tr>\n",
       "      <th>1</th>\n",
       "      <td>5.589978e+14</td>\n",
       "      <td>5642503</td>\n",
       "      <td>M</td>\n",
       "      <td>2016-04-29T16:08:27Z</td>\n",
       "      <td>2016-04-29T00:00:00Z</td>\n",
       "      <td>56</td>\n",
       "      <td>JARDIM DA PENHA</td>\n",
       "      <td>0</td>\n",
       "      <td>0</td>\n",
       "      <td>0</td>\n",
       "      <td>0</td>\n",
       "      <td>0</td>\n",
       "      <td>0</td>\n",
       "      <td>0</td>\n",
       "    </tr>\n",
       "    <tr>\n",
       "      <th>2</th>\n",
       "      <td>4.262962e+12</td>\n",
       "      <td>5642549</td>\n",
       "      <td>F</td>\n",
       "      <td>2016-04-29T16:19:04Z</td>\n",
       "      <td>2016-04-29T00:00:00Z</td>\n",
       "      <td>62</td>\n",
       "      <td>MATA DA PRAIA</td>\n",
       "      <td>0</td>\n",
       "      <td>0</td>\n",
       "      <td>0</td>\n",
       "      <td>0</td>\n",
       "      <td>0</td>\n",
       "      <td>0</td>\n",
       "      <td>0</td>\n",
       "    </tr>\n",
       "    <tr>\n",
       "      <th>3</th>\n",
       "      <td>8.679512e+11</td>\n",
       "      <td>5642828</td>\n",
       "      <td>F</td>\n",
       "      <td>2016-04-29T17:29:31Z</td>\n",
       "      <td>2016-04-29T00:00:00Z</td>\n",
       "      <td>8</td>\n",
       "      <td>PONTAL DE CAMBURI</td>\n",
       "      <td>0</td>\n",
       "      <td>0</td>\n",
       "      <td>0</td>\n",
       "      <td>0</td>\n",
       "      <td>0</td>\n",
       "      <td>0</td>\n",
       "      <td>0</td>\n",
       "    </tr>\n",
       "    <tr>\n",
       "      <th>4</th>\n",
       "      <td>8.841186e+12</td>\n",
       "      <td>5642494</td>\n",
       "      <td>F</td>\n",
       "      <td>2016-04-29T16:07:23Z</td>\n",
       "      <td>2016-04-29T00:00:00Z</td>\n",
       "      <td>56</td>\n",
       "      <td>JARDIM DA PENHA</td>\n",
       "      <td>0</td>\n",
       "      <td>1</td>\n",
       "      <td>1</td>\n",
       "      <td>0</td>\n",
       "      <td>0</td>\n",
       "      <td>0</td>\n",
       "      <td>0</td>\n",
       "    </tr>\n",
       "    <tr>\n",
       "      <th>...</th>\n",
       "      <td>...</td>\n",
       "      <td>...</td>\n",
       "      <td>...</td>\n",
       "      <td>...</td>\n",
       "      <td>...</td>\n",
       "      <td>...</td>\n",
       "      <td>...</td>\n",
       "      <td>...</td>\n",
       "      <td>...</td>\n",
       "      <td>...</td>\n",
       "      <td>...</td>\n",
       "      <td>...</td>\n",
       "      <td>...</td>\n",
       "      <td>...</td>\n",
       "    </tr>\n",
       "    <tr>\n",
       "      <th>110522</th>\n",
       "      <td>2.572134e+12</td>\n",
       "      <td>5651768</td>\n",
       "      <td>F</td>\n",
       "      <td>2016-05-03T09:15:35Z</td>\n",
       "      <td>2016-06-07T00:00:00Z</td>\n",
       "      <td>56</td>\n",
       "      <td>MARIA ORTIZ</td>\n",
       "      <td>0</td>\n",
       "      <td>0</td>\n",
       "      <td>0</td>\n",
       "      <td>0</td>\n",
       "      <td>0</td>\n",
       "      <td>1</td>\n",
       "      <td>0</td>\n",
       "    </tr>\n",
       "    <tr>\n",
       "      <th>110523</th>\n",
       "      <td>3.596266e+12</td>\n",
       "      <td>5650093</td>\n",
       "      <td>F</td>\n",
       "      <td>2016-05-03T07:27:33Z</td>\n",
       "      <td>2016-06-07T00:00:00Z</td>\n",
       "      <td>51</td>\n",
       "      <td>MARIA ORTIZ</td>\n",
       "      <td>0</td>\n",
       "      <td>0</td>\n",
       "      <td>0</td>\n",
       "      <td>0</td>\n",
       "      <td>0</td>\n",
       "      <td>1</td>\n",
       "      <td>0</td>\n",
       "    </tr>\n",
       "    <tr>\n",
       "      <th>110524</th>\n",
       "      <td>1.557663e+13</td>\n",
       "      <td>5630692</td>\n",
       "      <td>F</td>\n",
       "      <td>2016-04-27T16:03:52Z</td>\n",
       "      <td>2016-06-07T00:00:00Z</td>\n",
       "      <td>21</td>\n",
       "      <td>MARIA ORTIZ</td>\n",
       "      <td>0</td>\n",
       "      <td>0</td>\n",
       "      <td>0</td>\n",
       "      <td>0</td>\n",
       "      <td>0</td>\n",
       "      <td>1</td>\n",
       "      <td>0</td>\n",
       "    </tr>\n",
       "    <tr>\n",
       "      <th>110525</th>\n",
       "      <td>9.213493e+13</td>\n",
       "      <td>5630323</td>\n",
       "      <td>F</td>\n",
       "      <td>2016-04-27T15:09:23Z</td>\n",
       "      <td>2016-06-07T00:00:00Z</td>\n",
       "      <td>38</td>\n",
       "      <td>MARIA ORTIZ</td>\n",
       "      <td>0</td>\n",
       "      <td>0</td>\n",
       "      <td>0</td>\n",
       "      <td>0</td>\n",
       "      <td>0</td>\n",
       "      <td>1</td>\n",
       "      <td>0</td>\n",
       "    </tr>\n",
       "    <tr>\n",
       "      <th>110526</th>\n",
       "      <td>3.775115e+14</td>\n",
       "      <td>5629448</td>\n",
       "      <td>F</td>\n",
       "      <td>2016-04-27T13:30:56Z</td>\n",
       "      <td>2016-06-07T00:00:00Z</td>\n",
       "      <td>54</td>\n",
       "      <td>MARIA ORTIZ</td>\n",
       "      <td>0</td>\n",
       "      <td>0</td>\n",
       "      <td>0</td>\n",
       "      <td>0</td>\n",
       "      <td>0</td>\n",
       "      <td>1</td>\n",
       "      <td>0</td>\n",
       "    </tr>\n",
       "  </tbody>\n",
       "</table>\n",
       "<p>110527 rows × 14 columns</p>\n",
       "</div>"
      ],
      "text/plain": [
       "           PatientId  AppointmentID Gender          ScheduledDay  \\\n",
       "0       2.987250e+13        5642903      F  2016-04-29T18:38:08Z   \n",
       "1       5.589978e+14        5642503      M  2016-04-29T16:08:27Z   \n",
       "2       4.262962e+12        5642549      F  2016-04-29T16:19:04Z   \n",
       "3       8.679512e+11        5642828      F  2016-04-29T17:29:31Z   \n",
       "4       8.841186e+12        5642494      F  2016-04-29T16:07:23Z   \n",
       "...              ...            ...    ...                   ...   \n",
       "110522  2.572134e+12        5651768      F  2016-05-03T09:15:35Z   \n",
       "110523  3.596266e+12        5650093      F  2016-05-03T07:27:33Z   \n",
       "110524  1.557663e+13        5630692      F  2016-04-27T16:03:52Z   \n",
       "110525  9.213493e+13        5630323      F  2016-04-27T15:09:23Z   \n",
       "110526  3.775115e+14        5629448      F  2016-04-27T13:30:56Z   \n",
       "\n",
       "              AppointmentDay  Age      Neighbourhood  Scholarship  \\\n",
       "0       2016-04-29T00:00:00Z   62    JARDIM DA PENHA            0   \n",
       "1       2016-04-29T00:00:00Z   56    JARDIM DA PENHA            0   \n",
       "2       2016-04-29T00:00:00Z   62      MATA DA PRAIA            0   \n",
       "3       2016-04-29T00:00:00Z    8  PONTAL DE CAMBURI            0   \n",
       "4       2016-04-29T00:00:00Z   56    JARDIM DA PENHA            0   \n",
       "...                      ...  ...                ...          ...   \n",
       "110522  2016-06-07T00:00:00Z   56        MARIA ORTIZ            0   \n",
       "110523  2016-06-07T00:00:00Z   51        MARIA ORTIZ            0   \n",
       "110524  2016-06-07T00:00:00Z   21        MARIA ORTIZ            0   \n",
       "110525  2016-06-07T00:00:00Z   38        MARIA ORTIZ            0   \n",
       "110526  2016-06-07T00:00:00Z   54        MARIA ORTIZ            0   \n",
       "\n",
       "        Hipertension  Diabetes  Alcoholism  Handcap  SMS_received  No-show  \n",
       "0                  1         0           0        0             0        0  \n",
       "1                  0         0           0        0             0        0  \n",
       "2                  0         0           0        0             0        0  \n",
       "3                  0         0           0        0             0        0  \n",
       "4                  1         1           0        0             0        0  \n",
       "...              ...       ...         ...      ...           ...      ...  \n",
       "110522             0         0           0        0             1        0  \n",
       "110523             0         0           0        0             1        0  \n",
       "110524             0         0           0        0             1        0  \n",
       "110525             0         0           0        0             1        0  \n",
       "110526             0         0           0        0             1        0  \n",
       "\n",
       "[110527 rows x 14 columns]"
      ]
     },
     "execution_count": 2,
     "metadata": {},
     "output_type": "execute_result"
    }
   ],
   "source": [
    "Data = pd.read_csv('../input/noshowappointments/KaggleV2-May-2016.csv')\n",
    "Data['No-show'] = Data['No-show'].map({'Yes':1,'No':0})\n",
    "Data"
   ]
  },
  {
   "cell_type": "code",
   "execution_count": 3,
   "id": "cb03a650",
   "metadata": {
    "execution": {
     "iopub.execute_input": "2021-08-30T06:56:58.859168Z",
     "iopub.status.busy": "2021-08-30T06:56:58.857869Z",
     "iopub.status.idle": "2021-08-30T06:56:58.935262Z",
     "shell.execute_reply": "2021-08-30T06:56:58.934450Z",
     "shell.execute_reply.started": "2021-08-30T05:57:38.635525Z"
    },
    "papermill": {
     "duration": 0.120693,
     "end_time": "2021-08-30T06:56:58.935404",
     "exception": false,
     "start_time": "2021-08-30T06:56:58.814711",
     "status": "completed"
    },
    "tags": []
   },
   "outputs": [
    {
     "data": {
      "text/html": [
       "<div>\n",
       "<style scoped>\n",
       "    .dataframe tbody tr th:only-of-type {\n",
       "        vertical-align: middle;\n",
       "    }\n",
       "\n",
       "    .dataframe tbody tr th {\n",
       "        vertical-align: top;\n",
       "    }\n",
       "\n",
       "    .dataframe thead th {\n",
       "        text-align: right;\n",
       "    }\n",
       "</style>\n",
       "<table border=\"1\" class=\"dataframe\">\n",
       "  <thead>\n",
       "    <tr style=\"text-align: right;\">\n",
       "      <th></th>\n",
       "      <th>PatientId</th>\n",
       "      <th>AppointmentID</th>\n",
       "      <th>Age</th>\n",
       "      <th>Scholarship</th>\n",
       "      <th>Hipertension</th>\n",
       "      <th>Diabetes</th>\n",
       "      <th>Alcoholism</th>\n",
       "      <th>Handcap</th>\n",
       "      <th>SMS_received</th>\n",
       "      <th>No-show</th>\n",
       "    </tr>\n",
       "  </thead>\n",
       "  <tbody>\n",
       "    <tr>\n",
       "      <th>count</th>\n",
       "      <td>1.105270e+05</td>\n",
       "      <td>1.105270e+05</td>\n",
       "      <td>110527.000000</td>\n",
       "      <td>110527.000000</td>\n",
       "      <td>110527.000000</td>\n",
       "      <td>110527.000000</td>\n",
       "      <td>110527.000000</td>\n",
       "      <td>110527.000000</td>\n",
       "      <td>110527.000000</td>\n",
       "      <td>110527.000000</td>\n",
       "    </tr>\n",
       "    <tr>\n",
       "      <th>mean</th>\n",
       "      <td>1.474963e+14</td>\n",
       "      <td>5.675305e+06</td>\n",
       "      <td>37.088874</td>\n",
       "      <td>0.098266</td>\n",
       "      <td>0.197246</td>\n",
       "      <td>0.071865</td>\n",
       "      <td>0.030400</td>\n",
       "      <td>0.022248</td>\n",
       "      <td>0.321026</td>\n",
       "      <td>0.201933</td>\n",
       "    </tr>\n",
       "    <tr>\n",
       "      <th>std</th>\n",
       "      <td>2.560949e+14</td>\n",
       "      <td>7.129575e+04</td>\n",
       "      <td>23.110205</td>\n",
       "      <td>0.297675</td>\n",
       "      <td>0.397921</td>\n",
       "      <td>0.258265</td>\n",
       "      <td>0.171686</td>\n",
       "      <td>0.161543</td>\n",
       "      <td>0.466873</td>\n",
       "      <td>0.401444</td>\n",
       "    </tr>\n",
       "    <tr>\n",
       "      <th>min</th>\n",
       "      <td>3.921784e+04</td>\n",
       "      <td>5.030230e+06</td>\n",
       "      <td>-1.000000</td>\n",
       "      <td>0.000000</td>\n",
       "      <td>0.000000</td>\n",
       "      <td>0.000000</td>\n",
       "      <td>0.000000</td>\n",
       "      <td>0.000000</td>\n",
       "      <td>0.000000</td>\n",
       "      <td>0.000000</td>\n",
       "    </tr>\n",
       "    <tr>\n",
       "      <th>25%</th>\n",
       "      <td>4.172614e+12</td>\n",
       "      <td>5.640286e+06</td>\n",
       "      <td>18.000000</td>\n",
       "      <td>0.000000</td>\n",
       "      <td>0.000000</td>\n",
       "      <td>0.000000</td>\n",
       "      <td>0.000000</td>\n",
       "      <td>0.000000</td>\n",
       "      <td>0.000000</td>\n",
       "      <td>0.000000</td>\n",
       "    </tr>\n",
       "    <tr>\n",
       "      <th>50%</th>\n",
       "      <td>3.173184e+13</td>\n",
       "      <td>5.680573e+06</td>\n",
       "      <td>37.000000</td>\n",
       "      <td>0.000000</td>\n",
       "      <td>0.000000</td>\n",
       "      <td>0.000000</td>\n",
       "      <td>0.000000</td>\n",
       "      <td>0.000000</td>\n",
       "      <td>0.000000</td>\n",
       "      <td>0.000000</td>\n",
       "    </tr>\n",
       "    <tr>\n",
       "      <th>75%</th>\n",
       "      <td>9.439172e+13</td>\n",
       "      <td>5.725524e+06</td>\n",
       "      <td>55.000000</td>\n",
       "      <td>0.000000</td>\n",
       "      <td>0.000000</td>\n",
       "      <td>0.000000</td>\n",
       "      <td>0.000000</td>\n",
       "      <td>0.000000</td>\n",
       "      <td>1.000000</td>\n",
       "      <td>0.000000</td>\n",
       "    </tr>\n",
       "    <tr>\n",
       "      <th>max</th>\n",
       "      <td>9.999816e+14</td>\n",
       "      <td>5.790484e+06</td>\n",
       "      <td>115.000000</td>\n",
       "      <td>1.000000</td>\n",
       "      <td>1.000000</td>\n",
       "      <td>1.000000</td>\n",
       "      <td>1.000000</td>\n",
       "      <td>4.000000</td>\n",
       "      <td>1.000000</td>\n",
       "      <td>1.000000</td>\n",
       "    </tr>\n",
       "  </tbody>\n",
       "</table>\n",
       "</div>"
      ],
      "text/plain": [
       "          PatientId  AppointmentID            Age    Scholarship  \\\n",
       "count  1.105270e+05   1.105270e+05  110527.000000  110527.000000   \n",
       "mean   1.474963e+14   5.675305e+06      37.088874       0.098266   \n",
       "std    2.560949e+14   7.129575e+04      23.110205       0.297675   \n",
       "min    3.921784e+04   5.030230e+06      -1.000000       0.000000   \n",
       "25%    4.172614e+12   5.640286e+06      18.000000       0.000000   \n",
       "50%    3.173184e+13   5.680573e+06      37.000000       0.000000   \n",
       "75%    9.439172e+13   5.725524e+06      55.000000       0.000000   \n",
       "max    9.999816e+14   5.790484e+06     115.000000       1.000000   \n",
       "\n",
       "        Hipertension       Diabetes     Alcoholism        Handcap  \\\n",
       "count  110527.000000  110527.000000  110527.000000  110527.000000   \n",
       "mean        0.197246       0.071865       0.030400       0.022248   \n",
       "std         0.397921       0.258265       0.171686       0.161543   \n",
       "min         0.000000       0.000000       0.000000       0.000000   \n",
       "25%         0.000000       0.000000       0.000000       0.000000   \n",
       "50%         0.000000       0.000000       0.000000       0.000000   \n",
       "75%         0.000000       0.000000       0.000000       0.000000   \n",
       "max         1.000000       1.000000       1.000000       4.000000   \n",
       "\n",
       "        SMS_received        No-show  \n",
       "count  110527.000000  110527.000000  \n",
       "mean        0.321026       0.201933  \n",
       "std         0.466873       0.401444  \n",
       "min         0.000000       0.000000  \n",
       "25%         0.000000       0.000000  \n",
       "50%         0.000000       0.000000  \n",
       "75%         1.000000       0.000000  \n",
       "max         1.000000       1.000000  "
      ]
     },
     "execution_count": 3,
     "metadata": {},
     "output_type": "execute_result"
    }
   ],
   "source": [
    "#Data wrangling\n",
    "pd.set_option('display.max_columns', None)\n",
    "Data.describe()"
   ]
  },
  {
   "cell_type": "markdown",
   "id": "e32e9300",
   "metadata": {
    "papermill": {
     "duration": 0.034848,
     "end_time": "2021-08-30T06:56:59.006097",
     "exception": false,
     "start_time": "2021-08-30T06:56:58.971249",
     "status": "completed"
    },
    "tags": []
   },
   "source": [
    "## First impression\n",
    "- there are no missing values for any feature\n",
    "- for age : 1- average is 37 years\n",
    "             2- there is negative values and extreme values reach 115 years\n",
    "             3- 25% of patients are under 18 years\n",
    "                25% of patients are over 55 years\n",
    "- less than 25% of patients have a scholarship\n",
    "- less than 25% of patients have Hipertension\n",
    "- less than 25% of patients have Diabetes\n",
    "- less than 25% of patients are Alcoholists\n",
    "- less than 25% of patients have a Handcap , hancap should be 1 or 0 but it has a max value of 4\n",
    "- less than 25% of patients are No-show\n",
    "'''"
   ]
  },
  {
   "cell_type": "code",
   "execution_count": 4,
   "id": "13a537a2",
   "metadata": {
    "execution": {
     "iopub.execute_input": "2021-08-30T06:56:59.080612Z",
     "iopub.status.busy": "2021-08-30T06:56:59.080037Z",
     "iopub.status.idle": "2021-08-30T06:56:59.191058Z",
     "shell.execute_reply": "2021-08-30T06:56:59.190486Z",
     "shell.execute_reply.started": "2021-08-30T05:57:38.723835Z"
    },
    "papermill": {
     "duration": 0.149984,
     "end_time": "2021-08-30T06:56:59.191186",
     "exception": false,
     "start_time": "2021-08-30T06:56:59.041202",
     "status": "completed"
    },
    "tags": []
   },
   "outputs": [
    {
     "data": {
      "text/plain": [
       "PatientId          62299\n",
       "AppointmentID     110527\n",
       "Gender                 2\n",
       "ScheduledDay      103549\n",
       "AppointmentDay        27\n",
       "Age                  104\n",
       "Neighbourhood         81\n",
       "Scholarship            2\n",
       "Hipertension           2\n",
       "Diabetes               2\n",
       "Alcoholism             2\n",
       "Handcap                5\n",
       "SMS_received           2\n",
       "No-show                2\n",
       "dtype: int64"
      ]
     },
     "execution_count": 4,
     "metadata": {},
     "output_type": "execute_result"
    }
   ],
   "source": [
    "Data.nunique()"
   ]
  },
  {
   "cell_type": "markdown",
   "id": "bb2a90ab",
   "metadata": {
    "papermill": {
     "duration": 0.035364,
     "end_time": "2021-08-30T06:56:59.262513",
     "exception": false,
     "start_time": "2021-08-30T06:56:59.227149",
     "status": "completed"
    },
    "tags": []
   },
   "source": [
    "##### there are 5 values for handcap\n",
    "##### there are 104 different ages .. so we will have alot of extreme values\n",
    "##### we have a PatientsIds around 0.56 of AppointmentsID ..\n",
    "##### so most of the patients called more than one time or we have some patients called to much .. we will investigate"
   ]
  },
  {
   "cell_type": "code",
   "execution_count": 5,
   "id": "d1b72731",
   "metadata": {
    "execution": {
     "iopub.execute_input": "2021-08-30T06:56:59.340079Z",
     "iopub.status.busy": "2021-08-30T06:56:59.339180Z",
     "iopub.status.idle": "2021-08-30T06:56:59.350647Z",
     "shell.execute_reply": "2021-08-30T06:56:59.351033Z",
     "shell.execute_reply.started": "2021-08-30T05:57:38.88431Z"
    },
    "papermill": {
     "duration": 0.052859,
     "end_time": "2021-08-30T06:56:59.351195",
     "exception": false,
     "start_time": "2021-08-30T06:56:59.298336",
     "status": "completed"
    },
    "tags": []
   },
   "outputs": [
    {
     "data": {
      "text/plain": [
       "7.433899e+13     2\n",
       "8.462796e+13     1\n",
       "1.687560e+13     1\n",
       "8.682467e+14     1\n",
       "6.235218e+14     1\n",
       "                ..\n",
       "1.322475e+14     1\n",
       "6.111461e+13     4\n",
       "2.833933e+13    10\n",
       "8.287469e+12     1\n",
       "5.133834e+14     1\n",
       "Name: PatientId, Length: 62299, dtype: int64"
      ]
     },
     "execution_count": 5,
     "metadata": {},
     "output_type": "execute_result"
    }
   ],
   "source": [
    "total_calls_per_patient = Data.PatientId.value_counts(sort=False)\n",
    "total_calls_per_patient"
   ]
  },
  {
   "cell_type": "code",
   "execution_count": 6,
   "id": "4561fa8f",
   "metadata": {
    "execution": {
     "iopub.execute_input": "2021-08-30T06:56:59.440771Z",
     "iopub.status.busy": "2021-08-30T06:56:59.440055Z",
     "iopub.status.idle": "2021-08-30T06:56:59.462870Z",
     "shell.execute_reply": "2021-08-30T06:56:59.462311Z",
     "shell.execute_reply.started": "2021-08-30T05:57:38.906322Z"
    },
    "papermill": {
     "duration": 0.072224,
     "end_time": "2021-08-30T06:56:59.463017",
     "exception": false,
     "start_time": "2021-08-30T06:56:59.390793",
     "status": "completed"
    },
    "tags": []
   },
   "outputs": [
    {
     "data": {
      "text/plain": [
       "PatientId\n",
       "2.987250e+13    0\n",
       "5.589978e+14    0\n",
       "4.262962e+12    0\n",
       "8.679512e+11    1\n",
       "8.841186e+12    0\n",
       "               ..\n",
       "9.876246e+13    0\n",
       "8.674778e+13    0\n",
       "7.263315e+13    0\n",
       "9.969977e+14    0\n",
       "1.557663e+13    0\n",
       "Name: No-show, Length: 62299, dtype: int64"
      ]
     },
     "execution_count": 6,
     "metadata": {},
     "output_type": "execute_result"
    }
   ],
   "source": [
    "no_show_per_patient = Data.groupby(\"PatientId\",sort=False)['No-show'].sum()\n",
    "no_show_per_patient"
   ]
  },
  {
   "cell_type": "code",
   "execution_count": 7,
   "id": "7530b24b",
   "metadata": {
    "execution": {
     "iopub.execute_input": "2021-08-30T06:56:59.547639Z",
     "iopub.status.busy": "2021-08-30T06:56:59.546899Z",
     "iopub.status.idle": "2021-08-30T06:56:59.550738Z",
     "shell.execute_reply": "2021-08-30T06:56:59.550299Z",
     "shell.execute_reply.started": "2021-08-30T05:57:38.931102Z"
    },
    "papermill": {
     "duration": 0.045819,
     "end_time": "2021-08-30T06:56:59.550869",
     "exception": false,
     "start_time": "2021-08-30T06:56:59.505050",
     "status": "completed"
    },
    "tags": []
   },
   "outputs": [],
   "source": [
    "patient_credibility = pd.DataFrame(total_calls_per_patient)\n",
    "patient_credibility = patient_credibility.rename(columns={'PatientId':'total_calls_per_patient'})"
   ]
  },
  {
   "cell_type": "code",
   "execution_count": 8,
   "id": "14ed35fa",
   "metadata": {
    "execution": {
     "iopub.execute_input": "2021-08-30T06:56:59.627399Z",
     "iopub.status.busy": "2021-08-30T06:56:59.626778Z",
     "iopub.status.idle": "2021-08-30T06:56:59.693099Z",
     "shell.execute_reply": "2021-08-30T06:56:59.693578Z",
     "shell.execute_reply.started": "2021-08-30T05:57:38.942207Z"
    },
    "papermill": {
     "duration": 0.106867,
     "end_time": "2021-08-30T06:56:59.693746",
     "exception": false,
     "start_time": "2021-08-30T06:56:59.586879",
     "status": "completed"
    },
    "tags": []
   },
   "outputs": [],
   "source": [
    "patient_credibility['no_show_per_patient']=no_show_per_patient\n",
    "patient_credibility['patient credibility percentage']=(total_calls_per_patient-no_show_per_patient)/total_calls_per_patient"
   ]
  },
  {
   "cell_type": "code",
   "execution_count": 9,
   "id": "87f7e8f3",
   "metadata": {
    "execution": {
     "iopub.execute_input": "2021-08-30T06:56:59.773089Z",
     "iopub.status.busy": "2021-08-30T06:56:59.772481Z",
     "iopub.status.idle": "2021-08-30T06:56:59.792404Z",
     "shell.execute_reply": "2021-08-30T06:56:59.792811Z",
     "shell.execute_reply.started": "2021-08-30T05:57:39.024736Z"
    },
    "papermill": {
     "duration": 0.062587,
     "end_time": "2021-08-30T06:56:59.792977",
     "exception": false,
     "start_time": "2021-08-30T06:56:59.730390",
     "status": "completed"
    },
    "tags": []
   },
   "outputs": [
    {
     "data": {
      "text/html": [
       "<div>\n",
       "<style scoped>\n",
       "    .dataframe tbody tr th:only-of-type {\n",
       "        vertical-align: middle;\n",
       "    }\n",
       "\n",
       "    .dataframe tbody tr th {\n",
       "        vertical-align: top;\n",
       "    }\n",
       "\n",
       "    .dataframe thead th {\n",
       "        text-align: right;\n",
       "    }\n",
       "</style>\n",
       "<table border=\"1\" class=\"dataframe\">\n",
       "  <thead>\n",
       "    <tr style=\"text-align: right;\">\n",
       "      <th></th>\n",
       "      <th>total_calls_per_patient</th>\n",
       "      <th>no_show_per_patient</th>\n",
       "      <th>patient credibility percentage</th>\n",
       "    </tr>\n",
       "  </thead>\n",
       "  <tbody>\n",
       "    <tr>\n",
       "      <th>count</th>\n",
       "      <td>62299.000000</td>\n",
       "      <td>62299.000000</td>\n",
       "      <td>62299.000000</td>\n",
       "    </tr>\n",
       "    <tr>\n",
       "      <th>mean</th>\n",
       "      <td>1.774138</td>\n",
       "      <td>0.358256</td>\n",
       "      <td>0.803570</td>\n",
       "    </tr>\n",
       "    <tr>\n",
       "      <th>std</th>\n",
       "      <td>1.770324</td>\n",
       "      <td>0.689779</td>\n",
       "      <td>0.351419</td>\n",
       "    </tr>\n",
       "    <tr>\n",
       "      <th>min</th>\n",
       "      <td>1.000000</td>\n",
       "      <td>0.000000</td>\n",
       "      <td>0.000000</td>\n",
       "    </tr>\n",
       "    <tr>\n",
       "      <th>25%</th>\n",
       "      <td>1.000000</td>\n",
       "      <td>0.000000</td>\n",
       "      <td>0.666667</td>\n",
       "    </tr>\n",
       "    <tr>\n",
       "      <th>50%</th>\n",
       "      <td>1.000000</td>\n",
       "      <td>0.000000</td>\n",
       "      <td>1.000000</td>\n",
       "    </tr>\n",
       "    <tr>\n",
       "      <th>75%</th>\n",
       "      <td>2.000000</td>\n",
       "      <td>1.000000</td>\n",
       "      <td>1.000000</td>\n",
       "    </tr>\n",
       "    <tr>\n",
       "      <th>max</th>\n",
       "      <td>88.000000</td>\n",
       "      <td>18.000000</td>\n",
       "      <td>1.000000</td>\n",
       "    </tr>\n",
       "  </tbody>\n",
       "</table>\n",
       "</div>"
      ],
      "text/plain": [
       "       total_calls_per_patient  no_show_per_patient  \\\n",
       "count             62299.000000         62299.000000   \n",
       "mean                  1.774138             0.358256   \n",
       "std                   1.770324             0.689779   \n",
       "min                   1.000000             0.000000   \n",
       "25%                   1.000000             0.000000   \n",
       "50%                   1.000000             0.000000   \n",
       "75%                   2.000000             1.000000   \n",
       "max                  88.000000            18.000000   \n",
       "\n",
       "       patient credibility percentage  \n",
       "count                    62299.000000  \n",
       "mean                         0.803570  \n",
       "std                          0.351419  \n",
       "min                          0.000000  \n",
       "25%                          0.666667  \n",
       "50%                          1.000000  \n",
       "75%                          1.000000  \n",
       "max                          1.000000  "
      ]
     },
     "execution_count": 9,
     "metadata": {},
     "output_type": "execute_result"
    }
   ],
   "source": [
    "patient_credibility.describe()"
   ]
  },
  {
   "cell_type": "code",
   "execution_count": 10,
   "id": "a6f008c5",
   "metadata": {
    "execution": {
     "iopub.execute_input": "2021-08-30T06:56:59.869867Z",
     "iopub.status.busy": "2021-08-30T06:56:59.869248Z",
     "iopub.status.idle": "2021-08-30T06:57:00.657756Z",
     "shell.execute_reply": "2021-08-30T06:57:00.658182Z",
     "shell.execute_reply.started": "2021-08-30T05:57:39.052473Z"
    },
    "papermill": {
     "duration": 0.828723,
     "end_time": "2021-08-30T06:57:00.658370",
     "exception": false,
     "start_time": "2021-08-30T06:56:59.829647",
     "status": "completed"
    },
    "tags": []
   },
   "outputs": [
    {
     "name": "stderr",
     "output_type": "stream",
     "text": [
      "/opt/conda/lib/python3.7/site-packages/seaborn/distributions.py:2557: FutureWarning: `distplot` is a deprecated function and will be removed in a future version. Please adapt your code to use either `displot` (a figure-level function with similar flexibility) or `histplot` (an axes-level function for histograms).\n",
      "  warnings.warn(msg, FutureWarning)\n"
     ]
    },
    {
     "data": {
      "text/plain": [
       "<AxesSubplot:xlabel='patient credibility percentage', ylabel='Density'>"
      ]
     },
     "execution_count": 10,
     "metadata": {},
     "output_type": "execute_result"
    },
    {
     "data": {
      "image/png": "[encoded data removed]",
      "text/plain": [
       "<Figure size 432x288 with 1 Axes>"
      ]
     },
     "metadata": {
      "needs_background": "light"
     },
     "output_type": "display_data"
    }
   ],
   "source": [
    "sb.distplot(patient_credibility['patient credibility percentage'])"
   ]
  },
  {
   "cell_type": "code",
   "execution_count": 11,
   "id": "0dabe30c",
   "metadata": {
    "execution": {
     "iopub.execute_input": "2021-08-30T06:57:00.736948Z",
     "iopub.status.busy": "2021-08-30T06:57:00.736389Z",
     "iopub.status.idle": "2021-08-30T06:57:00.750887Z",
     "shell.execute_reply": "2021-08-30T06:57:00.750269Z",
     "shell.execute_reply.started": "2021-08-30T05:57:39.907058Z"
    },
    "papermill": {
     "duration": 0.054703,
     "end_time": "2021-08-30T06:57:00.751036",
     "exception": false,
     "start_time": "2021-08-30T06:57:00.696333",
     "status": "completed"
    },
    "tags": []
   },
   "outputs": [
    {
     "data": {
      "text/plain": [
       "191"
      ]
     },
     "execution_count": 11,
     "metadata": {},
     "output_type": "execute_result"
    }
   ],
   "source": [
    "#supposing that if a person called more than twice and did not show is trustless\n",
    "#so we can remove them as outliers while making predictions (according to business view)\n",
    "trustless_patients = ((patient_credibility['total_calls_per_patient'] > 2 ) & \n",
    "                      (patient_credibility['patient credibility percentage'] == 0 ))\n",
    "patient_credibility['trustless_patients']=trustless_patients\n",
    "sum(patient_credibility['trustless_patients']) #191 out of 62299 patients"
   ]
  },
  {
   "cell_type": "code",
   "execution_count": 12,
   "id": "ec07d576",
   "metadata": {
    "execution": {
     "iopub.execute_input": "2021-08-30T06:57:00.841556Z",
     "iopub.status.busy": "2021-08-30T06:57:00.832204Z",
     "iopub.status.idle": "2021-08-30T06:57:00.865008Z",
     "shell.execute_reply": "2021-08-30T06:57:00.865441Z",
     "shell.execute_reply.started": "2021-08-30T05:57:39.930252Z"
    },
    "papermill": {
     "duration": 0.076212,
     "end_time": "2021-08-30T06:57:00.865610",
     "exception": false,
     "start_time": "2021-08-30T06:57:00.789398",
     "status": "completed"
    },
    "tags": []
   },
   "outputs": [
    {
     "name": "stdout",
     "output_type": "stream",
     "text": [
      "1\n",
      "308\n",
      "7\n"
     ]
    }
   ],
   "source": [
    "#Cleaning\n",
    "#Exploring age\n",
    "print(sum(Data.Age <0)) \n",
    "print(sum(Data.Age >90)) \n",
    "print(sum(Data.Age >100)) "
   ]
  },
  {
   "cell_type": "code",
   "execution_count": 13,
   "id": "ddd71b83",
   "metadata": {
    "execution": {
     "iopub.execute_input": "2021-08-30T06:57:00.949004Z",
     "iopub.status.busy": "2021-08-30T06:57:00.948427Z",
     "iopub.status.idle": "2021-08-30T06:57:00.964938Z",
     "shell.execute_reply": "2021-08-30T06:57:00.965423Z",
     "shell.execute_reply.started": "2021-08-30T05:57:39.995329Z"
    },
    "papermill": {
     "duration": 0.060651,
     "end_time": "2021-08-30T06:57:00.965604",
     "exception": false,
     "start_time": "2021-08-30T06:57:00.904953",
     "status": "completed"
    },
    "tags": []
   },
   "outputs": [],
   "source": [
    "#dropping negative age values\n",
    "Data[Data.Age < 0 ].index\n",
    "Data = Data.drop(index= 99832 )"
   ]
  },
  {
   "cell_type": "code",
   "execution_count": 14,
   "id": "8dad1b1f",
   "metadata": {
    "execution": {
     "iopub.execute_input": "2021-08-30T06:57:01.045830Z",
     "iopub.status.busy": "2021-08-30T06:57:01.045245Z",
     "iopub.status.idle": "2021-08-30T06:57:01.146876Z",
     "shell.execute_reply": "2021-08-30T06:57:01.146362Z",
     "shell.execute_reply.started": "2021-08-30T05:57:40.017295Z"
    },
    "papermill": {
     "duration": 0.142749,
     "end_time": "2021-08-30T06:57:01.147023",
     "exception": false,
     "start_time": "2021-08-30T06:57:01.004274",
     "status": "completed"
    },
    "tags": []
   },
   "outputs": [
    {
     "data": {
      "text/html": [
       "<div>\n",
       "<style scoped>\n",
       "    .dataframe tbody tr th:only-of-type {\n",
       "        vertical-align: middle;\n",
       "    }\n",
       "\n",
       "    .dataframe tbody tr th {\n",
       "        vertical-align: top;\n",
       "    }\n",
       "\n",
       "    .dataframe thead th {\n",
       "        text-align: right;\n",
       "    }\n",
       "</style>\n",
       "<table border=\"1\" class=\"dataframe\">\n",
       "  <thead>\n",
       "    <tr style=\"text-align: right;\">\n",
       "      <th></th>\n",
       "      <th>PatientId</th>\n",
       "      <th>AppointmentID</th>\n",
       "      <th>Gender</th>\n",
       "      <th>ScheduledDay</th>\n",
       "      <th>AppointmentDay</th>\n",
       "      <th>Age</th>\n",
       "      <th>Neighbourhood</th>\n",
       "      <th>Scholarship</th>\n",
       "      <th>Hipertension</th>\n",
       "      <th>Diabetes</th>\n",
       "      <th>Alcoholism</th>\n",
       "      <th>Handcap</th>\n",
       "      <th>SMS_received</th>\n",
       "      <th>No-show</th>\n",
       "    </tr>\n",
       "  </thead>\n",
       "  <tbody>\n",
       "    <tr>\n",
       "      <th>0</th>\n",
       "      <td>2.987250e+13</td>\n",
       "      <td>5642903</td>\n",
       "      <td>F</td>\n",
       "      <td>2016-04-29T18:38:08Z</td>\n",
       "      <td>2016-04-29T00:00:00Z</td>\n",
       "      <td>62</td>\n",
       "      <td>JARDIM DA PENHA</td>\n",
       "      <td>0</td>\n",
       "      <td>1</td>\n",
       "      <td>0</td>\n",
       "      <td>0</td>\n",
       "      <td>0</td>\n",
       "      <td>0</td>\n",
       "      <td>0</td>\n",
       "    </tr>\n",
       "    <tr>\n",
       "      <th>1</th>\n",
       "      <td>5.589978e+14</td>\n",
       "      <td>5642503</td>\n",
       "      <td>M</td>\n",
       "      <td>2016-04-29T16:08:27Z</td>\n",
       "      <td>2016-04-29T00:00:00Z</td>\n",
       "      <td>56</td>\n",
       "      <td>JARDIM DA PENHA</td>\n",
       "      <td>0</td>\n",
       "      <td>0</td>\n",
       "      <td>0</td>\n",
       "      <td>0</td>\n",
       "      <td>0</td>\n",
       "      <td>0</td>\n",
       "      <td>0</td>\n",
       "    </tr>\n",
       "    <tr>\n",
       "      <th>2</th>\n",
       "      <td>4.262962e+12</td>\n",
       "      <td>5642549</td>\n",
       "      <td>F</td>\n",
       "      <td>2016-04-29T16:19:04Z</td>\n",
       "      <td>2016-04-29T00:00:00Z</td>\n",
       "      <td>62</td>\n",
       "      <td>MATA DA PRAIA</td>\n",
       "      <td>0</td>\n",
       "      <td>0</td>\n",
       "      <td>0</td>\n",
       "      <td>0</td>\n",
       "      <td>0</td>\n",
       "      <td>0</td>\n",
       "      <td>0</td>\n",
       "    </tr>\n",
       "    <tr>\n",
       "      <th>3</th>\n",
       "      <td>8.679512e+11</td>\n",
       "      <td>5642828</td>\n",
       "      <td>F</td>\n",
       "      <td>2016-04-29T17:29:31Z</td>\n",
       "      <td>2016-04-29T00:00:00Z</td>\n",
       "      <td>8</td>\n",
       "      <td>PONTAL DE CAMBURI</td>\n",
       "      <td>0</td>\n",
       "      <td>0</td>\n",
       "      <td>0</td>\n",
       "      <td>0</td>\n",
       "      <td>0</td>\n",
       "      <td>0</td>\n",
       "      <td>0</td>\n",
       "    </tr>\n",
       "    <tr>\n",
       "      <th>4</th>\n",
       "      <td>8.841186e+12</td>\n",
       "      <td>5642494</td>\n",
       "      <td>F</td>\n",
       "      <td>2016-04-29T16:07:23Z</td>\n",
       "      <td>2016-04-29T00:00:00Z</td>\n",
       "      <td>56</td>\n",
       "      <td>JARDIM DA PENHA</td>\n",
       "      <td>0</td>\n",
       "      <td>1</td>\n",
       "      <td>1</td>\n",
       "      <td>0</td>\n",
       "      <td>0</td>\n",
       "      <td>0</td>\n",
       "      <td>0</td>\n",
       "    </tr>\n",
       "    <tr>\n",
       "      <th>...</th>\n",
       "      <td>...</td>\n",
       "      <td>...</td>\n",
       "      <td>...</td>\n",
       "      <td>...</td>\n",
       "      <td>...</td>\n",
       "      <td>...</td>\n",
       "      <td>...</td>\n",
       "      <td>...</td>\n",
       "      <td>...</td>\n",
       "      <td>...</td>\n",
       "      <td>...</td>\n",
       "      <td>...</td>\n",
       "      <td>...</td>\n",
       "      <td>...</td>\n",
       "    </tr>\n",
       "    <tr>\n",
       "      <th>110522</th>\n",
       "      <td>2.572134e+12</td>\n",
       "      <td>5651768</td>\n",
       "      <td>F</td>\n",
       "      <td>2016-05-03T09:15:35Z</td>\n",
       "      <td>2016-06-07T00:00:00Z</td>\n",
       "      <td>56</td>\n",
       "      <td>MARIA ORTIZ</td>\n",
       "      <td>0</td>\n",
       "      <td>0</td>\n",
       "      <td>0</td>\n",
       "      <td>0</td>\n",
       "      <td>0</td>\n",
       "      <td>1</td>\n",
       "      <td>0</td>\n",
       "    </tr>\n",
       "    <tr>\n",
       "      <th>110523</th>\n",
       "      <td>3.596266e+12</td>\n",
       "      <td>5650093</td>\n",
       "      <td>F</td>\n",
       "      <td>2016-05-03T07:27:33Z</td>\n",
       "      <td>2016-06-07T00:00:00Z</td>\n",
       "      <td>51</td>\n",
       "      <td>MARIA ORTIZ</td>\n",
       "      <td>0</td>\n",
       "      <td>0</td>\n",
       "      <td>0</td>\n",
       "      <td>0</td>\n",
       "      <td>0</td>\n",
       "      <td>1</td>\n",
       "      <td>0</td>\n",
       "    </tr>\n",
       "    <tr>\n",
       "      <th>110524</th>\n",
       "      <td>1.557663e+13</td>\n",
       "      <td>5630692</td>\n",
       "      <td>F</td>\n",
       "      <td>2016-04-27T16:03:52Z</td>\n",
       "      <td>2016-06-07T00:00:00Z</td>\n",
       "      <td>21</td>\n",
       "      <td>MARIA ORTIZ</td>\n",
       "      <td>0</td>\n",
       "      <td>0</td>\n",
       "      <td>0</td>\n",
       "      <td>0</td>\n",
       "      <td>0</td>\n",
       "      <td>1</td>\n",
       "      <td>0</td>\n",
       "    </tr>\n",
       "    <tr>\n",
       "      <th>110525</th>\n",
       "      <td>9.213493e+13</td>\n",
       "      <td>5630323</td>\n",
       "      <td>F</td>\n",
       "      <td>2016-04-27T15:09:23Z</td>\n",
       "      <td>2016-06-07T00:00:00Z</td>\n",
       "      <td>38</td>\n",
       "      <td>MARIA ORTIZ</td>\n",
       "      <td>0</td>\n",
       "      <td>0</td>\n",
       "      <td>0</td>\n",
       "      <td>0</td>\n",
       "      <td>0</td>\n",
       "      <td>1</td>\n",
       "      <td>0</td>\n",
       "    </tr>\n",
       "    <tr>\n",
       "      <th>110526</th>\n",
       "      <td>3.775115e+14</td>\n",
       "      <td>5629448</td>\n",
       "      <td>F</td>\n",
       "      <td>2016-04-27T13:30:56Z</td>\n",
       "      <td>2016-06-07T00:00:00Z</td>\n",
       "      <td>54</td>\n",
       "      <td>MARIA ORTIZ</td>\n",
       "      <td>0</td>\n",
       "      <td>0</td>\n",
       "      <td>0</td>\n",
       "      <td>0</td>\n",
       "      <td>0</td>\n",
       "      <td>1</td>\n",
       "      <td>0</td>\n",
       "    </tr>\n",
       "  </tbody>\n",
       "</table>\n",
       "<p>110327 rows × 14 columns</p>\n",
       "</div>"
      ],
      "text/plain": [
       "           PatientId  AppointmentID Gender          ScheduledDay  \\\n",
       "0       2.987250e+13        5642903      F  2016-04-29T18:38:08Z   \n",
       "1       5.589978e+14        5642503      M  2016-04-29T16:08:27Z   \n",
       "2       4.262962e+12        5642549      F  2016-04-29T16:19:04Z   \n",
       "3       8.679512e+11        5642828      F  2016-04-29T17:29:31Z   \n",
       "4       8.841186e+12        5642494      F  2016-04-29T16:07:23Z   \n",
       "...              ...            ...    ...                   ...   \n",
       "110522  2.572134e+12        5651768      F  2016-05-03T09:15:35Z   \n",
       "110523  3.596266e+12        5650093      F  2016-05-03T07:27:33Z   \n",
       "110524  1.557663e+13        5630692      F  2016-04-27T16:03:52Z   \n",
       "110525  9.213493e+13        5630323      F  2016-04-27T15:09:23Z   \n",
       "110526  3.775115e+14        5629448      F  2016-04-27T13:30:56Z   \n",
       "\n",
       "              AppointmentDay  Age      Neighbourhood  Scholarship  \\\n",
       "0       2016-04-29T00:00:00Z   62    JARDIM DA PENHA            0   \n",
       "1       2016-04-29T00:00:00Z   56    JARDIM DA PENHA            0   \n",
       "2       2016-04-29T00:00:00Z   62      MATA DA PRAIA            0   \n",
       "3       2016-04-29T00:00:00Z    8  PONTAL DE CAMBURI            0   \n",
       "4       2016-04-29T00:00:00Z   56    JARDIM DA PENHA            0   \n",
       "...                      ...  ...                ...          ...   \n",
       "110522  2016-06-07T00:00:00Z   56        MARIA ORTIZ            0   \n",
       "110523  2016-06-07T00:00:00Z   51        MARIA ORTIZ            0   \n",
       "110524  2016-06-07T00:00:00Z   21        MARIA ORTIZ            0   \n",
       "110525  2016-06-07T00:00:00Z   38        MARIA ORTIZ            0   \n",
       "110526  2016-06-07T00:00:00Z   54        MARIA ORTIZ            0   \n",
       "\n",
       "        Hipertension  Diabetes  Alcoholism  Handcap  SMS_received  No-show  \n",
       "0                  1         0           0        0             0        0  \n",
       "1                  0         0           0        0             0        0  \n",
       "2                  0         0           0        0             0        0  \n",
       "3                  0         0           0        0             0        0  \n",
       "4                  1         1           0        0             0        0  \n",
       "...              ...       ...         ...      ...           ...      ...  \n",
       "110522             0         0           0        0             1        0  \n",
       "110523             0         0           0        0             1        0  \n",
       "110524             0         0           0        0             1        0  \n",
       "110525             0         0           0        0             1        0  \n",
       "110526             0         0           0        0             1        0  \n",
       "\n",
       "[110327 rows x 14 columns]"
      ]
     },
     "execution_count": 14,
     "metadata": {},
     "output_type": "execute_result"
    }
   ],
   "source": [
    "# handcap must be boolean .. so we will drop other values \n",
    "Data.Handcap = [int(x) for x in Data.Handcap]\n",
    "sum(Data.Handcap >1) # 199 patients\n",
    "indices = Data[Data.Handcap >1].index #indices for patients with handcap values > 1\n",
    "Data = Data.drop(index=indices)\n",
    "Data"
   ]
  },
  {
   "cell_type": "markdown",
   "id": "65f11cab",
   "metadata": {
    "papermill": {
     "duration": 0.039045,
     "end_time": "2021-08-30T06:57:01.226116",
     "exception": false,
     "start_time": "2021-08-30T06:57:01.187071",
     "status": "completed"
    },
    "tags": []
   },
   "source": [
    "## EDA"
   ]
  },
  {
   "cell_type": "code",
   "execution_count": 15,
   "id": "a170c749",
   "metadata": {
    "execution": {
     "iopub.execute_input": "2021-08-30T06:57:01.310780Z",
     "iopub.status.busy": "2021-08-30T06:57:01.310114Z",
     "iopub.status.idle": "2021-08-30T06:57:01.438557Z",
     "shell.execute_reply": "2021-08-30T06:57:01.438951Z",
     "shell.execute_reply.started": "2021-08-30T05:57:40.167875Z"
    },
    "papermill": {
     "duration": 0.173011,
     "end_time": "2021-08-30T06:57:01.439124",
     "exception": false,
     "start_time": "2021-08-30T06:57:01.266113",
     "status": "completed"
    },
    "tags": []
   },
   "outputs": [
    {
     "name": "stdout",
     "output_type": "stream",
     "text": [
      "Attendance percentage = 79.81% \n",
      "Absence percentage = 20.19% \n"
     ]
    },
    {
     "name": "stderr",
     "output_type": "stream",
     "text": [
      "/opt/conda/lib/python3.7/site-packages/seaborn/_decorators.py:43: FutureWarning: Pass the following variable as a keyword arg: x. From version 0.12, the only valid positional argument will be `data`, and passing other arguments without an explicit keyword will result in an error or misinterpretation.\n",
      "  FutureWarning\n"
     ]
    },
    {
     "data": {
      "image/png": "[encoded data removed]",
      "text/plain": [
       "<Figure size 432x288 with 1 Axes>"
      ]
     },
     "metadata": {
      "needs_background": "light"
     },
     "output_type": "display_data"
    }
   ],
   "source": [
    "sb.countplot(Data['No-show'])\n",
    "print(\"Attendance percentage = {0:0.2f}% \".format(len(Data[Data['No-show']==0])  / (Data.shape[0]) *100))\n",
    "print(\"Absence percentage = {0:0.2f}% \".format(len(Data[Data['No-show']==1])  / (Data.shape[0]) *100))"
   ]
  },
  {
   "cell_type": "code",
   "execution_count": 16,
   "id": "5449719d",
   "metadata": {
    "execution": {
     "iopub.execute_input": "2021-08-30T06:57:01.524422Z",
     "iopub.status.busy": "2021-08-30T06:57:01.523772Z",
     "iopub.status.idle": "2021-08-30T06:57:02.350136Z",
     "shell.execute_reply": "2021-08-30T06:57:02.350650Z",
     "shell.execute_reply.started": "2021-08-30T05:57:40.318259Z"
    },
    "papermill": {
     "duration": 0.871786,
     "end_time": "2021-08-30T06:57:02.350823",
     "exception": false,
     "start_time": "2021-08-30T06:57:01.479037",
     "status": "completed"
    },
    "tags": []
   },
   "outputs": [
    {
     "data": {
      "text/plain": [
       "<AxesSubplot:>"
      ]
     },
     "execution_count": 16,
     "metadata": {},
     "output_type": "execute_result"
    },
    {
     "data": {
      "image/png": "[encoded data removed]",
      "text/plain": [
       "<Figure size 432x288 with 2 Axes>"
      ]
     },
     "metadata": {
      "needs_background": "light"
     },
     "output_type": "display_data"
    }
   ],
   "source": [
    "#correlation between features\n",
    "sb.heatmap(Data.corr(),annot=True,linewidths=1,fmt='0.2f')"
   ]
  },
  {
   "cell_type": "markdown",
   "id": "7cc8104c",
   "metadata": {
    "papermill": {
     "duration": 0.042219,
     "end_time": "2021-08-30T06:57:02.436321",
     "exception": false,
     "start_time": "2021-08-30T06:57:02.394102",
     "status": "completed"
    },
    "tags": []
   },
   "source": [
    "poor correlation with dependant variable but we see good correlation between \n",
    "age & hipertension , diabetes & hipertension and diabetes & age .. True medical fact "
   ]
  },
  {
   "cell_type": "code",
   "execution_count": 17,
   "id": "b6bd182b",
   "metadata": {
    "execution": {
     "iopub.execute_input": "2021-08-30T06:57:02.523789Z",
     "iopub.status.busy": "2021-08-30T06:57:02.523193Z",
     "iopub.status.idle": "2021-08-30T06:57:02.713497Z",
     "shell.execute_reply": "2021-08-30T06:57:02.713978Z",
     "shell.execute_reply.started": "2021-08-30T05:57:41.268275Z"
    },
    "papermill": {
     "duration": 0.235334,
     "end_time": "2021-08-30T06:57:02.714168",
     "exception": false,
     "start_time": "2021-08-30T06:57:02.478834",
     "status": "completed"
    },
    "tags": []
   },
   "outputs": [
    {
     "name": "stdout",
     "output_type": "stream",
     "text": [
      "SMS received attendance percentage = 72.41 %\n",
      "No SMS received attendance percentage = 83.31 %\n"
     ]
    },
    {
     "data": {
      "image/png": "[encoded data removed]",
      "text/plain": [
       "<Figure size 432x288 with 1 Axes>"
      ]
     },
     "metadata": {
      "needs_background": "light"
     },
     "output_type": "display_data"
    }
   ],
   "source": [
    "sb.countplot(x=Data['SMS_received'],hue=Data['No-show'])\n",
    "\n",
    "SMS_received_attendance_percentage = len(Data[(Data['SMS_received']== 1 ) & (Data['No-show']==0)]) / len(Data[Data['SMS_received'] == 1])*100\n",
    "print('SMS received attendance percentage = {0:0.2f} %'.format(SMS_received_attendance_percentage))\n",
    "\n",
    "No_SMS_received_attendance_percentage =len(Data[(Data['SMS_received']== 0 ) & (Data['No-show']==0)]) / len(Data[Data['SMS_received'] == 0])*100\n",
    "print('No SMS received attendance percentage = {0:0.2f} %'.format(No_SMS_received_attendance_percentage))"
   ]
  },
  {
   "cell_type": "markdown",
   "id": "1a210c9d",
   "metadata": {
    "papermill": {
     "duration": 0.042766,
     "end_time": "2021-08-30T06:57:02.800044",
     "exception": false,
     "start_time": "2021-08-30T06:57:02.757278",
     "status": "completed"
    },
    "tags": []
   },
   "source": [
    "so the people who already received a SMS are almost divided equally between show and No-show but we have\n",
    "a higher percentage of attendance for people who didn't receive a SMS\n",
    "we may run a Matched pair design A/B test to see how SMS affect no-show"
   ]
  },
  {
   "cell_type": "code",
   "execution_count": 18,
   "id": "4cce9e27",
   "metadata": {
    "execution": {
     "iopub.execute_input": "2021-08-30T06:57:02.892801Z",
     "iopub.status.busy": "2021-08-30T06:57:02.892176Z",
     "iopub.status.idle": "2021-08-30T06:57:03.168878Z",
     "shell.execute_reply": "2021-08-30T06:57:03.169326Z",
     "shell.execute_reply.started": "2021-08-30T05:57:41.497567Z"
    },
    "papermill": {
     "duration": 0.326494,
     "end_time": "2021-08-30T06:57:03.169499",
     "exception": false,
     "start_time": "2021-08-30T06:57:02.843005",
     "status": "completed"
    },
    "tags": []
   },
   "outputs": [
    {
     "name": "stdout",
     "output_type": "stream",
     "text": [
      "Handcap attendance percentage = 82.08 %\n",
      "No Handcap attendance percentage = 79.76 %\n"
     ]
    },
    {
     "data": {
      "image/png": "[encoded data removed]",
      "text/plain": [
       "<Figure size 432x288 with 1 Axes>"
      ]
     },
     "metadata": {
      "needs_background": "light"
     },
     "output_type": "display_data"
    }
   ],
   "source": [
    "sb.countplot(x=Data['Handcap'],hue=Data['No-show'])\n",
    "\n",
    "Handcap_attendance_percentage = len(Data[(Data['Handcap']== 1 ) & (Data['No-show']==0)]) / len(Data[Data['Handcap'] == 1])*100\n",
    "print('Handcap attendance percentage = {0:0.2f} %'.format(Handcap_attendance_percentage))\n",
    "\n",
    "No_Handcap_attendance_percentage =len(Data[(Data['Handcap']== 0 ) & (Data['No-show']==0)]) / len(Data[Data['Handcap'] == 0])*100\n",
    "print('No Handcap attendance percentage = {0:0.2f} %'.format(No_Handcap_attendance_percentage))"
   ]
  },
  {
   "cell_type": "markdown",
   "id": "f864027d",
   "metadata": {
    "papermill": {
     "duration": 0.043788,
     "end_time": "2021-08-30T06:57:03.257871",
     "exception": false,
     "start_time": "2021-08-30T06:57:03.214083",
     "status": "completed"
    },
    "tags": []
   },
   "source": [
    "we have a higher number of people who had a handcap classified as No-show but \n",
    " seems that it doesn't affect No-show as the percents of attendance are almost equal"
   ]
  },
  {
   "cell_type": "code",
   "execution_count": 19,
   "id": "34422701",
   "metadata": {
    "execution": {
     "iopub.execute_input": "2021-08-30T06:57:03.351423Z",
     "iopub.status.busy": "2021-08-30T06:57:03.350787Z",
     "iopub.status.idle": "2021-08-30T06:57:03.542796Z",
     "shell.execute_reply": "2021-08-30T06:57:03.542038Z",
     "shell.execute_reply.started": "2021-08-30T05:57:41.845948Z"
    },
    "papermill": {
     "duration": 0.241482,
     "end_time": "2021-08-30T06:57:03.542932",
     "exception": false,
     "start_time": "2021-08-30T06:57:03.301450",
     "status": "completed"
    },
    "tags": []
   },
   "outputs": [
    {
     "name": "stdout",
     "output_type": "stream",
     "text": [
      "Alcoholism attendance percentage = 79.86 %\n",
      "No Alcoholism attendance percentage = 79.81 %\n"
     ]
    },
    {
     "data": {
      "image/png": "[encoded data removed]",
      "text/plain": [
       "<Figure size 432x288 with 1 Axes>"
      ]
     },
     "metadata": {
      "needs_background": "light"
     },
     "output_type": "display_data"
    }
   ],
   "source": [
    "sb.countplot(x=Data['Alcoholism'],hue=Data['No-show'])\n",
    "\n",
    "Alcoholism_attendance_percentage = len(Data[(Data['Alcoholism']== 1 ) & (Data['No-show']==0)]) / len(Data[Data['Alcoholism'] == 1])*100\n",
    "print('Alcoholism attendance percentage = {0:0.2f} %'.format(Alcoholism_attendance_percentage))\n",
    "\n",
    "No_Alcoholism_attendance_percentage =len(Data[(Data['Alcoholism']== 0 ) & (Data['No-show']==0)]) / len(Data[Data['Alcoholism'] == 0])*100\n",
    "print('No Alcoholism attendance percentage = {0:0.2f} %'.format(No_Alcoholism_attendance_percentage))"
   ]
  },
  {
   "cell_type": "markdown",
   "id": "ddbcfdf2",
   "metadata": {
    "papermill": {
     "duration": 0.044497,
     "end_time": "2021-08-30T06:57:03.632146",
     "exception": false,
     "start_time": "2021-08-30T06:57:03.587649",
     "status": "completed"
    },
    "tags": []
   },
   "source": [
    "we have a higher number of people who are alcoholists classified as No-show but \n",
    " seems that it doesn't affect No-show as the percents of attendance are equal"
   ]
  },
  {
   "cell_type": "code",
   "execution_count": 20,
   "id": "ac5009b2",
   "metadata": {
    "execution": {
     "iopub.execute_input": "2021-08-30T06:57:03.727945Z",
     "iopub.status.busy": "2021-08-30T06:57:03.727348Z",
     "iopub.status.idle": "2021-08-30T06:57:03.922852Z",
     "shell.execute_reply": "2021-08-30T06:57:03.923302Z",
     "shell.execute_reply.started": "2021-08-30T05:57:42.080595Z"
    },
    "papermill": {
     "duration": 0.246768,
     "end_time": "2021-08-30T06:57:03.923479",
     "exception": false,
     "start_time": "2021-08-30T06:57:03.676711",
     "status": "completed"
    },
    "tags": []
   },
   "outputs": [
    {
     "name": "stdout",
     "output_type": "stream",
     "text": [
      "Diabetes attendance percentage = 82.00 %\n",
      "No Diabetes attendance percentage = 79.64 %\n"
     ]
    },
    {
     "data": {
      "image/png": "[encoded data removed]",
      "text/plain": [
       "<Figure size 432x288 with 1 Axes>"
      ]
     },
     "metadata": {
      "needs_background": "light"
     },
     "output_type": "display_data"
    }
   ],
   "source": [
    "sb.countplot(x=Data['Diabetes'],hue=Data['No-show'])\n",
    "\n",
    "Diabetes_attendance_percentage = len(Data[(Data['Diabetes']== 1 ) & (Data['No-show']==0)]) / len(Data[Data['Diabetes'] == 1])*100\n",
    "print('Diabetes attendance percentage = {0:0.2f} %'.format(Diabetes_attendance_percentage))\n",
    "\n",
    "No_Diabetes_attendance_percentage =len(Data[(Data['Diabetes']== 0 ) & (Data['No-show']==0)]) / len(Data[Data['Diabetes'] == 0])*100\n",
    "print('No Diabetes attendance percentage = {0:0.2f} %'.format(No_Diabetes_attendance_percentage))"
   ]
  },
  {
   "cell_type": "markdown",
   "id": "8da843ac",
   "metadata": {
    "papermill": {
     "duration": 0.045761,
     "end_time": "2021-08-30T06:57:04.014746",
     "exception": false,
     "start_time": "2021-08-30T06:57:03.968985",
     "status": "completed"
    },
    "tags": []
   },
   "source": [
    "we have a higher number of people who have diabetes classified as No-show but \n",
    " seems that it doesn't affect No-show as the percents of attendance are almost equal"
   ]
  },
  {
   "cell_type": "code",
   "execution_count": 21,
   "id": "c04125ce",
   "metadata": {
    "execution": {
     "iopub.execute_input": "2021-08-30T06:57:04.113304Z",
     "iopub.status.busy": "2021-08-30T06:57:04.112699Z",
     "iopub.status.idle": "2021-08-30T06:57:04.308743Z",
     "shell.execute_reply": "2021-08-30T06:57:04.308247Z",
     "shell.execute_reply.started": "2021-08-30T05:57:42.316564Z"
    },
    "papermill": {
     "duration": 0.248488,
     "end_time": "2021-08-30T06:57:04.308893",
     "exception": false,
     "start_time": "2021-08-30T06:57:04.060405",
     "status": "completed"
    },
    "tags": []
   },
   "outputs": [
    {
     "name": "stdout",
     "output_type": "stream",
     "text": [
      "Scholarship attendance percentage = 82.00 %\n",
      "No Scholarship attendance percentage = 76.23 %\n"
     ]
    },
    {
     "data": {
      "image/png": "[encoded data removed]",
      "text/plain": [
       "<Figure size 432x288 with 1 Axes>"
      ]
     },
     "metadata": {
      "needs_background": "light"
     },
     "output_type": "display_data"
    }
   ],
   "source": [
    "sb.countplot(x=Data['Scholarship'],hue=Data['No-show'])\n",
    "\n",
    "Scholarship_attendance_percentage = len(Data[(Data['Scholarship']== 1 ) & (Data['No-show']==0)]) / len(Data[Data['Scholarship'] == 1])*100\n",
    "print('Scholarship attendance percentage = {0:0.2f} %'.format(Diabetes_attendance_percentage))\n",
    "\n",
    "No_Scholarship_attendance_percentage =len(Data[(Data['Scholarship']== 0 ) & (Data['No-show']==0)]) / len(Data[Data['Scholarship'] == 0])*100\n",
    "print('No Scholarship attendance percentage = {0:0.2f} %'.format(Scholarship_attendance_percentage))"
   ]
  },
  {
   "cell_type": "markdown",
   "id": "e9c9664a",
   "metadata": {
    "papermill": {
     "duration": 0.047382,
     "end_time": "2021-08-30T06:57:04.404282",
     "exception": false,
     "start_time": "2021-08-30T06:57:04.356900",
     "status": "completed"
    },
    "tags": []
   },
   "source": [
    "we have a higher number of people who have scholarships classified as No-show but \n",
    " seems that it doesn't affect No-show as the percents of attendance are almost equal"
   ]
  },
  {
   "cell_type": "code",
   "execution_count": 22,
   "id": "ae4e4aeb",
   "metadata": {
    "execution": {
     "iopub.execute_input": "2021-08-30T06:57:04.506313Z",
     "iopub.status.busy": "2021-08-30T06:57:04.505684Z",
     "iopub.status.idle": "2021-08-30T06:57:04.696734Z",
     "shell.execute_reply": "2021-08-30T06:57:04.696088Z",
     "shell.execute_reply.started": "2021-08-30T05:57:42.549065Z"
    },
    "papermill": {
     "duration": 0.244134,
     "end_time": "2021-08-30T06:57:04.696876",
     "exception": false,
     "start_time": "2021-08-30T06:57:04.452742",
     "status": "completed"
    },
    "tags": []
   },
   "outputs": [
    {
     "name": "stdout",
     "output_type": "stream",
     "text": [
      "Hipertension attendance percentage = 82.00 %\n",
      "No Hipertension attendance percentage = 79.09 %\n"
     ]
    },
    {
     "data": {
      "image/png": "[encoded data removed]",
      "text/plain": [
       "<Figure size 432x288 with 1 Axes>"
      ]
     },
     "metadata": {
      "needs_background": "light"
     },
     "output_type": "display_data"
    }
   ],
   "source": [
    "sb.countplot(x=Data['Hipertension'],hue=Data['No-show'])\n",
    "\n",
    "Hipertension_attendance_percentage = len(Data[(Data['Hipertension']== 1 ) & (Data['No-show']==0)]) / len(Data[Data['Hipertension'] == 1])*100\n",
    "print('Hipertension attendance percentage = {0:0.2f} %'.format(Diabetes_attendance_percentage))\n",
    "\n",
    "No_Hipertension_attendance_percentage =len(Data[(Data['Hipertension']== 0 ) & (Data['No-show']==0)]) / len(Data[Data['Hipertension'] == 0])*100\n",
    "print('No Hipertension attendance percentage = {0:0.2f} %'.format(No_Hipertension_attendance_percentage))"
   ]
  },
  {
   "cell_type": "markdown",
   "id": "c23fb136",
   "metadata": {
    "papermill": {
     "duration": 0.047842,
     "end_time": "2021-08-30T06:57:04.793015",
     "exception": false,
     "start_time": "2021-08-30T06:57:04.745173",
     "status": "completed"
    },
    "tags": []
   },
   "source": [
    "we have a higher number of people who have Hipertension classified as No-show but \n",
    " seems that it doesn't affect No-show as the percents of attendance are almost equal"
   ]
  },
  {
   "cell_type": "code",
   "execution_count": 23,
   "id": "ad1c2710",
   "metadata": {
    "execution": {
     "iopub.execute_input": "2021-08-30T06:57:04.925737Z",
     "iopub.status.busy": "2021-08-30T06:57:04.899796Z",
     "iopub.status.idle": "2021-08-30T06:57:05.163296Z",
     "shell.execute_reply": "2021-08-30T06:57:05.162804Z",
     "shell.execute_reply.started": "2021-08-30T05:57:42.77771Z"
    },
    "papermill": {
     "duration": 0.322004,
     "end_time": "2021-08-30T06:57:05.163431",
     "exception": false,
     "start_time": "2021-08-30T06:57:04.841427",
     "status": "completed"
    },
    "tags": []
   },
   "outputs": [
    {
     "name": "stdout",
     "output_type": "stream",
     "text": [
      "males attendance percentage = 80.02 %\n",
      "femles attendance percentage = 79.69 %\n"
     ]
    },
    {
     "data": {
      "image/png": "[encoded data removed]",
      "text/plain": [
       "<Figure size 432x288 with 1 Axes>"
      ]
     },
     "metadata": {
      "needs_background": "light"
     },
     "output_type": "display_data"
    }
   ],
   "source": [
    "sb.countplot(x=Data['Gender'],hue=Data['No-show'])\n",
    "\n",
    "males_attendance_percentage = len(Data[(Data.Gender == 'M') & (Data['No-show']==0)]) / len(Data[Data.Gender == 'M'])*100\n",
    "print('males attendance percentage = {0:0.2f} %'.format(males_attendance_percentage))\n",
    "\n",
    "females_attendance_percentage = len(Data[(Data.Gender == 'F') & (Data['No-show']==0)]) / len(Data[Data.Gender == 'F'])*100\n",
    "print('femles attendance percentage = {0:0.2f} %'.format(females_attendance_percentage))"
   ]
  },
  {
   "cell_type": "markdown",
   "id": "45dd3734",
   "metadata": {
    "papermill": {
     "duration": 0.050697,
     "end_time": "2021-08-30T06:57:05.265137",
     "exception": false,
     "start_time": "2021-08-30T06:57:05.214440",
     "status": "completed"
    },
    "tags": []
   },
   "source": [
    "altough number of female patients are almost twice the number of male patients but we have almost \n",
    "    equal percentage of attendance for both"
   ]
  },
  {
   "cell_type": "code",
   "execution_count": 24,
   "id": "f377e171",
   "metadata": {
    "execution": {
     "iopub.execute_input": "2021-08-30T06:57:05.372731Z",
     "iopub.status.busy": "2021-08-30T06:57:05.372054Z",
     "iopub.status.idle": "2021-08-30T06:57:06.617293Z",
     "shell.execute_reply": "2021-08-30T06:57:06.616159Z",
     "shell.execute_reply.started": "2021-08-30T05:57:43.181398Z"
    },
    "papermill": {
     "duration": 1.303258,
     "end_time": "2021-08-30T06:57:06.617449",
     "exception": false,
     "start_time": "2021-08-30T06:57:05.314191",
     "status": "completed"
    },
    "tags": []
   },
   "outputs": [],
   "source": [
    "#we have 81 neighbourhood so we couldn't show in a plot \n",
    "#but we will see what neighbourhoods have the highest and the lowesr percents of attendance \n",
    "\n",
    "Neighbourhoods_names = Data.Neighbourhood.unique()\n",
    "Neighbourhoods = []\n",
    "Neighbourhood_attendance_percentage = []\n",
    "for i in Neighbourhoods_names:\n",
    "    Neighbourhood = str(i)\n",
    "    Neighbourhood_attendance_per = len(Data[(Data.Neighbourhood == str(i)) & (Data['No-show']==0)]) / len(Data[Data.Neighbourhood ==str(i)])*100\n",
    "    Neighbourhoods.append(Neighbourhood)\n",
    "    Neighbourhood_attendance_percentage.append(Neighbourhood_attendance_per)"
   ]
  },
  {
   "cell_type": "code",
   "execution_count": 25,
   "id": "252eae33",
   "metadata": {
    "execution": {
     "iopub.execute_input": "2021-08-30T06:57:06.726474Z",
     "iopub.status.busy": "2021-08-30T06:57:06.725747Z",
     "iopub.status.idle": "2021-08-30T06:57:06.729003Z",
     "shell.execute_reply": "2021-08-30T06:57:06.729410Z",
     "shell.execute_reply.started": "2021-08-30T05:57:45.999101Z"
    },
    "papermill": {
     "duration": 0.063306,
     "end_time": "2021-08-30T06:57:06.729585",
     "exception": false,
     "start_time": "2021-08-30T06:57:06.666279",
     "status": "completed"
    },
    "tags": []
   },
   "outputs": [
    {
     "data": {
      "text/plain": [
       "count     81.000000\n",
       "mean      79.444444\n",
       "std        9.712106\n",
       "min        0.000000\n",
       "25%       78.000000\n",
       "50%       80.000000\n",
       "75%       82.000000\n",
       "max      100.000000\n",
       "Name: Percentage, dtype: float64"
      ]
     },
     "execution_count": 25,
     "metadata": {},
     "output_type": "execute_result"
    }
   ],
   "source": [
    "Neighbourhoods_attendance_percentages = pd.DataFrame(data=Neighbourhoods_names,columns=['Neighbourhood']) \n",
    "Neighbourhoods_attendance_percentages['Percentage']= np.array(Neighbourhood_attendance_percentage).round()\n",
    "Neighbourhoods_attendance_percentages = Neighbourhoods_attendance_percentages.sort_values(by='Percentage',)\n",
    "Neighbourhoods_attendance_percentages['Percentage'].describe(include='all')"
   ]
  },
  {
   "cell_type": "code",
   "execution_count": 26,
   "id": "a033dd93",
   "metadata": {
    "execution": {
     "iopub.execute_input": "2021-08-30T06:57:06.855277Z",
     "iopub.status.busy": "2021-08-30T06:57:06.853976Z",
     "iopub.status.idle": "2021-08-30T06:57:07.079462Z",
     "shell.execute_reply": "2021-08-30T06:57:07.078988Z",
     "shell.execute_reply.started": "2021-08-30T05:57:46.01474Z"
    },
    "papermill": {
     "duration": 0.301834,
     "end_time": "2021-08-30T06:57:07.079599",
     "exception": false,
     "start_time": "2021-08-30T06:57:06.777765",
     "status": "completed"
    },
    "tags": []
   },
   "outputs": [
    {
     "name": "stderr",
     "output_type": "stream",
     "text": [
      "/opt/conda/lib/python3.7/site-packages/seaborn/distributions.py:2557: FutureWarning: `distplot` is a deprecated function and will be removed in a future version. Please adapt your code to use either `displot` (a figure-level function with similar flexibility) or `histplot` (an axes-level function for histograms).\n",
      "  warnings.warn(msg, FutureWarning)\n"
     ]
    },
    {
     "data": {
      "text/plain": [
       "<AxesSubplot:xlabel='Percentage', ylabel='Density'>"
      ]
     },
     "execution_count": 26,
     "metadata": {},
     "output_type": "execute_result"
    },
    {
     "data": {
      "image/png": "[encoded data removed]",
      "text/plain": [
       "<Figure size 432x288 with 1 Axes>"
      ]
     },
     "metadata": {
      "needs_background": "light"
     },
     "output_type": "display_data"
    }
   ],
   "source": [
    "sb.distplot(Neighbourhoods_attendance_percentages['Percentage'])"
   ]
  },
  {
   "cell_type": "markdown",
   "id": "796e7862",
   "metadata": {
    "papermill": {
     "duration": 0.04981,
     "end_time": "2021-08-30T06:57:07.179319",
     "exception": false,
     "start_time": "2021-08-30T06:57:07.129509",
     "status": "completed"
    },
    "tags": []
   },
   "source": [
    "so we have an average attendance of 79.5% per each neighbourhood but we have high standard deviation\n",
    "because we have some neighbour close to 100 percent "
   ]
  },
  {
   "cell_type": "code",
   "execution_count": 27,
   "id": "ee344d47",
   "metadata": {
    "execution": {
     "iopub.execute_input": "2021-08-30T06:57:07.289931Z",
     "iopub.status.busy": "2021-08-30T06:57:07.289335Z",
     "iopub.status.idle": "2021-08-30T06:57:07.294152Z",
     "shell.execute_reply": "2021-08-30T06:57:07.293602Z",
     "shell.execute_reply.started": "2021-08-30T05:57:46.321942Z"
    },
    "papermill": {
     "duration": 0.06452,
     "end_time": "2021-08-30T06:57:07.294315",
     "exception": false,
     "start_time": "2021-08-30T06:57:07.229795",
     "status": "completed"
    },
    "tags": []
   },
   "outputs": [
    {
     "data": {
      "text/html": [
       "<div>\n",
       "<style scoped>\n",
       "    .dataframe tbody tr th:only-of-type {\n",
       "        vertical-align: middle;\n",
       "    }\n",
       "\n",
       "    .dataframe tbody tr th {\n",
       "        vertical-align: top;\n",
       "    }\n",
       "\n",
       "    .dataframe thead th {\n",
       "        text-align: right;\n",
       "    }\n",
       "</style>\n",
       "<table border=\"1\" class=\"dataframe\">\n",
       "  <thead>\n",
       "    <tr style=\"text-align: right;\">\n",
       "      <th></th>\n",
       "      <th>Neighbourhood</th>\n",
       "      <th>Percentage</th>\n",
       "    </tr>\n",
       "  </thead>\n",
       "  <tbody>\n",
       "    <tr>\n",
       "      <th>75</th>\n",
       "      <td>ILHA DO BOI</td>\n",
       "      <td>91.0</td>\n",
       "    </tr>\n",
       "    <tr>\n",
       "      <th>80</th>\n",
       "      <td>PARQUE INDUSTRIAL</td>\n",
       "      <td>100.0</td>\n",
       "    </tr>\n",
       "  </tbody>\n",
       "</table>\n",
       "</div>"
      ],
      "text/plain": [
       "        Neighbourhood  Percentage\n",
       "75        ILHA DO BOI        91.0\n",
       "80  PARQUE INDUSTRIAL       100.0"
      ]
     },
     "execution_count": 27,
     "metadata": {},
     "output_type": "execute_result"
    }
   ],
   "source": [
    "#checking neighbourhoods attendance percentages away from the mean (outliers)\n",
    "Neighbourhoods_attendance_percentages[Neighbourhoods_attendance_percentages['Percentage'] > 90]"
   ]
  },
  {
   "cell_type": "code",
   "execution_count": 28,
   "id": "9384937f",
   "metadata": {
    "execution": {
     "iopub.execute_input": "2021-08-30T06:57:07.416030Z",
     "iopub.status.busy": "2021-08-30T06:57:07.415400Z",
     "iopub.status.idle": "2021-08-30T06:57:07.429916Z",
     "shell.execute_reply": "2021-08-30T06:57:07.430649Z",
     "shell.execute_reply.started": "2021-08-30T05:57:46.337136Z"
    },
    "papermill": {
     "duration": 0.084514,
     "end_time": "2021-08-30T06:57:07.430898",
     "exception": false,
     "start_time": "2021-08-30T06:57:07.346384",
     "status": "completed"
    },
    "tags": []
   },
   "outputs": [
    {
     "name": "stdout",
     "output_type": "stream",
     "text": [
      "32\n",
      "35\n"
     ]
    }
   ],
   "source": [
    "print(len(Data[(Data.Neighbourhood =='ILHA DO BOI' ) & (Data['No-show']==0)]))\n",
    "print(len(Data[Data.Neighbourhood =='ILHA DO BOI'])) # 32 out of 35 attended the appointment"
   ]
  },
  {
   "cell_type": "code",
   "execution_count": 29,
   "id": "71632a6b",
   "metadata": {
    "execution": {
     "iopub.execute_input": "2021-08-30T06:57:07.545259Z",
     "iopub.status.busy": "2021-08-30T06:57:07.544261Z",
     "iopub.status.idle": "2021-08-30T06:57:07.557959Z",
     "shell.execute_reply": "2021-08-30T06:57:07.558396Z",
     "shell.execute_reply.started": "2021-08-30T05:57:46.383768Z"
    },
    "papermill": {
     "duration": 0.076632,
     "end_time": "2021-08-30T06:57:07.558571",
     "exception": false,
     "start_time": "2021-08-30T06:57:07.481939",
     "status": "completed"
    },
    "tags": []
   },
   "outputs": [
    {
     "name": "stdout",
     "output_type": "stream",
     "text": [
      "1\n",
      "1\n"
     ]
    }
   ],
   "source": [
    "print(len(Data[(Data.Neighbourhood =='PARQUE INDUSTRIAL' ) & (Data['No-show']==0)]))\n",
    "print(len(Data[Data.Neighbourhood =='PARQUE INDUSTRIAL'])) \n",
    "# there is only one patient from this neighbourhood"
   ]
  },
  {
   "cell_type": "code",
   "execution_count": 30,
   "id": "f4fe0c96",
   "metadata": {
    "execution": {
     "iopub.execute_input": "2021-08-30T06:57:07.676289Z",
     "iopub.status.busy": "2021-08-30T06:57:07.675267Z",
     "iopub.status.idle": "2021-08-30T06:57:07.682636Z",
     "shell.execute_reply": "2021-08-30T06:57:07.681821Z",
     "shell.execute_reply.started": "2021-08-30T05:57:46.427445Z"
    },
    "papermill": {
     "duration": 0.072327,
     "end_time": "2021-08-30T06:57:07.682778",
     "exception": false,
     "start_time": "2021-08-30T06:57:07.610451",
     "status": "completed"
    },
    "tags": []
   },
   "outputs": [
    {
     "name": "stdout",
     "output_type": "stream",
     "text": [
      "                  Neighbourhood  Percentage\n",
      "79  ILHAS OCEÂNICAS DE TRINDADE         0.0\n",
      "0\n"
     ]
    }
   ],
   "source": [
    "print(Neighbourhoods_attendance_percentages[Neighbourhoods_attendance_percentages['Percentage'] < 10])\n",
    "print(len(Data[(Data.Neighbourhood =='ILHAS OCEÂNICAS DE TRINDADE' ) & (Data['No-show']==0)]))\n",
    "# there is no patients in this neighbourhood"
   ]
  },
  {
   "cell_type": "code",
   "execution_count": 31,
   "id": "c082d14c",
   "metadata": {
    "execution": {
     "iopub.execute_input": "2021-08-30T06:57:07.789832Z",
     "iopub.status.busy": "2021-08-30T06:57:07.789182Z",
     "iopub.status.idle": "2021-08-30T06:57:07.937152Z",
     "shell.execute_reply": "2021-08-30T06:57:07.936671Z",
     "shell.execute_reply.started": "2021-08-30T05:57:46.455954Z"
    },
    "papermill": {
     "duration": 0.203982,
     "end_time": "2021-08-30T06:57:07.937303",
     "exception": false,
     "start_time": "2021-08-30T06:57:07.733321",
     "status": "completed"
    },
    "tags": []
   },
   "outputs": [
    {
     "name": "stderr",
     "output_type": "stream",
     "text": [
      "/opt/conda/lib/python3.7/site-packages/seaborn/_decorators.py:43: FutureWarning: Pass the following variables as keyword args: x, y. From version 0.12, the only valid positional argument will be `data`, and passing other arguments without an explicit keyword will result in an error or misinterpretation.\n",
      "  FutureWarning\n"
     ]
    },
    {
     "data": {
      "text/plain": [
       "<AxesSubplot:xlabel='No-show', ylabel='Age'>"
      ]
     },
     "execution_count": 31,
     "metadata": {},
     "output_type": "execute_result"
    },
    {
     "data": {
      "image/png": "[encoded data removed]",
      "text/plain": [
       "<Figure size 432x288 with 1 Axes>"
      ]
     },
     "metadata": {
      "needs_background": "light"
     },
     "output_type": "display_data"
    }
   ],
   "source": [
    "sb.boxplot(Data['No-show'],Data['Age'])"
   ]
  },
  {
   "cell_type": "code",
   "execution_count": 32,
   "id": "7c96f2f6",
   "metadata": {
    "execution": {
     "iopub.execute_input": "2021-08-30T06:57:08.047757Z",
     "iopub.status.busy": "2021-08-30T06:57:08.047109Z",
     "iopub.status.idle": "2021-08-30T06:57:09.009864Z",
     "shell.execute_reply": "2021-08-30T06:57:09.010285Z",
     "shell.execute_reply.started": "2021-08-30T05:57:46.631623Z"
    },
    "papermill": {
     "duration": 1.021307,
     "end_time": "2021-08-30T06:57:09.010466",
     "exception": false,
     "start_time": "2021-08-30T06:57:07.989159",
     "status": "completed"
    },
    "tags": []
   },
   "outputs": [
    {
     "name": "stderr",
     "output_type": "stream",
     "text": [
      "/opt/conda/lib/python3.7/site-packages/seaborn/distributions.py:2557: FutureWarning: `distplot` is a deprecated function and will be removed in a future version. Please adapt your code to use either `displot` (a figure-level function with similar flexibility) or `histplot` (an axes-level function for histograms).\n",
      "  warnings.warn(msg, FutureWarning)\n",
      "/opt/conda/lib/python3.7/site-packages/seaborn/distributions.py:2557: FutureWarning: `distplot` is a deprecated function and will be removed in a future version. Please adapt your code to use either `displot` (a figure-level function with similar flexibility) or `histplot` (an axes-level function for histograms).\n",
      "  warnings.warn(msg, FutureWarning)\n"
     ]
    },
    {
     "data": {
      "text/plain": [
       "Text(0.5, 1.0, 'Comparing age distributions for show & No-show')"
      ]
     },
     "execution_count": 32,
     "metadata": {},
     "output_type": "execute_result"
    },
    {
     "data": {
      "image/png": "[encoded data removed]",
      "text/plain": [
       "<Figure size 432x288 with 1 Axes>"
      ]
     },
     "metadata": {
      "needs_background": "light"
     },
     "output_type": "display_data"
    }
   ],
   "source": [
    "# comparing the age distributions for both No-show and show\n",
    "sb.distplot(Data['Age'][Data['No-show'] == 0],bins=20,color='yellow') \n",
    "sb.distplot(Data['Age'][Data['No-show'] == 1],bins=20)\n",
    "plt.legend({'No-show = 0','No-show = 1'})\n",
    "plt.title('Comparing age distributions for show & No-show')"
   ]
  },
  {
   "cell_type": "markdown",
   "id": "aa2708f6",
   "metadata": {
    "papermill": {
     "duration": 0.053706,
     "end_time": "2021-08-30T06:57:09.117591",
     "exception": false,
     "start_time": "2021-08-30T06:57:09.063885",
     "status": "completed"
    },
    "tags": []
   },
   "source": [
    "seems that from 10 years to 40 years more people will ignore their appointments as the graph show a higher freqencies @ the blue curve in this period .. this is real fact as in this years everyone be more youth and powerful ... and at the first 5 years the patients attend ( the yellow curve shows higher density ) as thier parents care about them ... same for people above 45 we see higher density at the yellow curve meaning that they are more careful about attendence and their health"
   ]
  },
  {
   "cell_type": "code",
   "execution_count": 33,
   "id": "a82b9c47",
   "metadata": {
    "execution": {
     "iopub.execute_input": "2021-08-30T06:57:09.237296Z",
     "iopub.status.busy": "2021-08-30T06:57:09.232133Z",
     "iopub.status.idle": "2021-08-30T06:57:09.420861Z",
     "shell.execute_reply": "2021-08-30T06:57:09.420117Z",
     "shell.execute_reply.started": "2021-08-30T06:00:03.19114Z"
    },
    "papermill": {
     "duration": 0.250401,
     "end_time": "2021-08-30T06:57:09.421015",
     "exception": false,
     "start_time": "2021-08-30T06:57:09.170614",
     "status": "completed"
    },
    "tags": []
   },
   "outputs": [
    {
     "data": {
      "text/plain": [
       "0        2016-04-29\n",
       "1        2016-04-29\n",
       "2        2016-04-29\n",
       "3        2016-04-29\n",
       "4        2016-04-29\n",
       "            ...    \n",
       "110522   2016-05-03\n",
       "110523   2016-05-03\n",
       "110524   2016-04-27\n",
       "110525   2016-04-27\n",
       "110526   2016-04-27\n",
       "Name: ScheduledDay, Length: 110327, dtype: datetime64[ns]"
      ]
     },
     "execution_count": 33,
     "metadata": {},
     "output_type": "execute_result"
    }
   ],
   "source": [
    "## converting time\n",
    "import datetime as dt\n",
    "Data['ScheduledDay'] = pd.to_datetime(Data['ScheduledDay']).dt.date.astype('datetime64[ns]')\n",
    "Data['AppointmentDay'] = pd.to_datetime(Data['AppointmentDay']).dt.date.astype('datetime64[ns]')\n",
    "Data['ScheduledDay']"
   ]
  },
  {
   "cell_type": "code",
   "execution_count": 34,
   "id": "c7fffc16",
   "metadata": {
    "execution": {
     "iopub.execute_input": "2021-08-30T06:57:09.720041Z",
     "iopub.status.busy": "2021-08-30T06:57:09.543641Z",
     "iopub.status.idle": "2021-08-30T06:57:10.868203Z",
     "shell.execute_reply": "2021-08-30T06:57:10.867692Z",
     "shell.execute_reply.started": "2021-08-30T06:04:21.858814Z"
    },
    "papermill": {
     "duration": 1.391081,
     "end_time": "2021-08-30T06:57:10.868358",
     "exception": false,
     "start_time": "2021-08-30T06:57:09.477277",
     "status": "completed"
    },
    "tags": []
   },
   "outputs": [
    {
     "data": {
      "text/plain": [
       "[4, 4, 4, 4, 4, 2, 2, 2, 4, 2, 2, 1, 3, 3, 3, 1, 3, 3, 1, 4]"
      ]
     },
     "execution_count": 34,
     "metadata": {},
     "output_type": "execute_result"
    }
   ],
   "source": [
    "#exploring dates\n",
    "ScheduledDays = [ x.day for x in Data['ScheduledDay'] ]\n",
    "ScheduledDays_of_week = [ x.weekday() for x in Data['ScheduledDay'] ]\n",
    "ScheduledMonths = [ x.month for x in Data['ScheduledDay'] ]\n",
    "\n",
    "AppointmentDays = [ x.day for x in Data['AppointmentDay'] ]\n",
    "AppointmentDays_of_week = [ x.weekday() for x in Data['AppointmentDay'] ]\n",
    "AppointmentMonths = [ x.month for x in Data['AppointmentDay'] ]\n",
    "\n",
    "ScheduledDays_of_week[:20]"
   ]
  },
  {
   "cell_type": "code",
   "execution_count": 35,
   "id": "8e1a82f2",
   "metadata": {
    "execution": {
     "iopub.execute_input": "2021-08-30T06:57:11.030526Z",
     "iopub.status.busy": "2021-08-30T06:57:11.005798Z",
     "iopub.status.idle": "2021-08-30T06:57:11.145558Z",
     "shell.execute_reply": "2021-08-30T06:57:11.145018Z",
     "shell.execute_reply.started": "2021-08-30T06:05:35.38179Z"
    },
    "papermill": {
     "duration": 0.222524,
     "end_time": "2021-08-30T06:57:11.145695",
     "exception": false,
     "start_time": "2021-08-30T06:57:10.923171",
     "status": "completed"
    },
    "tags": []
   },
   "outputs": [
    {
     "data": {
      "text/html": [
       "<div>\n",
       "<style scoped>\n",
       "    .dataframe tbody tr th:only-of-type {\n",
       "        vertical-align: middle;\n",
       "    }\n",
       "\n",
       "    .dataframe tbody tr th {\n",
       "        vertical-align: top;\n",
       "    }\n",
       "\n",
       "    .dataframe thead th {\n",
       "        text-align: right;\n",
       "    }\n",
       "</style>\n",
       "<table border=\"1\" class=\"dataframe\">\n",
       "  <thead>\n",
       "    <tr style=\"text-align: right;\">\n",
       "      <th></th>\n",
       "      <th>ScheduledDays</th>\n",
       "      <th>ScheduledDays_of_week</th>\n",
       "      <th>ScheduledMonths</th>\n",
       "      <th>AppointmentDays</th>\n",
       "      <th>AppointmentDays_of_week</th>\n",
       "      <th>AppointmentMonths</th>\n",
       "      <th>No-show</th>\n",
       "    </tr>\n",
       "  </thead>\n",
       "  <tbody>\n",
       "    <tr>\n",
       "      <th>0</th>\n",
       "      <td>29</td>\n",
       "      <td>4</td>\n",
       "      <td>4</td>\n",
       "      <td>29</td>\n",
       "      <td>4</td>\n",
       "      <td>4</td>\n",
       "      <td>0.0</td>\n",
       "    </tr>\n",
       "    <tr>\n",
       "      <th>1</th>\n",
       "      <td>29</td>\n",
       "      <td>4</td>\n",
       "      <td>4</td>\n",
       "      <td>29</td>\n",
       "      <td>4</td>\n",
       "      <td>4</td>\n",
       "      <td>0.0</td>\n",
       "    </tr>\n",
       "    <tr>\n",
       "      <th>2</th>\n",
       "      <td>29</td>\n",
       "      <td>4</td>\n",
       "      <td>4</td>\n",
       "      <td>29</td>\n",
       "      <td>4</td>\n",
       "      <td>4</td>\n",
       "      <td>0.0</td>\n",
       "    </tr>\n",
       "    <tr>\n",
       "      <th>3</th>\n",
       "      <td>29</td>\n",
       "      <td>4</td>\n",
       "      <td>4</td>\n",
       "      <td>29</td>\n",
       "      <td>4</td>\n",
       "      <td>4</td>\n",
       "      <td>0.0</td>\n",
       "    </tr>\n",
       "    <tr>\n",
       "      <th>4</th>\n",
       "      <td>29</td>\n",
       "      <td>4</td>\n",
       "      <td>4</td>\n",
       "      <td>29</td>\n",
       "      <td>4</td>\n",
       "      <td>4</td>\n",
       "      <td>0.0</td>\n",
       "    </tr>\n",
       "  </tbody>\n",
       "</table>\n",
       "</div>"
      ],
      "text/plain": [
       "   ScheduledDays  ScheduledDays_of_week  ScheduledMonths  AppointmentDays  \\\n",
       "0             29                      4                4               29   \n",
       "1             29                      4                4               29   \n",
       "2             29                      4                4               29   \n",
       "3             29                      4                4               29   \n",
       "4             29                      4                4               29   \n",
       "\n",
       "   AppointmentDays_of_week  AppointmentMonths  No-show  \n",
       "0                        4                  4      0.0  \n",
       "1                        4                  4      0.0  \n",
       "2                        4                  4      0.0  \n",
       "3                        4                  4      0.0  \n",
       "4                        4                  4      0.0  "
      ]
     },
     "execution_count": 35,
     "metadata": {},
     "output_type": "execute_result"
    }
   ],
   "source": [
    "date_series = {'ScheduledDays':ScheduledDays,\n",
    "               'ScheduledDays_of_week':ScheduledDays_of_week,\n",
    "               'ScheduledMonths':ScheduledMonths,\n",
    "               'AppointmentDays':AppointmentDays,\n",
    "               'AppointmentDays_of_week':AppointmentDays_of_week,\n",
    "               'AppointmentMonths':AppointmentMonths,\n",
    "                   }\n",
    "#creating a detailed date datafrmae\n",
    "dates_indetail = pd.DataFrame(date_series)\n",
    "dates_indetail['No-show'] = Data['No-show']\n",
    "dates_indetail[:5]"
   ]
  },
  {
   "cell_type": "code",
   "execution_count": 36,
   "id": "c39e5dce",
   "metadata": {
    "execution": {
     "iopub.execute_input": "2021-08-30T06:57:11.261726Z",
     "iopub.status.busy": "2021-08-30T06:57:11.260723Z",
     "iopub.status.idle": "2021-08-30T06:57:11.305922Z",
     "shell.execute_reply": "2021-08-30T06:57:11.305462Z",
     "shell.execute_reply.started": "2021-08-30T06:06:12.327563Z"
    },
    "papermill": {
     "duration": 0.105537,
     "end_time": "2021-08-30T06:57:11.306057",
     "exception": false,
     "start_time": "2021-08-30T06:57:11.200520",
     "status": "completed"
    },
    "tags": []
   },
   "outputs": [
    {
     "data": {
      "text/html": [
       "<div>\n",
       "<style scoped>\n",
       "    .dataframe tbody tr th:only-of-type {\n",
       "        vertical-align: middle;\n",
       "    }\n",
       "\n",
       "    .dataframe tbody tr th {\n",
       "        vertical-align: top;\n",
       "    }\n",
       "\n",
       "    .dataframe thead th {\n",
       "        text-align: right;\n",
       "    }\n",
       "</style>\n",
       "<table border=\"1\" class=\"dataframe\">\n",
       "  <thead>\n",
       "    <tr style=\"text-align: right;\">\n",
       "      <th></th>\n",
       "      <th>ScheduledDays</th>\n",
       "      <th>ScheduledDays_of_week</th>\n",
       "      <th>ScheduledMonths</th>\n",
       "      <th>AppointmentDays</th>\n",
       "      <th>AppointmentDays_of_week</th>\n",
       "      <th>AppointmentMonths</th>\n",
       "      <th>No-show</th>\n",
       "    </tr>\n",
       "  </thead>\n",
       "  <tbody>\n",
       "    <tr>\n",
       "      <th>count</th>\n",
       "      <td>110327.000000</td>\n",
       "      <td>110327.000000</td>\n",
       "      <td>110327.000000</td>\n",
       "      <td>110327.000000</td>\n",
       "      <td>110327.000000</td>\n",
       "      <td>110327.000000</td>\n",
       "      <td>110127.000000</td>\n",
       "    </tr>\n",
       "    <tr>\n",
       "      <th>mean</th>\n",
       "      <td>14.252667</td>\n",
       "      <td>1.852067</td>\n",
       "      <td>4.823806</td>\n",
       "      <td>12.499361</td>\n",
       "      <td>1.858276</td>\n",
       "      <td>5.210094</td>\n",
       "      <td>0.201867</td>\n",
       "    </tr>\n",
       "    <tr>\n",
       "      <th>std</th>\n",
       "      <td>9.345836</td>\n",
       "      <td>1.378527</td>\n",
       "      <td>0.715840</td>\n",
       "      <td>9.056694</td>\n",
       "      <td>1.371710</td>\n",
       "      <td>0.473767</td>\n",
       "      <td>0.401395</td>\n",
       "    </tr>\n",
       "    <tr>\n",
       "      <th>min</th>\n",
       "      <td>1.000000</td>\n",
       "      <td>0.000000</td>\n",
       "      <td>1.000000</td>\n",
       "      <td>1.000000</td>\n",
       "      <td>0.000000</td>\n",
       "      <td>4.000000</td>\n",
       "      <td>0.000000</td>\n",
       "    </tr>\n",
       "    <tr>\n",
       "      <th>25%</th>\n",
       "      <td>6.000000</td>\n",
       "      <td>1.000000</td>\n",
       "      <td>4.000000</td>\n",
       "      <td>5.000000</td>\n",
       "      <td>1.000000</td>\n",
       "      <td>5.000000</td>\n",
       "      <td>0.000000</td>\n",
       "    </tr>\n",
       "    <tr>\n",
       "      <th>50%</th>\n",
       "      <td>13.000000</td>\n",
       "      <td>2.000000</td>\n",
       "      <td>5.000000</td>\n",
       "      <td>10.000000</td>\n",
       "      <td>2.000000</td>\n",
       "      <td>5.000000</td>\n",
       "      <td>0.000000</td>\n",
       "    </tr>\n",
       "    <tr>\n",
       "      <th>75%</th>\n",
       "      <td>22.000000</td>\n",
       "      <td>3.000000</td>\n",
       "      <td>5.000000</td>\n",
       "      <td>19.000000</td>\n",
       "      <td>3.000000</td>\n",
       "      <td>5.000000</td>\n",
       "      <td>0.000000</td>\n",
       "    </tr>\n",
       "    <tr>\n",
       "      <th>max</th>\n",
       "      <td>31.000000</td>\n",
       "      <td>5.000000</td>\n",
       "      <td>12.000000</td>\n",
       "      <td>31.000000</td>\n",
       "      <td>5.000000</td>\n",
       "      <td>6.000000</td>\n",
       "      <td>1.000000</td>\n",
       "    </tr>\n",
       "  </tbody>\n",
       "</table>\n",
       "</div>"
      ],
      "text/plain": [
       "       ScheduledDays  ScheduledDays_of_week  ScheduledMonths  AppointmentDays  \\\n",
       "count  110327.000000          110327.000000    110327.000000    110327.000000   \n",
       "mean       14.252667               1.852067         4.823806        12.499361   \n",
       "std         9.345836               1.378527         0.715840         9.056694   \n",
       "min         1.000000               0.000000         1.000000         1.000000   \n",
       "25%         6.000000               1.000000         4.000000         5.000000   \n",
       "50%        13.000000               2.000000         5.000000        10.000000   \n",
       "75%        22.000000               3.000000         5.000000        19.000000   \n",
       "max        31.000000               5.000000        12.000000        31.000000   \n",
       "\n",
       "       AppointmentDays_of_week  AppointmentMonths        No-show  \n",
       "count            110327.000000      110327.000000  110127.000000  \n",
       "mean                  1.858276           5.210094       0.201867  \n",
       "std                   1.371710           0.473767       0.401395  \n",
       "min                   0.000000           4.000000       0.000000  \n",
       "25%                   1.000000           5.000000       0.000000  \n",
       "50%                   2.000000           5.000000       0.000000  \n",
       "75%                   3.000000           5.000000       0.000000  \n",
       "max                   5.000000           6.000000       1.000000  "
      ]
     },
     "execution_count": 36,
     "metadata": {},
     "output_type": "execute_result"
    }
   ],
   "source": [
    "dates_indetail.describe(include='all')"
   ]
  },
  {
   "cell_type": "markdown",
   "id": "3f8636b0",
   "metadata": {
    "papermill": {
     "duration": 0.054125,
     "end_time": "2021-08-30T06:57:11.414138",
     "exception": false,
     "start_time": "2021-08-30T06:57:11.360013",
     "status": "completed"
    },
    "tags": []
   },
   "source": [
    "for both scheduled and appointment days of week , people like the first 3 days more"
   ]
  },
  {
   "cell_type": "code",
   "execution_count": 37,
   "id": "51c5f937",
   "metadata": {
    "execution": {
     "iopub.execute_input": "2021-08-30T06:57:11.543407Z",
     "iopub.status.busy": "2021-08-30T06:57:11.540421Z",
     "iopub.status.idle": "2021-08-30T06:57:12.915103Z",
     "shell.execute_reply": "2021-08-30T06:57:12.914638Z",
     "shell.execute_reply.started": "2021-08-30T06:06:58.767359Z"
    },
    "papermill": {
     "duration": 1.446751,
     "end_time": "2021-08-30T06:57:12.915248",
     "exception": false,
     "start_time": "2021-08-30T06:57:11.468497",
     "status": "completed"
    },
    "tags": []
   },
   "outputs": [
    {
     "name": "stderr",
     "output_type": "stream",
     "text": [
      "/opt/conda/lib/python3.7/site-packages/seaborn/distributions.py:2557: FutureWarning: `distplot` is a deprecated function and will be removed in a future version. Please adapt your code to use either `displot` (a figure-level function with similar flexibility) or `histplot` (an axes-level function for histograms).\n",
      "  warnings.warn(msg, FutureWarning)\n",
      "/opt/conda/lib/python3.7/site-packages/seaborn/distributions.py:2557: FutureWarning: `distplot` is a deprecated function and will be removed in a future version. Please adapt your code to use either `displot` (a figure-level function with similar flexibility) or `histplot` (an axes-level function for histograms).\n",
      "  warnings.warn(msg, FutureWarning)\n"
     ]
    },
    {
     "data": {
      "text/plain": [
       "Text(0.5, 1.0, 'Days of month')"
      ]
     },
     "execution_count": 37,
     "metadata": {},
     "output_type": "execute_result"
    },
    {
     "data": {
      "image/png": "[encoded data removed]",
      "text/plain": [
       "<Figure size 432x288 with 1 Axes>"
      ]
     },
     "metadata": {
      "needs_background": "light"
     },
     "output_type": "display_data"
    }
   ],
   "source": [
    "sb.distplot(ScheduledDays,bins=15)\n",
    "sb.distplot(AppointmentDays,bins=15)\n",
    "plt.legend({'ScheduledDays of month','AppointmentDays of month'})\n",
    "plt.title('Days of month')"
   ]
  },
  {
   "cell_type": "markdown",
   "id": "a5103c34",
   "metadata": {
    "papermill": {
     "duration": 0.058434,
     "end_time": "2021-08-30T06:57:13.030595",
     "exception": false,
     "start_time": "2021-08-30T06:57:12.972161",
     "status": "completed"
    },
    "tags": []
   },
   "source": [
    "so we could see that people calls more to schedule an appointment at the first and the end\n",
    "    of months as we see the decrease after the first 5 days till it reachs the lowest possible \n",
    "    @ the last 10 days of the month then it begins to increase @ the last days of month"
   ]
  },
  {
   "cell_type": "code",
   "execution_count": 38,
   "id": "8139c676",
   "metadata": {
    "execution": {
     "iopub.execute_input": "2021-08-30T06:57:13.169888Z",
     "iopub.status.busy": "2021-08-30T06:57:13.169184Z",
     "iopub.status.idle": "2021-08-30T06:57:13.432166Z",
     "shell.execute_reply": "2021-08-30T06:57:13.432930Z",
     "shell.execute_reply.started": "2021-08-30T06:07:36.211829Z"
    },
    "papermill": {
     "duration": 0.328303,
     "end_time": "2021-08-30T06:57:13.433101",
     "exception": false,
     "start_time": "2021-08-30T06:57:13.104798",
     "status": "completed"
    },
    "tags": []
   },
   "outputs": [
    {
     "name": "stderr",
     "output_type": "stream",
     "text": [
      "/opt/conda/lib/python3.7/site-packages/seaborn/_decorators.py:43: FutureWarning: Pass the following variable as a keyword arg: x. From version 0.12, the only valid positional argument will be `data`, and passing other arguments without an explicit keyword will result in an error or misinterpretation.\n",
      "  FutureWarning\n"
     ]
    },
    {
     "data": {
      "text/plain": [
       "<AxesSubplot:xlabel='AppointmentDays_of_week', ylabel='count'>"
      ]
     },
     "execution_count": 38,
     "metadata": {},
     "output_type": "execute_result"
    },
    {
     "data": {
      "image/png": "[encoded data removed]",
      "text/plain": [
       "<Figure size 432x288 with 1 Axes>"
      ]
     },
     "metadata": {
      "needs_background": "light"
     },
     "output_type": "display_data"
    }
   ],
   "source": [
    "sb.countplot(dates_indetail['AppointmentDays_of_week'],\n",
    "             hue = dates_indetail['No-show'])"
   ]
  },
  {
   "cell_type": "code",
   "execution_count": 39,
   "id": "d3b3af94",
   "metadata": {
    "execution": {
     "iopub.execute_input": "2021-08-30T06:57:13.556449Z",
     "iopub.status.busy": "2021-08-30T06:57:13.555545Z",
     "iopub.status.idle": "2021-08-30T06:57:13.586349Z",
     "shell.execute_reply": "2021-08-30T06:57:13.586745Z",
     "shell.execute_reply.started": "2021-08-30T06:08:24.140417Z"
    },
    "papermill": {
     "duration": 0.095529,
     "end_time": "2021-08-30T06:57:13.586911",
     "exception": false,
     "start_time": "2021-08-30T06:57:13.491382",
     "status": "completed"
    },
    "tags": []
   },
   "outputs": [
    {
     "name": "stdout",
     "output_type": "stream",
     "text": [
      "days of week  [4, 1, 0, 2, 3, 5]\n",
      "attendance percent for each day [80, 80, 80, 80, 79, 85]\n"
     ]
    }
   ],
   "source": [
    "days = []\n",
    "each_day_attendance_percent = []\n",
    "for i in dates_indetail['AppointmentDays_of_week'].unique():\n",
    "    percentage = len(dates_indetail[(dates_indetail['AppointmentDays_of_week'] == int(i)) & (dates_indetail['No-show'] == 0 )]) / len(dates_indetail[dates_indetail['AppointmentDays_of_week'] == int(i)])*100\n",
    "    days.append(i)\n",
    "    each_day_attendance_percent.append(percentage)\n",
    "    \n",
    "print('days of week ',days)\n",
    "print('attendance percent for each day' , [round(x) for x in each_day_attendance_percent ])"
   ]
  },
  {
   "cell_type": "markdown",
   "id": "257574b1",
   "metadata": {
    "papermill": {
     "duration": 0.057736,
     "end_time": "2021-08-30T06:57:13.702308",
     "exception": false,
     "start_time": "2021-08-30T06:57:13.644572",
     "status": "completed"
    },
    "tags": []
   },
   "source": [
    "we se almost equal percents so day of the week doesn't affect attendance rate"
   ]
  },
  {
   "cell_type": "code",
   "execution_count": 40,
   "id": "125de738",
   "metadata": {
    "execution": {
     "iopub.execute_input": "2021-08-30T06:57:13.828070Z",
     "iopub.status.busy": "2021-08-30T06:57:13.827385Z",
     "iopub.status.idle": "2021-08-30T06:57:14.004202Z",
     "shell.execute_reply": "2021-08-30T06:57:14.004644Z",
     "shell.execute_reply.started": "2021-08-30T06:09:18.201761Z"
    },
    "papermill": {
     "duration": 0.244532,
     "end_time": "2021-08-30T06:57:14.004825",
     "exception": false,
     "start_time": "2021-08-30T06:57:13.760293",
     "status": "completed"
    },
    "tags": []
   },
   "outputs": [
    {
     "name": "stderr",
     "output_type": "stream",
     "text": [
      "/opt/conda/lib/python3.7/site-packages/seaborn/_decorators.py:43: FutureWarning: Pass the following variable as a keyword arg: x. From version 0.12, the only valid positional argument will be `data`, and passing other arguments without an explicit keyword will result in an error or misinterpretation.\n",
      "  FutureWarning\n"
     ]
    },
    {
     "data": {
      "text/plain": [
       "<AxesSubplot:xlabel='AppointmentMonths', ylabel='count'>"
      ]
     },
     "execution_count": 40,
     "metadata": {},
     "output_type": "execute_result"
    },
    {
     "data": {
      "image/png": "[encoded data removed]",
      "text/plain": [
       "<Figure size 432x288 with 1 Axes>"
      ]
     },
     "metadata": {
      "needs_background": "light"
     },
     "output_type": "display_data"
    }
   ],
   "source": [
    "sb.countplot(dates_indetail['AppointmentMonths'],\n",
    "             hue = dates_indetail['No-show'])\n",
    "#seems that May was full of patients"
   ]
  },
  {
   "cell_type": "markdown",
   "id": "a4386db6",
   "metadata": {
    "papermill": {
     "duration": 0.061749,
     "end_time": "2021-08-30T06:57:14.125825",
     "exception": false,
     "start_time": "2021-08-30T06:57:14.064076",
     "status": "completed"
    },
    "tags": []
   },
   "source": [
    "## Multivariate Analysis\n"
   ]
  },
  {
   "cell_type": "code",
   "execution_count": 41,
   "id": "ab28c10c",
   "metadata": {
    "execution": {
     "iopub.execute_input": "2021-08-30T06:57:14.274122Z",
     "iopub.status.busy": "2021-08-30T06:57:14.273447Z",
     "iopub.status.idle": "2021-08-30T06:57:16.152815Z",
     "shell.execute_reply": "2021-08-30T06:57:16.152367Z",
     "shell.execute_reply.started": "2021-08-30T06:15:40.227814Z"
    },
    "papermill": {
     "duration": 1.966106,
     "end_time": "2021-08-30T06:57:16.152970",
     "exception": false,
     "start_time": "2021-08-30T06:57:14.186864",
     "status": "completed"
    },
    "tags": []
   },
   "outputs": [
    {
     "data": {
      "text/plain": [
       "<AxesSubplot:xlabel='No-show', ylabel='count'>"
      ]
     },
     "execution_count": 41,
     "metadata": {},
     "output_type": "execute_result"
    },
    {
     "data": {
      "image/png": "[encoded data removed]",
      "text/plain": [
       "<Figure size 720x1440 with 12 Axes>"
      ]
     },
     "metadata": {
      "needs_background": "light"
     },
     "output_type": "display_data"
    }
   ],
   "source": [
    "# Exploring each feature with SMS_received investigating how could they affect the attendance \n",
    "fig, ax = plt.subplots(6, 2,figsize=(10,20),sharey=True)\n",
    "fig.suptitle('SMS_received = 0             SMS_received = 1' , fontsize=25)\n",
    "sb.countplot( x= Data['No-show'][Data['SMS_received'] == 0 ] , hue=Data['Handcap'] , ax=ax[0,0] )\n",
    "sb.countplot( x= Data['No-show'][Data['SMS_received'] == 1 ] , hue=Data['Handcap'] , ax=ax[0,1] )\n",
    "sb.countplot( x= Data['No-show'][Data['SMS_received'] == 0 ] , hue=Data['Alcoholism'] , ax=ax[1,0] )\n",
    "sb.countplot( x= Data['No-show'][Data['SMS_received'] == 1 ] , hue=Data['Alcoholism'] , ax=ax[1,1] )\n",
    "sb.countplot( x= Data['No-show'][Data['SMS_received'] == 0 ] , hue=Data['Diabetes'] , ax=ax[2,0] )\n",
    "sb.countplot( x= Data['No-show'][Data['SMS_received'] == 1 ] , hue=Data['Diabetes'] , ax=ax[2,1] )\n",
    "sb.countplot( x= Data['No-show'][Data['SMS_received'] == 0 ] , hue=Data['Hipertension'] , ax=ax[3,0] )\n",
    "sb.countplot( x= Data['No-show'][Data['SMS_received'] == 1 ] , hue=Data['Hipertension'] , ax=ax[3,1] )\n",
    "sb.countplot( x= Data['No-show'][Data['SMS_received'] == 0 ] , hue=Data['Scholarship'] , ax=ax[4,0] )\n",
    "sb.countplot( x= Data['No-show'][Data['SMS_received'] == 1 ] , hue=Data['Scholarship'] , ax=ax[4,1] )\n",
    "sb.countplot( x= Data['No-show'][Data['SMS_received'] == 0 ] , hue=Data['Gender'] , ax=ax[5,0] )\n",
    "sb.countplot( x= Data['No-show'][Data['SMS_received'] == 1 ] , hue=Data['Gender'] , ax=ax[5,1] )"
   ]
  },
  {
   "cell_type": "markdown",
   "id": "828925bd",
   "metadata": {
    "papermill": {
     "duration": 0.063218,
     "end_time": "2021-08-30T06:57:16.279400",
     "exception": false,
     "start_time": "2021-08-30T06:57:16.216182",
     "status": "completed"
    },
    "tags": []
   },
   "source": [
    "now we could answer business questions for any feature and SMS_receiving for ex.\n",
    "### which one is better , sending SMS by gender or by scholarship ??!!\n",
    "we compare each pair of charts we will see how sending a SMS to people who have scholarships\n",
    "will decrease the No-show ( the will remember to attend the appointment ) but for gender\n",
    "seems that sending a SMS will not have any effect "
   ]
  },
  {
   "cell_type": "code",
   "execution_count": 42,
   "id": "37a42e00",
   "metadata": {
    "execution": {
     "iopub.execute_input": "2021-08-30T06:57:16.409567Z",
     "iopub.status.busy": "2021-08-30T06:57:16.408906Z",
     "iopub.status.idle": "2021-08-30T06:57:17.169132Z",
     "shell.execute_reply": "2021-08-30T06:57:17.168676Z",
     "shell.execute_reply.started": "2021-08-30T06:19:10.219371Z"
    },
    "papermill": {
     "duration": 0.82712,
     "end_time": "2021-08-30T06:57:17.169286",
     "exception": false,
     "start_time": "2021-08-30T06:57:16.342166",
     "status": "completed"
    },
    "tags": []
   },
   "outputs": [
    {
     "name": "stderr",
     "output_type": "stream",
     "text": [
      "/opt/conda/lib/python3.7/site-packages/seaborn/_decorators.py:43: FutureWarning: Pass the following variables as keyword args: x, y. From version 0.12, the only valid positional argument will be `data`, and passing other arguments without an explicit keyword will result in an error or misinterpretation.\n",
      "  FutureWarning\n"
     ]
    },
    {
     "data": {
      "text/plain": [
       "<AxesSubplot:xlabel='No-show', ylabel='Age'>"
      ]
     },
     "execution_count": 42,
     "metadata": {},
     "output_type": "execute_result"
    },
    {
     "data": {
      "image/png": "[encoded data removed]",
      "text/plain": [
       "<Figure size 432x288 with 1 Axes>"
      ]
     },
     "metadata": {
      "needs_background": "light"
     },
     "output_type": "display_data"
    }
   ],
   "source": [
    "sb.violinplot(Data['No-show'],Data['Age'],hue=Data['SMS_received'])"
   ]
  },
  {
   "cell_type": "markdown",
   "id": "d802616a",
   "metadata": {
    "papermill": {
     "duration": 0.066924,
     "end_time": "2021-08-30T06:57:17.301186",
     "exception": false,
     "start_time": "2021-08-30T06:57:17.234262",
     "status": "completed"
    },
    "tags": []
   },
   "source": [
    "we can see how the plot become denser in the age between 45 and 65 when we send a SMS\n",
    "    notice that this is mostly due to sending SMS because we can see how slightly the vilion\n",
    "    become denser in the same range if we don't send a SMS"
   ]
  },
  {
   "cell_type": "code",
   "execution_count": 43,
   "id": "bb7ce658",
   "metadata": {
    "execution": {
     "iopub.execute_input": "2021-08-30T06:57:17.444707Z",
     "iopub.status.busy": "2021-08-30T06:57:17.443697Z",
     "iopub.status.idle": "2021-08-30T06:57:17.473284Z",
     "shell.execute_reply": "2021-08-30T06:57:17.472824Z",
     "shell.execute_reply.started": "2021-08-30T06:19:41.126654Z"
    },
    "papermill": {
     "duration": 0.105165,
     "end_time": "2021-08-30T06:57:17.473421",
     "exception": false,
     "start_time": "2021-08-30T06:57:17.368256",
     "status": "completed"
    },
    "tags": []
   },
   "outputs": [
    {
     "name": "stderr",
     "output_type": "stream",
     "text": [
      "/opt/conda/lib/python3.7/site-packages/ipykernel_launcher.py:2: FutureWarning: Indexing with multiple keys (implicitly converted to a tuple of keys) will be deprecated, use a list instead.\n",
      "  \n"
     ]
    }
   ],
   "source": [
    "# checking sending SMS by Neighbourhood\n",
    "data_1 = Data.groupby('Neighbourhood')['No-show','SMS_received'].sum().sort_values(by='Neighbourhood')\n",
    "data_1['number of patient / neighbourhood'] = Data['Neighbourhood'].value_counts().sort_index()\n",
    "data_1['SMS_received attendance percent / neighbourhood'] = 100* data_1['SMS_received']/(data_1['number of patient / neighbourhood'] - \n",
    "                                                             data_1['No-show'] )"
   ]
  },
  {
   "cell_type": "code",
   "execution_count": 44,
   "id": "e1564711",
   "metadata": {
    "execution": {
     "iopub.execute_input": "2021-08-30T06:57:17.609291Z",
     "iopub.status.busy": "2021-08-30T06:57:17.605538Z",
     "iopub.status.idle": "2021-08-30T06:57:17.611752Z",
     "shell.execute_reply": "2021-08-30T06:57:17.612205Z",
     "shell.execute_reply.started": "2021-08-30T06:19:56.707126Z"
    },
    "papermill": {
     "duration": 0.075877,
     "end_time": "2021-08-30T06:57:17.612385",
     "exception": false,
     "start_time": "2021-08-30T06:57:17.536508",
     "status": "completed"
    },
    "tags": []
   },
   "outputs": [
    {
     "data": {
      "text/plain": [
       "count    80.000000\n",
       "mean     40.867366\n",
       "std       9.477022\n",
       "min       0.000000\n",
       "25%      37.384445\n",
       "50%      42.093356\n",
       "75%      45.341438\n",
       "max      75.000000\n",
       "Name: SMS_received attendance percent / neighbourhood, dtype: float64"
      ]
     },
     "execution_count": 44,
     "metadata": {},
     "output_type": "execute_result"
    }
   ],
   "source": [
    "data_1['SMS_received attendance percent / neighbourhood'].describe()"
   ]
  },
  {
   "cell_type": "code",
   "execution_count": 45,
   "id": "3f4c53ea",
   "metadata": {
    "execution": {
     "iopub.execute_input": "2021-08-30T06:57:17.765928Z",
     "iopub.status.busy": "2021-08-30T06:57:17.761007Z",
     "iopub.status.idle": "2021-08-30T06:57:17.945165Z",
     "shell.execute_reply": "2021-08-30T06:57:17.944677Z",
     "shell.execute_reply.started": "2021-08-30T06:20:08.062827Z"
    },
    "papermill": {
     "duration": 0.267578,
     "end_time": "2021-08-30T06:57:17.945340",
     "exception": false,
     "start_time": "2021-08-30T06:57:17.677762",
     "status": "completed"
    },
    "tags": []
   },
   "outputs": [
    {
     "name": "stderr",
     "output_type": "stream",
     "text": [
      "/opt/conda/lib/python3.7/site-packages/seaborn/distributions.py:2557: FutureWarning: `distplot` is a deprecated function and will be removed in a future version. Please adapt your code to use either `displot` (a figure-level function with similar flexibility) or `histplot` (an axes-level function for histograms).\n",
      "  warnings.warn(msg, FutureWarning)\n"
     ]
    },
    {
     "data": {
      "text/plain": [
       "<AxesSubplot:xlabel='SMS_received attendance percent / neighbourhood', ylabel='Density'>"
      ]
     },
     "execution_count": 45,
     "metadata": {},
     "output_type": "execute_result"
    },
    {
     "data": {
      "image/png": "[encoded data removed]",
      "text/plain": [
       "<Figure size 432x288 with 1 Axes>"
      ]
     },
     "metadata": {
      "needs_background": "light"
     },
     "output_type": "display_data"
    }
   ],
   "source": [
    "sb.distplot(data_1['SMS_received attendance percent / neighbourhood'])"
   ]
  },
  {
   "cell_type": "markdown",
   "id": "046afece",
   "metadata": {
    "papermill": {
     "duration": 0.064908,
     "end_time": "2021-08-30T06:57:18.076158",
     "exception": false,
     "start_time": "2021-08-30T06:57:18.011250",
     "status": "completed"
    },
    "tags": []
   },
   "source": [
    "so we will focus on sending SMS to the highest neibourhood attendance percent ( above mean 42% )"
   ]
  },
  {
   "cell_type": "code",
   "execution_count": 46,
   "id": "c90b07f3",
   "metadata": {
    "execution": {
     "iopub.execute_input": "2021-08-30T06:57:18.212173Z",
     "iopub.status.busy": "2021-08-30T06:57:18.211555Z",
     "iopub.status.idle": "2021-08-30T06:57:18.215948Z",
     "shell.execute_reply": "2021-08-30T06:57:18.215441Z",
     "shell.execute_reply.started": "2021-08-30T06:20:44.077317Z"
    },
    "papermill": {
     "duration": 0.075211,
     "end_time": "2021-08-30T06:57:18.216080",
     "exception": false,
     "start_time": "2021-08-30T06:57:18.140869",
     "status": "completed"
    },
    "tags": []
   },
   "outputs": [
    {
     "data": {
      "text/plain": [
       "Index(['ILHA DO FRADE'], dtype='object', name='Neighbourhood')"
      ]
     },
     "execution_count": 46,
     "metadata": {},
     "output_type": "execute_result"
    }
   ],
   "source": [
    "data_1[data_1['SMS_received attendance percent / neighbourhood'] > 42].index #41 neighbourhoods\n",
    "data_1[data_1['SMS_received attendance percent / neighbourhood'] > 60].index # the most important one "
   ]
  },
  {
   "cell_type": "markdown",
   "id": "6212e98f",
   "metadata": {
    "papermill": {
     "duration": 0.063245,
     "end_time": "2021-08-30T06:57:18.346502",
     "exception": false,
     "start_time": "2021-08-30T06:57:18.283257",
     "status": "completed"
    },
    "tags": []
   },
   "source": [
    "# Conclusions\n",
    "* we have a higher number of people who had a handcap classified as No-show but seems that it doesn't affect the No-show (attendance).\n",
    "* from 10 years to 40 years more people will ignore their appointments this is a real fact as in this years everyone be more youth and powerful ...and at the first 5 years the patients attend ( the yellow curve shows higher density ) as thier parents care about them.\n",
    "* we could see that people calls more to schedule an appointment at the first and the end of months as we see the decrease after the first 5 days till it reachs the lowest possible @ the last 10 days of the month then it begins to increase @ the last days of month.\n",
    "* day of the week doesn't affect attendance rate\n",
    "* we need to send more SMSs to people who have scholarships\n",
    "* we need to send more SMSs to people between 45 and 65 years old.\n",
    "* we need to send more SMSs to the neighbourhoods which have a higher percet of attendance especially ( ILHA DO FRADE )\n",
    "\n",
    "# TO BE CONTINUED ...."
   ]
  },
  {
   "cell_type": "code",
   "execution_count": null,
   "id": "3be117c0",
   "metadata": {
    "papermill": {
     "duration": 0.063587,
     "end_time": "2021-08-30T06:57:18.474126",
     "exception": false,
     "start_time": "2021-08-30T06:57:18.410539",
     "status": "completed"
    },
    "tags": []
   },
   "outputs": [],
   "source": []
  }
 ],
 "metadata": {
  "kernelspec": {
   "display_name": "Python 3",
   "language": "python",
   "name": "python3"
  },
  "language_info": {
   "codemirror_mode": {
    "name": "ipython",
    "version": 3
   },
   "file_extension": ".py",
   "mimetype": "text/x-python",
   "name": "python",
   "nbconvert_exporter": "python",
   "pygments_lexer": "ipython3",
   "version": "3.7.10"
  },
  "papermill": {
   "default_parameters": {},
   "duration": 29.86484,
   "end_time": "2021-08-30T06:57:20.269809",
   "environment_variables": {},
   "exception": null,
   "input_path": "__notebook__.ipynb",
   "output_path": "__notebook__.ipynb",
   "parameters": {},
   "start_time": "2021-08-30T06:56:50.404969",
   "version": "2.3.3"
  }
 },
 "nbformat": 4,
 "nbformat_minor": 5
}
