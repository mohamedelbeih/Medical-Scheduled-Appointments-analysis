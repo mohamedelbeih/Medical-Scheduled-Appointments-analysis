{
 "cells": [
  {
   "cell_type": "code",
   "execution_count": 1,
   "id": "f2f73dcf",
   "metadata": {
    "_cell_guid": "b1076dfc-b9ad-4769-8c92-a6c4dae69d19",
    "_uuid": "8f2839f25d086af736a60e9eeb907d3b93b6e0e5",
    "execution": {
     "iopub.execute_input": "2021-09-01T15:22:56.834991Z",
     "iopub.status.busy": "2021-09-01T15:22:56.833731Z",
     "iopub.status.idle": "2021-09-01T15:22:57.929407Z",
     "shell.execute_reply": "2021-09-01T15:22:57.928537Z",
     "shell.execute_reply.started": "2021-09-01T15:13:16.700435Z"
    },
    "papermill": {
     "duration": 1.159871,
     "end_time": "2021-09-01T15:22:57.929602",
     "exception": false,
     "start_time": "2021-09-01T15:22:56.769731",
     "status": "completed"
    },
    "tags": []
   },
   "outputs": [],
   "source": [
    "import pandas as pd\n",
    "import numpy as np\n",
    "import matplotlib.pyplot as plt\n",
    "import seaborn as sb"
   ]
  },
  {
   "cell_type": "code",
   "execution_count": 2,
   "id": "b70f89c9",
   "metadata": {
    "execution": {
     "iopub.execute_input": "2021-09-01T15:22:58.050998Z",
     "iopub.status.busy": "2021-09-01T15:22:58.050116Z",
     "iopub.status.idle": "2021-09-01T15:22:58.578622Z",
     "shell.execute_reply": "2021-09-01T15:22:58.579318Z",
     "shell.execute_reply.started": "2021-09-01T15:13:17.130263Z"
    },
    "papermill": {
     "duration": 0.592193,
     "end_time": "2021-09-01T15:22:58.579527",
     "exception": false,
     "start_time": "2021-09-01T15:22:57.987334",
     "status": "completed"
    },
    "tags": []
   },
   "outputs": [
    {
     "data": {
      "text/html": [
       "<div>\n",
       "<style scoped>\n",
       "    .dataframe tbody tr th:only-of-type {\n",
       "        vertical-align: middle;\n",
       "    }\n",
       "\n",
       "    .dataframe tbody tr th {\n",
       "        vertical-align: top;\n",
       "    }\n",
       "\n",
       "    .dataframe thead th {\n",
       "        text-align: right;\n",
       "    }\n",
       "</style>\n",
       "<table border=\"1\" class=\"dataframe\">\n",
       "  <thead>\n",
       "    <tr style=\"text-align: right;\">\n",
       "      <th></th>\n",
       "      <th>PatientId</th>\n",
       "      <th>AppointmentID</th>\n",
       "      <th>Gender</th>\n",
       "      <th>ScheduledDay</th>\n",
       "      <th>AppointmentDay</th>\n",
       "      <th>Age</th>\n",
       "      <th>Neighbourhood</th>\n",
       "      <th>Scholarship</th>\n",
       "      <th>Hipertension</th>\n",
       "      <th>Diabetes</th>\n",
       "      <th>Alcoholism</th>\n",
       "      <th>Handcap</th>\n",
       "      <th>SMS_received</th>\n",
       "      <th>No-show</th>\n",
       "    </tr>\n",
       "  </thead>\n",
       "  <tbody>\n",
       "    <tr>\n",
       "      <th>0</th>\n",
       "      <td>2.987250e+13</td>\n",
       "      <td>5642903</td>\n",
       "      <td>F</td>\n",
       "      <td>2016-04-29T18:38:08Z</td>\n",
       "      <td>2016-04-29T00:00:00Z</td>\n",
       "      <td>62</td>\n",
       "      <td>JARDIM DA PENHA</td>\n",
       "      <td>0</td>\n",
       "      <td>1</td>\n",
       "      <td>0</td>\n",
       "      <td>0</td>\n",
       "      <td>0</td>\n",
       "      <td>0</td>\n",
       "      <td>0</td>\n",
       "    </tr>\n",
       "    <tr>\n",
       "      <th>1</th>\n",
       "      <td>5.589978e+14</td>\n",
       "      <td>5642503</td>\n",
       "      <td>M</td>\n",
       "      <td>2016-04-29T16:08:27Z</td>\n",
       "      <td>2016-04-29T00:00:00Z</td>\n",
       "      <td>56</td>\n",
       "      <td>JARDIM DA PENHA</td>\n",
       "      <td>0</td>\n",
       "      <td>0</td>\n",
       "      <td>0</td>\n",
       "      <td>0</td>\n",
       "      <td>0</td>\n",
       "      <td>0</td>\n",
       "      <td>0</td>\n",
       "    </tr>\n",
       "    <tr>\n",
       "      <th>2</th>\n",
       "      <td>4.262962e+12</td>\n",
       "      <td>5642549</td>\n",
       "      <td>F</td>\n",
       "      <td>2016-04-29T16:19:04Z</td>\n",
       "      <td>2016-04-29T00:00:00Z</td>\n",
       "      <td>62</td>\n",
       "      <td>MATA DA PRAIA</td>\n",
       "      <td>0</td>\n",
       "      <td>0</td>\n",
       "      <td>0</td>\n",
       "      <td>0</td>\n",
       "      <td>0</td>\n",
       "      <td>0</td>\n",
       "      <td>0</td>\n",
       "    </tr>\n",
       "    <tr>\n",
       "      <th>3</th>\n",
       "      <td>8.679512e+11</td>\n",
       "      <td>5642828</td>\n",
       "      <td>F</td>\n",
       "      <td>2016-04-29T17:29:31Z</td>\n",
       "      <td>2016-04-29T00:00:00Z</td>\n",
       "      <td>8</td>\n",
       "      <td>PONTAL DE CAMBURI</td>\n",
       "      <td>0</td>\n",
       "      <td>0</td>\n",
       "      <td>0</td>\n",
       "      <td>0</td>\n",
       "      <td>0</td>\n",
       "      <td>0</td>\n",
       "      <td>0</td>\n",
       "    </tr>\n",
       "    <tr>\n",
       "      <th>4</th>\n",
       "      <td>8.841186e+12</td>\n",
       "      <td>5642494</td>\n",
       "      <td>F</td>\n",
       "      <td>2016-04-29T16:07:23Z</td>\n",
       "      <td>2016-04-29T00:00:00Z</td>\n",
       "      <td>56</td>\n",
       "      <td>JARDIM DA PENHA</td>\n",
       "      <td>0</td>\n",
       "      <td>1</td>\n",
       "      <td>1</td>\n",
       "      <td>0</td>\n",
       "      <td>0</td>\n",
       "      <td>0</td>\n",
       "      <td>0</td>\n",
       "    </tr>\n",
       "    <tr>\n",
       "      <th>...</th>\n",
       "      <td>...</td>\n",
       "      <td>...</td>\n",
       "      <td>...</td>\n",
       "      <td>...</td>\n",
       "      <td>...</td>\n",
       "      <td>...</td>\n",
       "      <td>...</td>\n",
       "      <td>...</td>\n",
       "      <td>...</td>\n",
       "      <td>...</td>\n",
       "      <td>...</td>\n",
       "      <td>...</td>\n",
       "      <td>...</td>\n",
       "      <td>...</td>\n",
       "    </tr>\n",
       "    <tr>\n",
       "      <th>110522</th>\n",
       "      <td>2.572134e+12</td>\n",
       "      <td>5651768</td>\n",
       "      <td>F</td>\n",
       "      <td>2016-05-03T09:15:35Z</td>\n",
       "      <td>2016-06-07T00:00:00Z</td>\n",
       "      <td>56</td>\n",
       "      <td>MARIA ORTIZ</td>\n",
       "      <td>0</td>\n",
       "      <td>0</td>\n",
       "      <td>0</td>\n",
       "      <td>0</td>\n",
       "      <td>0</td>\n",
       "      <td>1</td>\n",
       "      <td>0</td>\n",
       "    </tr>\n",
       "    <tr>\n",
       "      <th>110523</th>\n",
       "      <td>3.596266e+12</td>\n",
       "      <td>5650093</td>\n",
       "      <td>F</td>\n",
       "      <td>2016-05-03T07:27:33Z</td>\n",
       "      <td>2016-06-07T00:00:00Z</td>\n",
       "      <td>51</td>\n",
       "      <td>MARIA ORTIZ</td>\n",
       "      <td>0</td>\n",
       "      <td>0</td>\n",
       "      <td>0</td>\n",
       "      <td>0</td>\n",
       "      <td>0</td>\n",
       "      <td>1</td>\n",
       "      <td>0</td>\n",
       "    </tr>\n",
       "    <tr>\n",
       "      <th>110524</th>\n",
       "      <td>1.557663e+13</td>\n",
       "      <td>5630692</td>\n",
       "      <td>F</td>\n",
       "      <td>2016-04-27T16:03:52Z</td>\n",
       "      <td>2016-06-07T00:00:00Z</td>\n",
       "      <td>21</td>\n",
       "      <td>MARIA ORTIZ</td>\n",
       "      <td>0</td>\n",
       "      <td>0</td>\n",
       "      <td>0</td>\n",
       "      <td>0</td>\n",
       "      <td>0</td>\n",
       "      <td>1</td>\n",
       "      <td>0</td>\n",
       "    </tr>\n",
       "    <tr>\n",
       "      <th>110525</th>\n",
       "      <td>9.213493e+13</td>\n",
       "      <td>5630323</td>\n",
       "      <td>F</td>\n",
       "      <td>2016-04-27T15:09:23Z</td>\n",
       "      <td>2016-06-07T00:00:00Z</td>\n",
       "      <td>38</td>\n",
       "      <td>MARIA ORTIZ</td>\n",
       "      <td>0</td>\n",
       "      <td>0</td>\n",
       "      <td>0</td>\n",
       "      <td>0</td>\n",
       "      <td>0</td>\n",
       "      <td>1</td>\n",
       "      <td>0</td>\n",
       "    </tr>\n",
       "    <tr>\n",
       "      <th>110526</th>\n",
       "      <td>3.775115e+14</td>\n",
       "      <td>5629448</td>\n",
       "      <td>F</td>\n",
       "      <td>2016-04-27T13:30:56Z</td>\n",
       "      <td>2016-06-07T00:00:00Z</td>\n",
       "      <td>54</td>\n",
       "      <td>MARIA ORTIZ</td>\n",
       "      <td>0</td>\n",
       "      <td>0</td>\n",
       "      <td>0</td>\n",
       "      <td>0</td>\n",
       "      <td>0</td>\n",
       "      <td>1</td>\n",
       "      <td>0</td>\n",
       "    </tr>\n",
       "  </tbody>\n",
       "</table>\n",
       "<p>110527 rows × 14 columns</p>\n",
       "</div>"
      ],
      "text/plain": [
       "           PatientId  AppointmentID Gender          ScheduledDay  \\\n",
       "0       2.987250e+13        5642903      F  2016-04-29T18:38:08Z   \n",
       "1       5.589978e+14        5642503      M  2016-04-29T16:08:27Z   \n",
       "2       4.262962e+12        5642549      F  2016-04-29T16:19:04Z   \n",
       "3       8.679512e+11        5642828      F  2016-04-29T17:29:31Z   \n",
       "4       8.841186e+12        5642494      F  2016-04-29T16:07:23Z   \n",
       "...              ...            ...    ...                   ...   \n",
       "110522  2.572134e+12        5651768      F  2016-05-03T09:15:35Z   \n",
       "110523  3.596266e+12        5650093      F  2016-05-03T07:27:33Z   \n",
       "110524  1.557663e+13        5630692      F  2016-04-27T16:03:52Z   \n",
       "110525  9.213493e+13        5630323      F  2016-04-27T15:09:23Z   \n",
       "110526  3.775115e+14        5629448      F  2016-04-27T13:30:56Z   \n",
       "\n",
       "              AppointmentDay  Age      Neighbourhood  Scholarship  \\\n",
       "0       2016-04-29T00:00:00Z   62    JARDIM DA PENHA            0   \n",
       "1       2016-04-29T00:00:00Z   56    JARDIM DA PENHA            0   \n",
       "2       2016-04-29T00:00:00Z   62      MATA DA PRAIA            0   \n",
       "3       2016-04-29T00:00:00Z    8  PONTAL DE CAMBURI            0   \n",
       "4       2016-04-29T00:00:00Z   56    JARDIM DA PENHA            0   \n",
       "...                      ...  ...                ...          ...   \n",
       "110522  2016-06-07T00:00:00Z   56        MARIA ORTIZ            0   \n",
       "110523  2016-06-07T00:00:00Z   51        MARIA ORTIZ            0   \n",
       "110524  2016-06-07T00:00:00Z   21        MARIA ORTIZ            0   \n",
       "110525  2016-06-07T00:00:00Z   38        MARIA ORTIZ            0   \n",
       "110526  2016-06-07T00:00:00Z   54        MARIA ORTIZ            0   \n",
       "\n",
       "        Hipertension  Diabetes  Alcoholism  Handcap  SMS_received  No-show  \n",
       "0                  1         0           0        0             0        0  \n",
       "1                  0         0           0        0             0        0  \n",
       "2                  0         0           0        0             0        0  \n",
       "3                  0         0           0        0             0        0  \n",
       "4                  1         1           0        0             0        0  \n",
       "...              ...       ...         ...      ...           ...      ...  \n",
       "110522             0         0           0        0             1        0  \n",
       "110523             0         0           0        0             1        0  \n",
       "110524             0         0           0        0             1        0  \n",
       "110525             0         0           0        0             1        0  \n",
       "110526             0         0           0        0             1        0  \n",
       "\n",
       "[110527 rows x 14 columns]"
      ]
     },
     "execution_count": 2,
     "metadata": {},
     "output_type": "execute_result"
    }
   ],
   "source": [
    "Data = pd.read_csv('../input/noshowappointments/KaggleV2-May-2016.csv')\n",
    "Data['No-show'] = Data['No-show'].map({'Yes':1,'No':0})\n",
    "Data"
   ]
  },
  {
   "cell_type": "code",
   "execution_count": 3,
   "id": "1d692100",
   "metadata": {
    "execution": {
     "iopub.execute_input": "2021-09-01T15:22:58.715244Z",
     "iopub.status.busy": "2021-09-01T15:22:58.714359Z",
     "iopub.status.idle": "2021-09-01T15:22:58.800452Z",
     "shell.execute_reply": "2021-09-01T15:22:58.800936Z",
     "shell.execute_reply.started": "2021-09-01T15:13:17.597109Z"
    },
    "papermill": {
     "duration": 0.158672,
     "end_time": "2021-09-01T15:22:58.801143",
     "exception": false,
     "start_time": "2021-09-01T15:22:58.642471",
     "status": "completed"
    },
    "tags": []
   },
   "outputs": [
    {
     "data": {
      "text/html": [
       "<div>\n",
       "<style scoped>\n",
       "    .dataframe tbody tr th:only-of-type {\n",
       "        vertical-align: middle;\n",
       "    }\n",
       "\n",
       "    .dataframe tbody tr th {\n",
       "        vertical-align: top;\n",
       "    }\n",
       "\n",
       "    .dataframe thead th {\n",
       "        text-align: right;\n",
       "    }\n",
       "</style>\n",
       "<table border=\"1\" class=\"dataframe\">\n",
       "  <thead>\n",
       "    <tr style=\"text-align: right;\">\n",
       "      <th></th>\n",
       "      <th>PatientId</th>\n",
       "      <th>AppointmentID</th>\n",
       "      <th>Age</th>\n",
       "      <th>Scholarship</th>\n",
       "      <th>Hipertension</th>\n",
       "      <th>Diabetes</th>\n",
       "      <th>Alcoholism</th>\n",
       "      <th>Handcap</th>\n",
       "      <th>SMS_received</th>\n",
       "      <th>No-show</th>\n",
       "    </tr>\n",
       "  </thead>\n",
       "  <tbody>\n",
       "    <tr>\n",
       "      <th>count</th>\n",
       "      <td>1.105270e+05</td>\n",
       "      <td>1.105270e+05</td>\n",
       "      <td>110527.000000</td>\n",
       "      <td>110527.000000</td>\n",
       "      <td>110527.000000</td>\n",
       "      <td>110527.000000</td>\n",
       "      <td>110527.000000</td>\n",
       "      <td>110527.000000</td>\n",
       "      <td>110527.000000</td>\n",
       "      <td>110527.000000</td>\n",
       "    </tr>\n",
       "    <tr>\n",
       "      <th>mean</th>\n",
       "      <td>1.474963e+14</td>\n",
       "      <td>5.675305e+06</td>\n",
       "      <td>37.088874</td>\n",
       "      <td>0.098266</td>\n",
       "      <td>0.197246</td>\n",
       "      <td>0.071865</td>\n",
       "      <td>0.030400</td>\n",
       "      <td>0.022248</td>\n",
       "      <td>0.321026</td>\n",
       "      <td>0.201933</td>\n",
       "    </tr>\n",
       "    <tr>\n",
       "      <th>std</th>\n",
       "      <td>2.560949e+14</td>\n",
       "      <td>7.129575e+04</td>\n",
       "      <td>23.110205</td>\n",
       "      <td>0.297675</td>\n",
       "      <td>0.397921</td>\n",
       "      <td>0.258265</td>\n",
       "      <td>0.171686</td>\n",
       "      <td>0.161543</td>\n",
       "      <td>0.466873</td>\n",
       "      <td>0.401444</td>\n",
       "    </tr>\n",
       "    <tr>\n",
       "      <th>min</th>\n",
       "      <td>3.921784e+04</td>\n",
       "      <td>5.030230e+06</td>\n",
       "      <td>-1.000000</td>\n",
       "      <td>0.000000</td>\n",
       "      <td>0.000000</td>\n",
       "      <td>0.000000</td>\n",
       "      <td>0.000000</td>\n",
       "      <td>0.000000</td>\n",
       "      <td>0.000000</td>\n",
       "      <td>0.000000</td>\n",
       "    </tr>\n",
       "    <tr>\n",
       "      <th>25%</th>\n",
       "      <td>4.172614e+12</td>\n",
       "      <td>5.640286e+06</td>\n",
       "      <td>18.000000</td>\n",
       "      <td>0.000000</td>\n",
       "      <td>0.000000</td>\n",
       "      <td>0.000000</td>\n",
       "      <td>0.000000</td>\n",
       "      <td>0.000000</td>\n",
       "      <td>0.000000</td>\n",
       "      <td>0.000000</td>\n",
       "    </tr>\n",
       "    <tr>\n",
       "      <th>50%</th>\n",
       "      <td>3.173184e+13</td>\n",
       "      <td>5.680573e+06</td>\n",
       "      <td>37.000000</td>\n",
       "      <td>0.000000</td>\n",
       "      <td>0.000000</td>\n",
       "      <td>0.000000</td>\n",
       "      <td>0.000000</td>\n",
       "      <td>0.000000</td>\n",
       "      <td>0.000000</td>\n",
       "      <td>0.000000</td>\n",
       "    </tr>\n",
       "    <tr>\n",
       "      <th>75%</th>\n",
       "      <td>9.439172e+13</td>\n",
       "      <td>5.725524e+06</td>\n",
       "      <td>55.000000</td>\n",
       "      <td>0.000000</td>\n",
       "      <td>0.000000</td>\n",
       "      <td>0.000000</td>\n",
       "      <td>0.000000</td>\n",
       "      <td>0.000000</td>\n",
       "      <td>1.000000</td>\n",
       "      <td>0.000000</td>\n",
       "    </tr>\n",
       "    <tr>\n",
       "      <th>max</th>\n",
       "      <td>9.999816e+14</td>\n",
       "      <td>5.790484e+06</td>\n",
       "      <td>115.000000</td>\n",
       "      <td>1.000000</td>\n",
       "      <td>1.000000</td>\n",
       "      <td>1.000000</td>\n",
       "      <td>1.000000</td>\n",
       "      <td>4.000000</td>\n",
       "      <td>1.000000</td>\n",
       "      <td>1.000000</td>\n",
       "    </tr>\n",
       "  </tbody>\n",
       "</table>\n",
       "</div>"
      ],
      "text/plain": [
       "          PatientId  AppointmentID            Age    Scholarship  \\\n",
       "count  1.105270e+05   1.105270e+05  110527.000000  110527.000000   \n",
       "mean   1.474963e+14   5.675305e+06      37.088874       0.098266   \n",
       "std    2.560949e+14   7.129575e+04      23.110205       0.297675   \n",
       "min    3.921784e+04   5.030230e+06      -1.000000       0.000000   \n",
       "25%    4.172614e+12   5.640286e+06      18.000000       0.000000   \n",
       "50%    3.173184e+13   5.680573e+06      37.000000       0.000000   \n",
       "75%    9.439172e+13   5.725524e+06      55.000000       0.000000   \n",
       "max    9.999816e+14   5.790484e+06     115.000000       1.000000   \n",
       "\n",
       "        Hipertension       Diabetes     Alcoholism        Handcap  \\\n",
       "count  110527.000000  110527.000000  110527.000000  110527.000000   \n",
       "mean        0.197246       0.071865       0.030400       0.022248   \n",
       "std         0.397921       0.258265       0.171686       0.161543   \n",
       "min         0.000000       0.000000       0.000000       0.000000   \n",
       "25%         0.000000       0.000000       0.000000       0.000000   \n",
       "50%         0.000000       0.000000       0.000000       0.000000   \n",
       "75%         0.000000       0.000000       0.000000       0.000000   \n",
       "max         1.000000       1.000000       1.000000       4.000000   \n",
       "\n",
       "        SMS_received        No-show  \n",
       "count  110527.000000  110527.000000  \n",
       "mean        0.321026       0.201933  \n",
       "std         0.466873       0.401444  \n",
       "min         0.000000       0.000000  \n",
       "25%         0.000000       0.000000  \n",
       "50%         0.000000       0.000000  \n",
       "75%         1.000000       0.000000  \n",
       "max         1.000000       1.000000  "
      ]
     },
     "execution_count": 3,
     "metadata": {},
     "output_type": "execute_result"
    }
   ],
   "source": [
    "#Data wrangling\n",
    "pd.set_option('display.max_columns', None)\n",
    "Data.describe()"
   ]
  },
  {
   "cell_type": "markdown",
   "id": "bfa60fed",
   "metadata": {
    "papermill": {
     "duration": 0.057727,
     "end_time": "2021-09-01T15:22:58.916081",
     "exception": false,
     "start_time": "2021-09-01T15:22:58.858354",
     "status": "completed"
    },
    "tags": []
   },
   "source": [
    "# First impression & Data assesing\n",
    "- there are no missing values for any feature\n",
    "- for age : 1- average is 37 years\n",
    "             2- there is negative values and extreme values reach 115 years\n",
    "             3- 25% of patients are under 18 years\n",
    "                25% of patients are over 55 years\n",
    "- less than 25% of patients have a scholarship\n",
    "- less than 25% of patients have Hipertension\n",
    "- less than 25% of patients have Diabetes\n",
    "- less than 25% of patients are Alcoholists\n",
    "- less than 25% of patients have a Handcap , hancap should be 1 or 0 but it has a max value of 4\n",
    "- less than 25% of patients are No-show\n",
    "'''"
   ]
  },
  {
   "cell_type": "code",
   "execution_count": 4,
   "id": "f433dc87",
   "metadata": {
    "execution": {
     "iopub.execute_input": "2021-09-01T15:22:59.038555Z",
     "iopub.status.busy": "2021-09-01T15:22:59.037452Z",
     "iopub.status.idle": "2021-09-01T15:22:59.209080Z",
     "shell.execute_reply": "2021-09-01T15:22:59.208471Z",
     "shell.execute_reply.started": "2021-09-01T15:13:19.024940Z"
    },
    "papermill": {
     "duration": 0.23596,
     "end_time": "2021-09-01T15:22:59.209255",
     "exception": false,
     "start_time": "2021-09-01T15:22:58.973295",
     "status": "completed"
    },
    "tags": []
   },
   "outputs": [
    {
     "data": {
      "text/plain": [
       "PatientId          62299\n",
       "AppointmentID     110527\n",
       "Gender                 2\n",
       "ScheduledDay      103549\n",
       "AppointmentDay        27\n",
       "Age                  104\n",
       "Neighbourhood         81\n",
       "Scholarship            2\n",
       "Hipertension           2\n",
       "Diabetes               2\n",
       "Alcoholism             2\n",
       "Handcap                5\n",
       "SMS_received           2\n",
       "No-show                2\n",
       "dtype: int64"
      ]
     },
     "execution_count": 4,
     "metadata": {},
     "output_type": "execute_result"
    }
   ],
   "source": [
    "Data.nunique()"
   ]
  },
  {
   "cell_type": "markdown",
   "id": "72888526",
   "metadata": {
    "papermill": {
     "duration": 0.059081,
     "end_time": "2021-09-01T15:22:59.327481",
     "exception": false,
     "start_time": "2021-09-01T15:22:59.268400",
     "status": "completed"
    },
    "tags": []
   },
   "source": [
    "##### there are 5 values for handcap\n",
    "##### there are 104 different ages .. so we will have alot of extreme values\n",
    "##### we have a PatientsIds around 0.56 of AppointmentsIDs ..\n",
    "##### so around 2 calls / patient in average or we have some patients called to much .. we will investigate"
   ]
  },
  {
   "cell_type": "markdown",
   "id": "1cfff2d6",
   "metadata": {
    "papermill": {
     "duration": 0.059652,
     "end_time": "2021-09-01T15:22:59.447468",
     "exception": false,
     "start_time": "2021-09-01T15:22:59.387816",
     "status": "completed"
    },
    "tags": []
   },
   "source": [
    "# investigating patient's credability"
   ]
  },
  {
   "cell_type": "code",
   "execution_count": 5,
   "id": "a5ee6ae1",
   "metadata": {
    "execution": {
     "iopub.execute_input": "2021-09-01T15:22:59.577001Z",
     "iopub.status.busy": "2021-09-01T15:22:59.575761Z",
     "iopub.status.idle": "2021-09-01T15:22:59.591544Z",
     "shell.execute_reply": "2021-09-01T15:22:59.590931Z",
     "shell.execute_reply.started": "2021-09-01T15:13:20.735879Z"
    },
    "papermill": {
     "duration": 0.083966,
     "end_time": "2021-09-01T15:22:59.591703",
     "exception": false,
     "start_time": "2021-09-01T15:22:59.507737",
     "status": "completed"
    },
    "tags": []
   },
   "outputs": [
    {
     "data": {
      "text/plain": [
       "7.433899e+13     2\n",
       "8.462796e+13     1\n",
       "1.687560e+13     1\n",
       "8.682467e+14     1\n",
       "6.235218e+14     1\n",
       "                ..\n",
       "1.322475e+14     1\n",
       "6.111461e+13     4\n",
       "2.833933e+13    10\n",
       "8.287469e+12     1\n",
       "5.133834e+14     1\n",
       "Name: PatientId, Length: 62299, dtype: int64"
      ]
     },
     "execution_count": 5,
     "metadata": {},
     "output_type": "execute_result"
    }
   ],
   "source": [
    "total_calls_per_patient = Data.PatientId.value_counts(sort=False)\n",
    "total_calls_per_patient"
   ]
  },
  {
   "cell_type": "code",
   "execution_count": 6,
   "id": "5380ea14",
   "metadata": {
    "execution": {
     "iopub.execute_input": "2021-09-01T15:22:59.719170Z",
     "iopub.status.busy": "2021-09-01T15:22:59.718247Z",
     "iopub.status.idle": "2021-09-01T15:22:59.740413Z",
     "shell.execute_reply": "2021-09-01T15:22:59.739828Z",
     "shell.execute_reply.started": "2021-09-01T15:13:21.541810Z"
    },
    "papermill": {
     "duration": 0.088529,
     "end_time": "2021-09-01T15:22:59.740569",
     "exception": false,
     "start_time": "2021-09-01T15:22:59.652040",
     "status": "completed"
    },
    "tags": []
   },
   "outputs": [
    {
     "data": {
      "text/plain": [
       "PatientId\n",
       "2.987250e+13    0\n",
       "5.589978e+14    0\n",
       "4.262962e+12    0\n",
       "8.679512e+11    1\n",
       "8.841186e+12    0\n",
       "               ..\n",
       "9.876246e+13    0\n",
       "8.674778e+13    0\n",
       "7.263315e+13    0\n",
       "9.969977e+14    0\n",
       "1.557663e+13    0\n",
       "Name: No-show, Length: 62299, dtype: int64"
      ]
     },
     "execution_count": 6,
     "metadata": {},
     "output_type": "execute_result"
    }
   ],
   "source": [
    "no_show_per_patient = Data.groupby(\"PatientId\",sort=False)['No-show'].sum()\n",
    "no_show_per_patient"
   ]
  },
  {
   "cell_type": "code",
   "execution_count": 7,
   "id": "4e60d885",
   "metadata": {
    "execution": {
     "iopub.execute_input": "2021-09-01T15:22:59.864862Z",
     "iopub.status.busy": "2021-09-01T15:22:59.864022Z",
     "iopub.status.idle": "2021-09-01T15:22:59.869901Z",
     "shell.execute_reply": "2021-09-01T15:22:59.869257Z",
     "shell.execute_reply.started": "2021-09-01T15:13:22.191114Z"
    },
    "papermill": {
     "duration": 0.07124,
     "end_time": "2021-09-01T15:22:59.870068",
     "exception": false,
     "start_time": "2021-09-01T15:22:59.798828",
     "status": "completed"
    },
    "tags": []
   },
   "outputs": [],
   "source": [
    "patient_credibility = pd.DataFrame(total_calls_per_patient)\n",
    "patient_credibility = patient_credibility.rename(columns={'PatientId':'total_calls_per_patient'})"
   ]
  },
  {
   "cell_type": "code",
   "execution_count": 8,
   "id": "ecf4068a",
   "metadata": {
    "execution": {
     "iopub.execute_input": "2021-09-01T15:22:59.997069Z",
     "iopub.status.busy": "2021-09-01T15:22:59.995957Z",
     "iopub.status.idle": "2021-09-01T15:23:00.086478Z",
     "shell.execute_reply": "2021-09-01T15:23:00.085744Z",
     "shell.execute_reply.started": "2021-09-01T15:13:22.843953Z"
    },
    "papermill": {
     "duration": 0.156587,
     "end_time": "2021-09-01T15:23:00.086648",
     "exception": false,
     "start_time": "2021-09-01T15:22:59.930061",
     "status": "completed"
    },
    "tags": []
   },
   "outputs": [],
   "source": [
    "patient_credibility['no_show_per_patient']=no_show_per_patient\n",
    "patient_credibility['patient credibility percentage']=(total_calls_per_patient-no_show_per_patient)/total_calls_per_patient"
   ]
  },
  {
   "cell_type": "code",
   "execution_count": 9,
   "id": "9f5c1cb1",
   "metadata": {
    "execution": {
     "iopub.execute_input": "2021-09-01T15:23:00.215703Z",
     "iopub.status.busy": "2021-09-01T15:23:00.214956Z",
     "iopub.status.idle": "2021-09-01T15:23:00.241478Z",
     "shell.execute_reply": "2021-09-01T15:23:00.242416Z",
     "shell.execute_reply.started": "2021-09-01T15:13:23.447233Z"
    },
    "papermill": {
     "duration": 0.094981,
     "end_time": "2021-09-01T15:23:00.242640",
     "exception": false,
     "start_time": "2021-09-01T15:23:00.147659",
     "status": "completed"
    },
    "tags": []
   },
   "outputs": [
    {
     "data": {
      "text/html": [
       "<div>\n",
       "<style scoped>\n",
       "    .dataframe tbody tr th:only-of-type {\n",
       "        vertical-align: middle;\n",
       "    }\n",
       "\n",
       "    .dataframe tbody tr th {\n",
       "        vertical-align: top;\n",
       "    }\n",
       "\n",
       "    .dataframe thead th {\n",
       "        text-align: right;\n",
       "    }\n",
       "</style>\n",
       "<table border=\"1\" class=\"dataframe\">\n",
       "  <thead>\n",
       "    <tr style=\"text-align: right;\">\n",
       "      <th></th>\n",
       "      <th>total_calls_per_patient</th>\n",
       "      <th>no_show_per_patient</th>\n",
       "      <th>patient credibility percentage</th>\n",
       "    </tr>\n",
       "  </thead>\n",
       "  <tbody>\n",
       "    <tr>\n",
       "      <th>count</th>\n",
       "      <td>62299.000000</td>\n",
       "      <td>62299.000000</td>\n",
       "      <td>62299.000000</td>\n",
       "    </tr>\n",
       "    <tr>\n",
       "      <th>mean</th>\n",
       "      <td>1.774138</td>\n",
       "      <td>0.358256</td>\n",
       "      <td>0.803570</td>\n",
       "    </tr>\n",
       "    <tr>\n",
       "      <th>std</th>\n",
       "      <td>1.770324</td>\n",
       "      <td>0.689779</td>\n",
       "      <td>0.351419</td>\n",
       "    </tr>\n",
       "    <tr>\n",
       "      <th>min</th>\n",
       "      <td>1.000000</td>\n",
       "      <td>0.000000</td>\n",
       "      <td>0.000000</td>\n",
       "    </tr>\n",
       "    <tr>\n",
       "      <th>25%</th>\n",
       "      <td>1.000000</td>\n",
       "      <td>0.000000</td>\n",
       "      <td>0.666667</td>\n",
       "    </tr>\n",
       "    <tr>\n",
       "      <th>50%</th>\n",
       "      <td>1.000000</td>\n",
       "      <td>0.000000</td>\n",
       "      <td>1.000000</td>\n",
       "    </tr>\n",
       "    <tr>\n",
       "      <th>75%</th>\n",
       "      <td>2.000000</td>\n",
       "      <td>1.000000</td>\n",
       "      <td>1.000000</td>\n",
       "    </tr>\n",
       "    <tr>\n",
       "      <th>max</th>\n",
       "      <td>88.000000</td>\n",
       "      <td>18.000000</td>\n",
       "      <td>1.000000</td>\n",
       "    </tr>\n",
       "  </tbody>\n",
       "</table>\n",
       "</div>"
      ],
      "text/plain": [
       "       total_calls_per_patient  no_show_per_patient  \\\n",
       "count             62299.000000         62299.000000   \n",
       "mean                  1.774138             0.358256   \n",
       "std                   1.770324             0.689779   \n",
       "min                   1.000000             0.000000   \n",
       "25%                   1.000000             0.000000   \n",
       "50%                   1.000000             0.000000   \n",
       "75%                   2.000000             1.000000   \n",
       "max                  88.000000            18.000000   \n",
       "\n",
       "       patient credibility percentage  \n",
       "count                    62299.000000  \n",
       "mean                         0.803570  \n",
       "std                          0.351419  \n",
       "min                          0.000000  \n",
       "25%                          0.666667  \n",
       "50%                          1.000000  \n",
       "75%                          1.000000  \n",
       "max                          1.000000  "
      ]
     },
     "execution_count": 9,
     "metadata": {},
     "output_type": "execute_result"
    }
   ],
   "source": [
    "patient_credibility.describe()"
   ]
  },
  {
   "cell_type": "code",
   "execution_count": 10,
   "id": "7111d730",
   "metadata": {
    "execution": {
     "iopub.execute_input": "2021-09-01T15:23:00.364292Z",
     "iopub.status.busy": "2021-09-01T15:23:00.363313Z",
     "iopub.status.idle": "2021-09-01T15:23:01.236527Z",
     "shell.execute_reply": "2021-09-01T15:23:01.237143Z",
     "shell.execute_reply.started": "2021-09-01T15:13:24.357088Z"
    },
    "papermill": {
     "duration": 0.935031,
     "end_time": "2021-09-01T15:23:01.237359",
     "exception": false,
     "start_time": "2021-09-01T15:23:00.302328",
     "status": "completed"
    },
    "tags": []
   },
   "outputs": [
    {
     "name": "stderr",
     "output_type": "stream",
     "text": [
      "/opt/conda/lib/python3.7/site-packages/seaborn/distributions.py:2557: FutureWarning: `distplot` is a deprecated function and will be removed in a future version. Please adapt your code to use either `displot` (a figure-level function with similar flexibility) or `histplot` (an axes-level function for histograms).\n",
      "  warnings.warn(msg, FutureWarning)\n"
     ]
    },
    {
     "data": {
      "text/plain": [
       "<AxesSubplot:xlabel='patient credibility percentage', ylabel='Density'>"
      ]
     },
     "execution_count": 10,
     "metadata": {},
     "output_type": "execute_result"
    },
    {
     "data": {
      "image/png": "[encoded data removed]",
      "text/plain": [
       "<Figure size 432x288 with 1 Axes>"
      ]
     },
     "metadata": {
      "needs_background": "light"
     },
     "output_type": "display_data"
    }
   ],
   "source": [
    "sb.distplot(patient_credibility['patient credibility percentage'])"
   ]
  },
  {
   "cell_type": "markdown",
   "id": "a80f39b9",
   "metadata": {
    "papermill": {
     "duration": 0.062476,
     "end_time": "2021-09-01T15:23:01.363926",
     "exception": false,
     "start_time": "2021-09-01T15:23:01.301450",
     "status": "completed"
    },
    "tags": []
   },
   "source": [
    "#### so we have above 75% of patients (IDs) when they call for an appointment , they attend \n",
    "#### also we have patients with zero % of credibility , we hope that they called once and didn't attend if more than one time .. we will not be able to trust them ."
   ]
  },
  {
   "cell_type": "code",
   "execution_count": 11,
   "id": "19474036",
   "metadata": {
    "execution": {
     "iopub.execute_input": "2021-09-01T15:23:01.497516Z",
     "iopub.status.busy": "2021-09-01T15:23:01.496457Z",
     "iopub.status.idle": "2021-09-01T15:23:01.518990Z",
     "shell.execute_reply": "2021-09-01T15:23:01.518333Z",
     "shell.execute_reply.started": "2021-09-01T15:13:25.538119Z"
    },
    "papermill": {
     "duration": 0.090894,
     "end_time": "2021-09-01T15:23:01.519158",
     "exception": false,
     "start_time": "2021-09-01T15:23:01.428264",
     "status": "completed"
    },
    "tags": []
   },
   "outputs": [
    {
     "data": {
      "text/plain": [
       "191"
      ]
     },
     "execution_count": 11,
     "metadata": {},
     "output_type": "execute_result"
    }
   ],
   "source": [
    "#supposing that if a person called more than twice and did not show is trustless\n",
    "#so we can remove them as outliers while making predictions (according to business view)\n",
    "trustless_patients = ((patient_credibility['total_calls_per_patient'] > 2 ) & \n",
    "                      (patient_credibility['patient credibility percentage'] == 0 ))\n",
    "patient_credibility['trustless_patients']=trustless_patients\n",
    "sum(patient_credibility['trustless_patients']) #191 out of 62299 patients"
   ]
  },
  {
   "cell_type": "code",
   "execution_count": 12,
   "id": "0fe5afcd",
   "metadata": {
    "execution": {
     "iopub.execute_input": "2021-09-01T15:23:01.669682Z",
     "iopub.status.busy": "2021-09-01T15:23:01.668088Z",
     "iopub.status.idle": "2021-09-01T15:23:01.712342Z",
     "shell.execute_reply": "2021-09-01T15:23:01.711316Z",
     "shell.execute_reply.started": "2021-09-01T15:13:27.922020Z"
    },
    "papermill": {
     "duration": 0.130123,
     "end_time": "2021-09-01T15:23:01.712532",
     "exception": false,
     "start_time": "2021-09-01T15:23:01.582409",
     "status": "completed"
    },
    "tags": []
   },
   "outputs": [
    {
     "name": "stdout",
     "output_type": "stream",
     "text": [
      "1\n",
      "308\n",
      "7\n"
     ]
    }
   ],
   "source": [
    "#Cleaning\n",
    "#Exploring age\n",
    "print(sum(Data.Age <0)) \n",
    "print(sum(Data.Age >90)) \n",
    "print(sum(Data.Age >100)) "
   ]
  },
  {
   "cell_type": "code",
   "execution_count": 13,
   "id": "128c884e",
   "metadata": {
    "execution": {
     "iopub.execute_input": "2021-09-01T15:23:01.847399Z",
     "iopub.status.busy": "2021-09-01T15:23:01.846623Z",
     "iopub.status.idle": "2021-09-01T15:23:01.867077Z",
     "shell.execute_reply": "2021-09-01T15:23:01.866312Z",
     "shell.execute_reply.started": "2021-09-01T15:13:28.565264Z"
    },
    "papermill": {
     "duration": 0.090801,
     "end_time": "2021-09-01T15:23:01.867251",
     "exception": false,
     "start_time": "2021-09-01T15:23:01.776450",
     "status": "completed"
    },
    "tags": []
   },
   "outputs": [],
   "source": [
    "#dropping negative age values\n",
    "Data[Data.Age < 0 ].index\n",
    "Data = Data.drop(index= 99832 )"
   ]
  },
  {
   "cell_type": "code",
   "execution_count": 14,
   "id": "c00cb40f",
   "metadata": {
    "execution": {
     "iopub.execute_input": "2021-09-01T15:23:02.037277Z",
     "iopub.status.busy": "2021-09-01T15:23:02.015224Z",
     "iopub.status.idle": "2021-09-01T15:23:02.147772Z",
     "shell.execute_reply": "2021-09-01T15:23:02.147128Z",
     "shell.execute_reply.started": "2021-09-01T15:13:29.302381Z"
    },
    "papermill": {
     "duration": 0.21618,
     "end_time": "2021-09-01T15:23:02.147940",
     "exception": false,
     "start_time": "2021-09-01T15:23:01.931760",
     "status": "completed"
    },
    "tags": []
   },
   "outputs": [
    {
     "data": {
      "text/html": [
       "<div>\n",
       "<style scoped>\n",
       "    .dataframe tbody tr th:only-of-type {\n",
       "        vertical-align: middle;\n",
       "    }\n",
       "\n",
       "    .dataframe tbody tr th {\n",
       "        vertical-align: top;\n",
       "    }\n",
       "\n",
       "    .dataframe thead th {\n",
       "        text-align: right;\n",
       "    }\n",
       "</style>\n",
       "<table border=\"1\" class=\"dataframe\">\n",
       "  <thead>\n",
       "    <tr style=\"text-align: right;\">\n",
       "      <th></th>\n",
       "      <th>PatientId</th>\n",
       "      <th>AppointmentID</th>\n",
       "      <th>Gender</th>\n",
       "      <th>ScheduledDay</th>\n",
       "      <th>AppointmentDay</th>\n",
       "      <th>Age</th>\n",
       "      <th>Neighbourhood</th>\n",
       "      <th>Scholarship</th>\n",
       "      <th>Hipertension</th>\n",
       "      <th>Diabetes</th>\n",
       "      <th>Alcoholism</th>\n",
       "      <th>Handcap</th>\n",
       "      <th>SMS_received</th>\n",
       "      <th>No-show</th>\n",
       "    </tr>\n",
       "  </thead>\n",
       "  <tbody>\n",
       "    <tr>\n",
       "      <th>0</th>\n",
       "      <td>2.987250e+13</td>\n",
       "      <td>5642903</td>\n",
       "      <td>F</td>\n",
       "      <td>2016-04-29T18:38:08Z</td>\n",
       "      <td>2016-04-29T00:00:00Z</td>\n",
       "      <td>62</td>\n",
       "      <td>JARDIM DA PENHA</td>\n",
       "      <td>0</td>\n",
       "      <td>1</td>\n",
       "      <td>0</td>\n",
       "      <td>0</td>\n",
       "      <td>0</td>\n",
       "      <td>0</td>\n",
       "      <td>0</td>\n",
       "    </tr>\n",
       "    <tr>\n",
       "      <th>1</th>\n",
       "      <td>5.589978e+14</td>\n",
       "      <td>5642503</td>\n",
       "      <td>M</td>\n",
       "      <td>2016-04-29T16:08:27Z</td>\n",
       "      <td>2016-04-29T00:00:00Z</td>\n",
       "      <td>56</td>\n",
       "      <td>JARDIM DA PENHA</td>\n",
       "      <td>0</td>\n",
       "      <td>0</td>\n",
       "      <td>0</td>\n",
       "      <td>0</td>\n",
       "      <td>0</td>\n",
       "      <td>0</td>\n",
       "      <td>0</td>\n",
       "    </tr>\n",
       "    <tr>\n",
       "      <th>2</th>\n",
       "      <td>4.262962e+12</td>\n",
       "      <td>5642549</td>\n",
       "      <td>F</td>\n",
       "      <td>2016-04-29T16:19:04Z</td>\n",
       "      <td>2016-04-29T00:00:00Z</td>\n",
       "      <td>62</td>\n",
       "      <td>MATA DA PRAIA</td>\n",
       "      <td>0</td>\n",
       "      <td>0</td>\n",
       "      <td>0</td>\n",
       "      <td>0</td>\n",
       "      <td>0</td>\n",
       "      <td>0</td>\n",
       "      <td>0</td>\n",
       "    </tr>\n",
       "    <tr>\n",
       "      <th>3</th>\n",
       "      <td>8.679512e+11</td>\n",
       "      <td>5642828</td>\n",
       "      <td>F</td>\n",
       "      <td>2016-04-29T17:29:31Z</td>\n",
       "      <td>2016-04-29T00:00:00Z</td>\n",
       "      <td>8</td>\n",
       "      <td>PONTAL DE CAMBURI</td>\n",
       "      <td>0</td>\n",
       "      <td>0</td>\n",
       "      <td>0</td>\n",
       "      <td>0</td>\n",
       "      <td>0</td>\n",
       "      <td>0</td>\n",
       "      <td>0</td>\n",
       "    </tr>\n",
       "    <tr>\n",
       "      <th>4</th>\n",
       "      <td>8.841186e+12</td>\n",
       "      <td>5642494</td>\n",
       "      <td>F</td>\n",
       "      <td>2016-04-29T16:07:23Z</td>\n",
       "      <td>2016-04-29T00:00:00Z</td>\n",
       "      <td>56</td>\n",
       "      <td>JARDIM DA PENHA</td>\n",
       "      <td>0</td>\n",
       "      <td>1</td>\n",
       "      <td>1</td>\n",
       "      <td>0</td>\n",
       "      <td>0</td>\n",
       "      <td>0</td>\n",
       "      <td>0</td>\n",
       "    </tr>\n",
       "    <tr>\n",
       "      <th>...</th>\n",
       "      <td>...</td>\n",
       "      <td>...</td>\n",
       "      <td>...</td>\n",
       "      <td>...</td>\n",
       "      <td>...</td>\n",
       "      <td>...</td>\n",
       "      <td>...</td>\n",
       "      <td>...</td>\n",
       "      <td>...</td>\n",
       "      <td>...</td>\n",
       "      <td>...</td>\n",
       "      <td>...</td>\n",
       "      <td>...</td>\n",
       "      <td>...</td>\n",
       "    </tr>\n",
       "    <tr>\n",
       "      <th>110522</th>\n",
       "      <td>2.572134e+12</td>\n",
       "      <td>5651768</td>\n",
       "      <td>F</td>\n",
       "      <td>2016-05-03T09:15:35Z</td>\n",
       "      <td>2016-06-07T00:00:00Z</td>\n",
       "      <td>56</td>\n",
       "      <td>MARIA ORTIZ</td>\n",
       "      <td>0</td>\n",
       "      <td>0</td>\n",
       "      <td>0</td>\n",
       "      <td>0</td>\n",
       "      <td>0</td>\n",
       "      <td>1</td>\n",
       "      <td>0</td>\n",
       "    </tr>\n",
       "    <tr>\n",
       "      <th>110523</th>\n",
       "      <td>3.596266e+12</td>\n",
       "      <td>5650093</td>\n",
       "      <td>F</td>\n",
       "      <td>2016-05-03T07:27:33Z</td>\n",
       "      <td>2016-06-07T00:00:00Z</td>\n",
       "      <td>51</td>\n",
       "      <td>MARIA ORTIZ</td>\n",
       "      <td>0</td>\n",
       "      <td>0</td>\n",
       "      <td>0</td>\n",
       "      <td>0</td>\n",
       "      <td>0</td>\n",
       "      <td>1</td>\n",
       "      <td>0</td>\n",
       "    </tr>\n",
       "    <tr>\n",
       "      <th>110524</th>\n",
       "      <td>1.557663e+13</td>\n",
       "      <td>5630692</td>\n",
       "      <td>F</td>\n",
       "      <td>2016-04-27T16:03:52Z</td>\n",
       "      <td>2016-06-07T00:00:00Z</td>\n",
       "      <td>21</td>\n",
       "      <td>MARIA ORTIZ</td>\n",
       "      <td>0</td>\n",
       "      <td>0</td>\n",
       "      <td>0</td>\n",
       "      <td>0</td>\n",
       "      <td>0</td>\n",
       "      <td>1</td>\n",
       "      <td>0</td>\n",
       "    </tr>\n",
       "    <tr>\n",
       "      <th>110525</th>\n",
       "      <td>9.213493e+13</td>\n",
       "      <td>5630323</td>\n",
       "      <td>F</td>\n",
       "      <td>2016-04-27T15:09:23Z</td>\n",
       "      <td>2016-06-07T00:00:00Z</td>\n",
       "      <td>38</td>\n",
       "      <td>MARIA ORTIZ</td>\n",
       "      <td>0</td>\n",
       "      <td>0</td>\n",
       "      <td>0</td>\n",
       "      <td>0</td>\n",
       "      <td>0</td>\n",
       "      <td>1</td>\n",
       "      <td>0</td>\n",
       "    </tr>\n",
       "    <tr>\n",
       "      <th>110526</th>\n",
       "      <td>3.775115e+14</td>\n",
       "      <td>5629448</td>\n",
       "      <td>F</td>\n",
       "      <td>2016-04-27T13:30:56Z</td>\n",
       "      <td>2016-06-07T00:00:00Z</td>\n",
       "      <td>54</td>\n",
       "      <td>MARIA ORTIZ</td>\n",
       "      <td>0</td>\n",
       "      <td>0</td>\n",
       "      <td>0</td>\n",
       "      <td>0</td>\n",
       "      <td>0</td>\n",
       "      <td>1</td>\n",
       "      <td>0</td>\n",
       "    </tr>\n",
       "  </tbody>\n",
       "</table>\n",
       "<p>110327 rows × 14 columns</p>\n",
       "</div>"
      ],
      "text/plain": [
       "           PatientId  AppointmentID Gender          ScheduledDay  \\\n",
       "0       2.987250e+13        5642903      F  2016-04-29T18:38:08Z   \n",
       "1       5.589978e+14        5642503      M  2016-04-29T16:08:27Z   \n",
       "2       4.262962e+12        5642549      F  2016-04-29T16:19:04Z   \n",
       "3       8.679512e+11        5642828      F  2016-04-29T17:29:31Z   \n",
       "4       8.841186e+12        5642494      F  2016-04-29T16:07:23Z   \n",
       "...              ...            ...    ...                   ...   \n",
       "110522  2.572134e+12        5651768      F  2016-05-03T09:15:35Z   \n",
       "110523  3.596266e+12        5650093      F  2016-05-03T07:27:33Z   \n",
       "110524  1.557663e+13        5630692      F  2016-04-27T16:03:52Z   \n",
       "110525  9.213493e+13        5630323      F  2016-04-27T15:09:23Z   \n",
       "110526  3.775115e+14        5629448      F  2016-04-27T13:30:56Z   \n",
       "\n",
       "              AppointmentDay  Age      Neighbourhood  Scholarship  \\\n",
       "0       2016-04-29T00:00:00Z   62    JARDIM DA PENHA            0   \n",
       "1       2016-04-29T00:00:00Z   56    JARDIM DA PENHA            0   \n",
       "2       2016-04-29T00:00:00Z   62      MATA DA PRAIA            0   \n",
       "3       2016-04-29T00:00:00Z    8  PONTAL DE CAMBURI            0   \n",
       "4       2016-04-29T00:00:00Z   56    JARDIM DA PENHA            0   \n",
       "...                      ...  ...                ...          ...   \n",
       "110522  2016-06-07T00:00:00Z   56        MARIA ORTIZ            0   \n",
       "110523  2016-06-07T00:00:00Z   51        MARIA ORTIZ            0   \n",
       "110524  2016-06-07T00:00:00Z   21        MARIA ORTIZ            0   \n",
       "110525  2016-06-07T00:00:00Z   38        MARIA ORTIZ            0   \n",
       "110526  2016-06-07T00:00:00Z   54        MARIA ORTIZ            0   \n",
       "\n",
       "        Hipertension  Diabetes  Alcoholism  Handcap  SMS_received  No-show  \n",
       "0                  1         0           0        0             0        0  \n",
       "1                  0         0           0        0             0        0  \n",
       "2                  0         0           0        0             0        0  \n",
       "3                  0         0           0        0             0        0  \n",
       "4                  1         1           0        0             0        0  \n",
       "...              ...       ...         ...      ...           ...      ...  \n",
       "110522             0         0           0        0             1        0  \n",
       "110523             0         0           0        0             1        0  \n",
       "110524             0         0           0        0             1        0  \n",
       "110525             0         0           0        0             1        0  \n",
       "110526             0         0           0        0             1        0  \n",
       "\n",
       "[110327 rows x 14 columns]"
      ]
     },
     "execution_count": 14,
     "metadata": {},
     "output_type": "execute_result"
    }
   ],
   "source": [
    "# handcap must be boolean .. so we will drop other values \n",
    "Data.Handcap = [int(x) for x in Data.Handcap]\n",
    "sum(Data.Handcap >1) # 199 patients\n",
    "indices = Data[Data.Handcap >1].index #indices for patients with handcap values > 1\n",
    "Data = Data.drop(index=indices)\n",
    "Data"
   ]
  },
  {
   "cell_type": "markdown",
   "id": "593c920f",
   "metadata": {
    "papermill": {
     "duration": 0.062079,
     "end_time": "2021-09-01T15:23:02.272233",
     "exception": false,
     "start_time": "2021-09-01T15:23:02.210154",
     "status": "completed"
    },
    "tags": []
   },
   "source": [
    "## EDA"
   ]
  },
  {
   "cell_type": "code",
   "execution_count": 15,
   "id": "6aa33d22",
   "metadata": {
    "execution": {
     "iopub.execute_input": "2021-09-01T15:23:02.404595Z",
     "iopub.status.busy": "2021-09-01T15:23:02.403819Z",
     "iopub.status.idle": "2021-09-01T15:23:02.560204Z",
     "shell.execute_reply": "2021-09-01T15:23:02.559558Z",
     "shell.execute_reply.started": "2021-09-01T15:13:30.980730Z"
    },
    "papermill": {
     "duration": 0.225467,
     "end_time": "2021-09-01T15:23:02.560359",
     "exception": false,
     "start_time": "2021-09-01T15:23:02.334892",
     "status": "completed"
    },
    "tags": []
   },
   "outputs": [
    {
     "name": "stdout",
     "output_type": "stream",
     "text": [
      "Attendance percentage = 79.81% \n",
      "Absence percentage = 20.19% \n"
     ]
    },
    {
     "name": "stderr",
     "output_type": "stream",
     "text": [
      "/opt/conda/lib/python3.7/site-packages/seaborn/_decorators.py:43: FutureWarning: Pass the following variable as a keyword arg: x. From version 0.12, the only valid positional argument will be `data`, and passing other arguments without an explicit keyword will result in an error or misinterpretation.\n",
      "  FutureWarning\n"
     ]
    },
    {
     "data": {
      "image/png": "[encoded data removed]",
      "text/plain": [
       "<Figure size 432x288 with 1 Axes>"
      ]
     },
     "metadata": {
      "needs_background": "light"
     },
     "output_type": "display_data"
    }
   ],
   "source": [
    "sb.countplot(Data['No-show'])\n",
    "print(\"Attendance percentage = {0:0.2f}% \".format(len(Data[Data['No-show']==0])  / (Data.shape[0]) *100))\n",
    "print(\"Absence percentage = {0:0.2f}% \".format(len(Data[Data['No-show']==1])  / (Data.shape[0]) *100))"
   ]
  },
  {
   "cell_type": "code",
   "execution_count": 16,
   "id": "eaa47e41",
   "metadata": {
    "execution": {
     "iopub.execute_input": "2021-09-01T15:23:02.693801Z",
     "iopub.status.busy": "2021-09-01T15:23:02.693010Z",
     "iopub.status.idle": "2021-09-01T15:23:03.682477Z",
     "shell.execute_reply": "2021-09-01T15:23:03.682994Z",
     "shell.execute_reply.started": "2021-09-01T15:13:31.831388Z"
    },
    "papermill": {
     "duration": 1.059274,
     "end_time": "2021-09-01T15:23:03.683208",
     "exception": false,
     "start_time": "2021-09-01T15:23:02.623934",
     "status": "completed"
    },
    "tags": []
   },
   "outputs": [
    {
     "data": {
      "text/plain": [
       "<AxesSubplot:>"
      ]
     },
     "execution_count": 16,
     "metadata": {},
     "output_type": "execute_result"
    },
    {
     "data": {
      "image/png": "[encoded data removed]",
      "text/plain": [
       "<Figure size 432x288 with 2 Axes>"
      ]
     },
     "metadata": {
      "needs_background": "light"
     },
     "output_type": "display_data"
    }
   ],
   "source": [
    "#correlation between features\n",
    "sb.heatmap(Data.corr(),annot=True,linewidths=1,fmt='0.2f')"
   ]
  },
  {
   "cell_type": "markdown",
   "id": "af4248eb",
   "metadata": {
    "papermill": {
     "duration": 0.066193,
     "end_time": "2021-09-01T15:23:03.816590",
     "exception": false,
     "start_time": "2021-09-01T15:23:03.750397",
     "status": "completed"
    },
    "tags": []
   },
   "source": [
    "poor correlation with dependant variable but we see good correlation between \n",
    "age & hipertension , diabetes & hipertension and diabetes & age .. True medical fact "
   ]
  },
  {
   "cell_type": "code",
   "execution_count": 17,
   "id": "c31053e9",
   "metadata": {
    "execution": {
     "iopub.execute_input": "2021-09-01T15:23:03.963545Z",
     "iopub.status.busy": "2021-09-01T15:23:03.962514Z",
     "iopub.status.idle": "2021-09-01T15:23:04.194459Z",
     "shell.execute_reply": "2021-09-01T15:23:04.193690Z",
     "shell.execute_reply.started": "2021-09-01T15:13:34.902497Z"
    },
    "papermill": {
     "duration": 0.310411,
     "end_time": "2021-09-01T15:23:04.194630",
     "exception": false,
     "start_time": "2021-09-01T15:23:03.884219",
     "status": "completed"
    },
    "tags": []
   },
   "outputs": [
    {
     "name": "stdout",
     "output_type": "stream",
     "text": [
      "SMS received attendance percentage = 72.41 %\n",
      "No SMS received attendance percentage = 83.31 %\n"
     ]
    },
    {
     "data": {
      "image/png": "[encoded data removed]",
      "text/plain": [
       "<Figure size 432x288 with 1 Axes>"
      ]
     },
     "metadata": {
      "needs_background": "light"
     },
     "output_type": "display_data"
    }
   ],
   "source": [
    "sb.countplot(x=Data['SMS_received'],hue=Data['No-show'])\n",
    "\n",
    "SMS_received_attendance_percentage = len(Data[(Data['SMS_received']== 1 ) & (Data['No-show']==0)]) / len(Data[Data['SMS_received'] == 1])*100\n",
    "print('SMS received attendance percentage = {0:0.2f} %'.format(SMS_received_attendance_percentage))\n",
    "\n",
    "No_SMS_received_attendance_percentage =len(Data[(Data['SMS_received']== 0 ) & (Data['No-show']==0)]) / len(Data[Data['SMS_received'] == 0])*100\n",
    "print('No SMS received attendance percentage = {0:0.2f} %'.format(No_SMS_received_attendance_percentage))"
   ]
  },
  {
   "cell_type": "markdown",
   "id": "a0384d31",
   "metadata": {
    "papermill": {
     "duration": 0.065635,
     "end_time": "2021-09-01T15:23:04.327682",
     "exception": false,
     "start_time": "2021-09-01T15:23:04.262047",
     "status": "completed"
    },
    "tags": []
   },
   "source": [
    "so the people who already received a SMS are almost divided equally between show and No-show but we have\n",
    "a higher percentage of attendance for people who didn't receive a SMS\n",
    "we may run a Matched pair design A/B test to see how SMS affect no-show"
   ]
  },
  {
   "cell_type": "code",
   "execution_count": 18,
   "id": "c4c84e0b",
   "metadata": {
    "execution": {
     "iopub.execute_input": "2021-09-01T15:23:04.468868Z",
     "iopub.status.busy": "2021-09-01T15:23:04.467668Z",
     "iopub.status.idle": "2021-09-01T15:23:04.814259Z",
     "shell.execute_reply": "2021-09-01T15:23:04.814808Z",
     "shell.execute_reply.started": "2021-09-01T15:13:37.442461Z"
    },
    "papermill": {
     "duration": 0.42145,
     "end_time": "2021-09-01T15:23:04.814995",
     "exception": false,
     "start_time": "2021-09-01T15:23:04.393545",
     "status": "completed"
    },
    "tags": []
   },
   "outputs": [
    {
     "name": "stdout",
     "output_type": "stream",
     "text": [
      "Handcap attendance percentage = 82.08 %\n",
      "No Handcap attendance percentage = 79.76 %\n"
     ]
    },
    {
     "data": {
      "image/png": "[encoded data removed]",
      "text/plain": [
       "<Figure size 432x288 with 1 Axes>"
      ]
     },
     "metadata": {
      "needs_background": "light"
     },
     "output_type": "display_data"
    }
   ],
   "source": [
    "sb.countplot(x=Data['Handcap'],hue=Data['No-show'])\n",
    "\n",
    "Handcap_attendance_percentage = len(Data[(Data['Handcap']== 1 ) & (Data['No-show']==0)]) / len(Data[Data['Handcap'] == 1])*100\n",
    "print('Handcap attendance percentage = {0:0.2f} %'.format(Handcap_attendance_percentage))\n",
    "\n",
    "No_Handcap_attendance_percentage =len(Data[(Data['Handcap']== 0 ) & (Data['No-show']==0)]) / len(Data[Data['Handcap'] == 0])*100\n",
    "print('No Handcap attendance percentage = {0:0.2f} %'.format(No_Handcap_attendance_percentage))"
   ]
  },
  {
   "cell_type": "markdown",
   "id": "300c50ae",
   "metadata": {
    "papermill": {
     "duration": 0.066816,
     "end_time": "2021-09-01T15:23:04.948675",
     "exception": false,
     "start_time": "2021-09-01T15:23:04.881859",
     "status": "completed"
    },
    "tags": []
   },
   "source": [
    "we have a higher number of people who had a handcap classified as No-show but \n",
    " seems that it doesn't affect No-show as the percents of attendance are almost equal"
   ]
  },
  {
   "cell_type": "code",
   "execution_count": 19,
   "id": "48b7a6e9",
   "metadata": {
    "execution": {
     "iopub.execute_input": "2021-09-01T15:23:05.097655Z",
     "iopub.status.busy": "2021-09-01T15:23:05.096582Z",
     "iopub.status.idle": "2021-09-01T15:23:05.333188Z",
     "shell.execute_reply": "2021-09-01T15:23:05.332644Z",
     "shell.execute_reply.started": "2021-09-01T15:13:38.934654Z"
    },
    "papermill": {
     "duration": 0.316788,
     "end_time": "2021-09-01T15:23:05.333355",
     "exception": false,
     "start_time": "2021-09-01T15:23:05.016567",
     "status": "completed"
    },
    "tags": []
   },
   "outputs": [
    {
     "name": "stdout",
     "output_type": "stream",
     "text": [
      "Alcoholism attendance percentage = 79.86 %\n",
      "No Alcoholism attendance percentage = 79.81 %\n"
     ]
    },
    {
     "data": {
      "image/png": "[encoded data removed]",
      "text/plain": [
       "<Figure size 432x288 with 1 Axes>"
      ]
     },
     "metadata": {
      "needs_background": "light"
     },
     "output_type": "display_data"
    }
   ],
   "source": [
    "sb.countplot(x=Data['Alcoholism'],hue=Data['No-show'])\n",
    "\n",
    "Alcoholism_attendance_percentage = len(Data[(Data['Alcoholism']== 1 ) & (Data['No-show']==0)]) / len(Data[Data['Alcoholism'] == 1])*100\n",
    "print('Alcoholism attendance percentage = {0:0.2f} %'.format(Alcoholism_attendance_percentage))\n",
    "\n",
    "No_Alcoholism_attendance_percentage =len(Data[(Data['Alcoholism']== 0 ) & (Data['No-show']==0)]) / len(Data[Data['Alcoholism'] == 0])*100\n",
    "print('No Alcoholism attendance percentage = {0:0.2f} %'.format(No_Alcoholism_attendance_percentage))"
   ]
  },
  {
   "cell_type": "markdown",
   "id": "616ad69d",
   "metadata": {
    "papermill": {
     "duration": 0.073878,
     "end_time": "2021-09-01T15:23:05.476635",
     "exception": false,
     "start_time": "2021-09-01T15:23:05.402757",
     "status": "completed"
    },
    "tags": []
   },
   "source": [
    "we have a higher number of people who are alcoholists classified as No-show but \n",
    " seems that it doesn't affect No-show as the percents of attendance are equal"
   ]
  },
  {
   "cell_type": "code",
   "execution_count": 20,
   "id": "b90c7130",
   "metadata": {
    "execution": {
     "iopub.execute_input": "2021-09-01T15:23:05.622317Z",
     "iopub.status.busy": "2021-09-01T15:23:05.621656Z",
     "iopub.status.idle": "2021-09-01T15:23:05.854910Z",
     "shell.execute_reply": "2021-09-01T15:23:05.854261Z",
     "shell.execute_reply.started": "2021-09-01T15:13:41.399639Z"
    },
    "papermill": {
     "duration": 0.309888,
     "end_time": "2021-09-01T15:23:05.855075",
     "exception": false,
     "start_time": "2021-09-01T15:23:05.545187",
     "status": "completed"
    },
    "tags": []
   },
   "outputs": [
    {
     "name": "stdout",
     "output_type": "stream",
     "text": [
      "Diabetes attendance percentage = 82.00 %\n",
      "No Diabetes attendance percentage = 79.64 %\n"
     ]
    },
    {
     "data": {
      "image/png": "[encoded data removed]",
      "text/plain": [
       "<Figure size 432x288 with 1 Axes>"
      ]
     },
     "metadata": {
      "needs_background": "light"
     },
     "output_type": "display_data"
    }
   ],
   "source": [
    "sb.countplot(x=Data['Diabetes'],hue=Data['No-show'])\n",
    "\n",
    "Diabetes_attendance_percentage = len(Data[(Data['Diabetes']== 1 ) & (Data['No-show']==0)]) / len(Data[Data['Diabetes'] == 1])*100\n",
    "print('Diabetes attendance percentage = {0:0.2f} %'.format(Diabetes_attendance_percentage))\n",
    "\n",
    "No_Diabetes_attendance_percentage =len(Data[(Data['Diabetes']== 0 ) & (Data['No-show']==0)]) / len(Data[Data['Diabetes'] == 0])*100\n",
    "print('No Diabetes attendance percentage = {0:0.2f} %'.format(No_Diabetes_attendance_percentage))"
   ]
  },
  {
   "cell_type": "markdown",
   "id": "ef17a507",
   "metadata": {
    "papermill": {
     "duration": 0.068932,
     "end_time": "2021-09-01T15:23:05.994093",
     "exception": false,
     "start_time": "2021-09-01T15:23:05.925161",
     "status": "completed"
    },
    "tags": []
   },
   "source": [
    "we have a higher number of people who have diabetes classified as No-show but \n",
    " seems that it doesn't affect No-show as the percents of attendance are almost equal"
   ]
  },
  {
   "cell_type": "code",
   "execution_count": 21,
   "id": "6148ed55",
   "metadata": {
    "execution": {
     "iopub.execute_input": "2021-09-01T15:23:06.142729Z",
     "iopub.status.busy": "2021-09-01T15:23:06.141963Z",
     "iopub.status.idle": "2021-09-01T15:23:06.377500Z",
     "shell.execute_reply": "2021-09-01T15:23:06.376924Z",
     "shell.execute_reply.started": "2021-09-01T15:13:43.072455Z"
    },
    "papermill": {
     "duration": 0.313006,
     "end_time": "2021-09-01T15:23:06.377669",
     "exception": false,
     "start_time": "2021-09-01T15:23:06.064663",
     "status": "completed"
    },
    "tags": []
   },
   "outputs": [
    {
     "name": "stdout",
     "output_type": "stream",
     "text": [
      "Scholarship attendance percentage = 82.00 %\n",
      "No Scholarship attendance percentage = 76.23 %\n"
     ]
    },
    {
     "data": {
      "image/png": "[encoded data removed]",
      "text/plain": [
       "<Figure size 432x288 with 1 Axes>"
      ]
     },
     "metadata": {
      "needs_background": "light"
     },
     "output_type": "display_data"
    }
   ],
   "source": [
    "sb.countplot(x=Data['Scholarship'],hue=Data['No-show'])\n",
    "\n",
    "Scholarship_attendance_percentage = len(Data[(Data['Scholarship']== 1 ) & (Data['No-show']==0)]) / len(Data[Data['Scholarship'] == 1])*100\n",
    "print('Scholarship attendance percentage = {0:0.2f} %'.format(Diabetes_attendance_percentage))\n",
    "\n",
    "No_Scholarship_attendance_percentage =len(Data[(Data['Scholarship']== 0 ) & (Data['No-show']==0)]) / len(Data[Data['Scholarship'] == 0])*100\n",
    "print('No Scholarship attendance percentage = {0:0.2f} %'.format(Scholarship_attendance_percentage))"
   ]
  },
  {
   "cell_type": "markdown",
   "id": "ac289155",
   "metadata": {
    "papermill": {
     "duration": 0.070543,
     "end_time": "2021-09-01T15:23:06.521425",
     "exception": false,
     "start_time": "2021-09-01T15:23:06.450882",
     "status": "completed"
    },
    "tags": []
   },
   "source": [
    "we have a higher number of people who have scholarships classified as No-show but \n",
    " seems that it doesn't affect No-show as the percents of attendance are almost equal"
   ]
  },
  {
   "cell_type": "code",
   "execution_count": 22,
   "id": "d60db189",
   "metadata": {
    "execution": {
     "iopub.execute_input": "2021-09-01T15:23:06.672482Z",
     "iopub.status.busy": "2021-09-01T15:23:06.671742Z",
     "iopub.status.idle": "2021-09-01T15:23:06.896166Z",
     "shell.execute_reply": "2021-09-01T15:23:06.896758Z",
     "shell.execute_reply.started": "2021-09-01T15:13:45.575453Z"
    },
    "papermill": {
     "duration": 0.304307,
     "end_time": "2021-09-01T15:23:06.896962",
     "exception": false,
     "start_time": "2021-09-01T15:23:06.592655",
     "status": "completed"
    },
    "tags": []
   },
   "outputs": [
    {
     "name": "stdout",
     "output_type": "stream",
     "text": [
      "Hipertension attendance percentage = 82.00 %\n",
      "No Hipertension attendance percentage = 79.09 %\n"
     ]
    },
    {
     "data": {
      "image/png": "[encoded data removed]",
      "text/plain": [
       "<Figure size 432x288 with 1 Axes>"
      ]
     },
     "metadata": {
      "needs_background": "light"
     },
     "output_type": "display_data"
    }
   ],
   "source": [
    "sb.countplot(x=Data['Hipertension'],hue=Data['No-show'])\n",
    "\n",
    "Hipertension_attendance_percentage = len(Data[(Data['Hipertension']== 1 ) & (Data['No-show']==0)]) / len(Data[Data['Hipertension'] == 1])*100\n",
    "print('Hipertension attendance percentage = {0:0.2f} %'.format(Diabetes_attendance_percentage))\n",
    "\n",
    "No_Hipertension_attendance_percentage =len(Data[(Data['Hipertension']== 0 ) & (Data['No-show']==0)]) / len(Data[Data['Hipertension'] == 0])*100\n",
    "print('No Hipertension attendance percentage = {0:0.2f} %'.format(No_Hipertension_attendance_percentage))"
   ]
  },
  {
   "cell_type": "markdown",
   "id": "29aed029",
   "metadata": {
    "papermill": {
     "duration": 0.072418,
     "end_time": "2021-09-01T15:23:07.041080",
     "exception": false,
     "start_time": "2021-09-01T15:23:06.968662",
     "status": "completed"
    },
    "tags": []
   },
   "source": [
    "we have a higher number of people who have Hipertension classified as No-show but \n",
    " seems that it doesn't affect No-show as the percents of attendance are almost equal"
   ]
  },
  {
   "cell_type": "code",
   "execution_count": 23,
   "id": "d5eb77d7",
   "metadata": {
    "execution": {
     "iopub.execute_input": "2021-09-01T15:23:07.210836Z",
     "iopub.status.busy": "2021-09-01T15:23:07.210155Z",
     "iopub.status.idle": "2021-09-01T15:23:07.604668Z",
     "shell.execute_reply": "2021-09-01T15:23:07.603986Z",
     "shell.execute_reply.started": "2021-09-01T15:13:47.292553Z"
    },
    "papermill": {
     "duration": 0.491312,
     "end_time": "2021-09-01T15:23:07.604810",
     "exception": false,
     "start_time": "2021-09-01T15:23:07.113498",
     "status": "completed"
    },
    "tags": []
   },
   "outputs": [
    {
     "name": "stdout",
     "output_type": "stream",
     "text": [
      "males attendance percentage = 80.02 %\n",
      "femles attendance percentage = 79.69 %\n"
     ]
    },
    {
     "data": {
      "image/png": "[encoded data removed]",
      "text/plain": [
       "<Figure size 432x288 with 1 Axes>"
      ]
     },
     "metadata": {
      "needs_background": "light"
     },
     "output_type": "display_data"
    }
   ],
   "source": [
    "sb.countplot(x=Data['Gender'],hue=Data['No-show'])\n",
    "\n",
    "males_attendance_percentage = len(Data[(Data.Gender == 'M') & (Data['No-show']==0)]) / len(Data[Data.Gender == 'M'])*100\n",
    "print('males attendance percentage = {0:0.2f} %'.format(males_attendance_percentage))\n",
    "\n",
    "females_attendance_percentage = len(Data[(Data.Gender == 'F') & (Data['No-show']==0)]) / len(Data[Data.Gender == 'F'])*100\n",
    "print('femles attendance percentage = {0:0.2f} %'.format(females_attendance_percentage))"
   ]
  },
  {
   "cell_type": "markdown",
   "id": "108acf20",
   "metadata": {
    "papermill": {
     "duration": 0.072246,
     "end_time": "2021-09-01T15:23:07.749293",
     "exception": false,
     "start_time": "2021-09-01T15:23:07.677047",
     "status": "completed"
    },
    "tags": []
   },
   "source": [
    "altough number of female patients are almost twice the number of male patients but we have almost \n",
    "    equal percentage of attendance for both"
   ]
  },
  {
   "cell_type": "code",
   "execution_count": 24,
   "id": "a65a350b",
   "metadata": {
    "execution": {
     "iopub.execute_input": "2021-09-01T15:23:07.909701Z",
     "iopub.status.busy": "2021-09-01T15:23:07.909021Z",
     "iopub.status.idle": "2021-09-01T15:23:10.770932Z",
     "shell.execute_reply": "2021-09-01T15:23:10.770331Z",
     "shell.execute_reply.started": "2021-09-01T15:13:48.991825Z"
    },
    "papermill": {
     "duration": 2.948374,
     "end_time": "2021-09-01T15:23:10.771105",
     "exception": false,
     "start_time": "2021-09-01T15:23:07.822731",
     "status": "completed"
    },
    "tags": []
   },
   "outputs": [],
   "source": [
    "# Exploring attendance for each neighbourhood\n",
    "#we have 81 neighbourhood so we couldn't show in a plot \n",
    "#but we will see what neighbourhoods have the highest and the lowesr percents of attendance \n",
    "\n",
    "Neighbourhoods_names = Data.Neighbourhood.unique()\n",
    "Neighbourhoods = []\n",
    "Neighbourhood_attendance_percentage = []\n",
    "for i in Neighbourhoods_names:\n",
    "    Neighbourhood = str(i)\n",
    "    Neighbourhood_attendance_per = len(Data[(Data.Neighbourhood == str(i)) & (Data['No-show']==0)]) / len(Data[Data.Neighbourhood ==str(i)])*100\n",
    "    Neighbourhoods.append(Neighbourhood)\n",
    "    Neighbourhood_attendance_percentage.append(Neighbourhood_attendance_per)"
   ]
  },
  {
   "cell_type": "code",
   "execution_count": 25,
   "id": "76266462",
   "metadata": {
    "execution": {
     "iopub.execute_input": "2021-09-01T15:23:10.934025Z",
     "iopub.status.busy": "2021-09-01T15:23:10.933275Z",
     "iopub.status.idle": "2021-09-01T15:23:10.938539Z",
     "shell.execute_reply": "2021-09-01T15:23:10.937974Z",
     "shell.execute_reply.started": "2021-09-01T15:13:51.739952Z"
    },
    "papermill": {
     "duration": 0.092684,
     "end_time": "2021-09-01T15:23:10.938726",
     "exception": false,
     "start_time": "2021-09-01T15:23:10.846042",
     "status": "completed"
    },
    "tags": []
   },
   "outputs": [
    {
     "data": {
      "text/plain": [
       "count     81.000000\n",
       "mean      79.444444\n",
       "std        9.712106\n",
       "min        0.000000\n",
       "25%       78.000000\n",
       "50%       80.000000\n",
       "75%       82.000000\n",
       "max      100.000000\n",
       "Name: Percentage, dtype: float64"
      ]
     },
     "execution_count": 25,
     "metadata": {},
     "output_type": "execute_result"
    }
   ],
   "source": [
    "Neighbourhoods_attendance_percentages = pd.DataFrame(data=Neighbourhoods_names,columns=['Neighbourhood']) \n",
    "Neighbourhoods_attendance_percentages['Percentage']= np.array(Neighbourhood_attendance_percentage).round()\n",
    "Neighbourhoods_attendance_percentages = Neighbourhoods_attendance_percentages.sort_values(by='Percentage',)\n",
    "Neighbourhoods_attendance_percentages['Percentage'].describe(include='all')"
   ]
  },
  {
   "cell_type": "code",
   "execution_count": 26,
   "id": "7811f81f",
   "metadata": {
    "execution": {
     "iopub.execute_input": "2021-09-01T15:23:11.112087Z",
     "iopub.status.busy": "2021-09-01T15:23:11.111025Z",
     "iopub.status.idle": "2021-09-01T15:23:11.388740Z",
     "shell.execute_reply": "2021-09-01T15:23:11.388168Z",
     "shell.execute_reply.started": "2021-09-01T15:13:53.465986Z"
    },
    "papermill": {
     "duration": 0.37637,
     "end_time": "2021-09-01T15:23:11.388891",
     "exception": false,
     "start_time": "2021-09-01T15:23:11.012521",
     "status": "completed"
    },
    "tags": []
   },
   "outputs": [
    {
     "name": "stderr",
     "output_type": "stream",
     "text": [
      "/opt/conda/lib/python3.7/site-packages/seaborn/distributions.py:2557: FutureWarning: `distplot` is a deprecated function and will be removed in a future version. Please adapt your code to use either `displot` (a figure-level function with similar flexibility) or `histplot` (an axes-level function for histograms).\n",
      "  warnings.warn(msg, FutureWarning)\n"
     ]
    },
    {
     "data": {
      "text/plain": [
       "<AxesSubplot:xlabel='Percentage', ylabel='Density'>"
      ]
     },
     "execution_count": 26,
     "metadata": {},
     "output_type": "execute_result"
    },
    {
     "data": {
      "image/png": "[encoded data removed]",
      "text/plain": [
       "<Figure size 432x288 with 1 Axes>"
      ]
     },
     "metadata": {
      "needs_background": "light"
     },
     "output_type": "display_data"
    }
   ],
   "source": [
    "sb.distplot(Neighbourhoods_attendance_percentages['Percentage'])"
   ]
  },
  {
   "cell_type": "markdown",
   "id": "cf6f0e88",
   "metadata": {
    "papermill": {
     "duration": 0.073805,
     "end_time": "2021-09-01T15:23:11.536921",
     "exception": false,
     "start_time": "2021-09-01T15:23:11.463116",
     "status": "completed"
    },
    "tags": []
   },
   "source": [
    "so we have an average attendance of 79.5% per each neighbourhood but we have high standard deviation\n",
    "because we have some neighbour close to 100 percent "
   ]
  },
  {
   "cell_type": "code",
   "execution_count": 27,
   "id": "489885f6",
   "metadata": {
    "execution": {
     "iopub.execute_input": "2021-09-01T15:23:11.696697Z",
     "iopub.status.busy": "2021-09-01T15:23:11.695957Z",
     "iopub.status.idle": "2021-09-01T15:23:11.699843Z",
     "shell.execute_reply": "2021-09-01T15:23:11.699204Z",
     "shell.execute_reply.started": "2021-09-01T15:13:56.109766Z"
    },
    "papermill": {
     "duration": 0.089567,
     "end_time": "2021-09-01T15:23:11.699995",
     "exception": false,
     "start_time": "2021-09-01T15:23:11.610428",
     "status": "completed"
    },
    "tags": []
   },
   "outputs": [
    {
     "data": {
      "text/html": [
       "<div>\n",
       "<style scoped>\n",
       "    .dataframe tbody tr th:only-of-type {\n",
       "        vertical-align: middle;\n",
       "    }\n",
       "\n",
       "    .dataframe tbody tr th {\n",
       "        vertical-align: top;\n",
       "    }\n",
       "\n",
       "    .dataframe thead th {\n",
       "        text-align: right;\n",
       "    }\n",
       "</style>\n",
       "<table border=\"1\" class=\"dataframe\">\n",
       "  <thead>\n",
       "    <tr style=\"text-align: right;\">\n",
       "      <th></th>\n",
       "      <th>Neighbourhood</th>\n",
       "      <th>Percentage</th>\n",
       "    </tr>\n",
       "  </thead>\n",
       "  <tbody>\n",
       "    <tr>\n",
       "      <th>75</th>\n",
       "      <td>ILHA DO BOI</td>\n",
       "      <td>91.0</td>\n",
       "    </tr>\n",
       "    <tr>\n",
       "      <th>80</th>\n",
       "      <td>PARQUE INDUSTRIAL</td>\n",
       "      <td>100.0</td>\n",
       "    </tr>\n",
       "  </tbody>\n",
       "</table>\n",
       "</div>"
      ],
      "text/plain": [
       "        Neighbourhood  Percentage\n",
       "75        ILHA DO BOI        91.0\n",
       "80  PARQUE INDUSTRIAL       100.0"
      ]
     },
     "execution_count": 27,
     "metadata": {},
     "output_type": "execute_result"
    }
   ],
   "source": [
    "#checking neighbourhoods attendance percentages away from the mean (outliers)\n",
    "Neighbourhoods_attendance_percentages[Neighbourhoods_attendance_percentages['Percentage'] > 90]"
   ]
  },
  {
   "cell_type": "code",
   "execution_count": 28,
   "id": "ee5ad079",
   "metadata": {
    "execution": {
     "iopub.execute_input": "2021-09-01T15:23:11.875195Z",
     "iopub.status.busy": "2021-09-01T15:23:11.874059Z",
     "iopub.status.idle": "2021-09-01T15:23:11.898056Z",
     "shell.execute_reply": "2021-09-01T15:23:11.896934Z",
     "shell.execute_reply.started": "2021-09-01T15:13:57.066645Z"
    },
    "papermill": {
     "duration": 0.123199,
     "end_time": "2021-09-01T15:23:11.898275",
     "exception": false,
     "start_time": "2021-09-01T15:23:11.775076",
     "status": "completed"
    },
    "tags": []
   },
   "outputs": [
    {
     "name": "stdout",
     "output_type": "stream",
     "text": [
      "32\n",
      "35\n"
     ]
    }
   ],
   "source": [
    "print(len(Data[(Data.Neighbourhood =='ILHA DO BOI' ) & (Data['No-show']==0)]))\n",
    "print(len(Data[Data.Neighbourhood =='ILHA DO BOI'])) # 32 out of 35 attended the appointment"
   ]
  },
  {
   "cell_type": "code",
   "execution_count": 29,
   "id": "dc4c0554",
   "metadata": {
    "execution": {
     "iopub.execute_input": "2021-09-01T15:23:12.076301Z",
     "iopub.status.busy": "2021-09-01T15:23:12.075595Z",
     "iopub.status.idle": "2021-09-01T15:23:12.099288Z",
     "shell.execute_reply": "2021-09-01T15:23:12.098608Z",
     "shell.execute_reply.started": "2021-09-01T15:13:57.734832Z"
    },
    "papermill": {
     "duration": 0.120743,
     "end_time": "2021-09-01T15:23:12.099464",
     "exception": false,
     "start_time": "2021-09-01T15:23:11.978721",
     "status": "completed"
    },
    "tags": []
   },
   "outputs": [
    {
     "name": "stdout",
     "output_type": "stream",
     "text": [
      "1\n",
      "1\n"
     ]
    }
   ],
   "source": [
    "print(len(Data[(Data.Neighbourhood =='PARQUE INDUSTRIAL' ) & (Data['No-show']==0)]))\n",
    "print(len(Data[Data.Neighbourhood =='PARQUE INDUSTRIAL'])) \n",
    "# there is only one patient from this neighbourhood"
   ]
  },
  {
   "cell_type": "code",
   "execution_count": 30,
   "id": "17962fc6",
   "metadata": {
    "execution": {
     "iopub.execute_input": "2021-09-01T15:23:12.276995Z",
     "iopub.status.busy": "2021-09-01T15:23:12.276084Z",
     "iopub.status.idle": "2021-09-01T15:23:12.283131Z",
     "shell.execute_reply": "2021-09-01T15:23:12.283625Z",
     "shell.execute_reply.started": "2021-09-01T15:13:58.459171Z"
    },
    "papermill": {
     "duration": 0.107483,
     "end_time": "2021-09-01T15:23:12.283834",
     "exception": false,
     "start_time": "2021-09-01T15:23:12.176351",
     "status": "completed"
    },
    "tags": []
   },
   "outputs": [
    {
     "name": "stdout",
     "output_type": "stream",
     "text": [
      "                  Neighbourhood  Percentage\n",
      "79  ILHAS OCEÂNICAS DE TRINDADE         0.0\n",
      "0\n"
     ]
    }
   ],
   "source": [
    "print(Neighbourhoods_attendance_percentages[Neighbourhoods_attendance_percentages['Percentage'] < 10])\n",
    "print(len(Data[(Data.Neighbourhood =='ILHAS OCEÂNICAS DE TRINDADE' ) & (Data['No-show']==0)]))\n",
    "# there is no patients in this neighbourhood"
   ]
  },
  {
   "cell_type": "markdown",
   "id": "ae8b66c0",
   "metadata": {
    "papermill": {
     "duration": 0.075585,
     "end_time": "2021-09-01T15:23:12.435534",
     "exception": false,
     "start_time": "2021-09-01T15:23:12.359949",
     "status": "completed"
    },
    "tags": []
   },
   "source": [
    "#### so we could trust neighbourhoods with attendance percents greater than 80% and the most trustful one will be ( ILHA DO BOI )"
   ]
  },
  {
   "cell_type": "code",
   "execution_count": 31,
   "id": "de7cd5c4",
   "metadata": {
    "execution": {
     "iopub.execute_input": "2021-09-01T15:23:12.593438Z",
     "iopub.status.busy": "2021-09-01T15:23:12.592797Z",
     "iopub.status.idle": "2021-09-01T15:23:12.764486Z",
     "shell.execute_reply": "2021-09-01T15:23:12.763893Z",
     "shell.execute_reply.started": "2021-09-01T15:14:00.287460Z"
    },
    "papermill": {
     "duration": 0.253192,
     "end_time": "2021-09-01T15:23:12.764638",
     "exception": false,
     "start_time": "2021-09-01T15:23:12.511446",
     "status": "completed"
    },
    "tags": []
   },
   "outputs": [
    {
     "name": "stderr",
     "output_type": "stream",
     "text": [
      "/opt/conda/lib/python3.7/site-packages/seaborn/_decorators.py:43: FutureWarning: Pass the following variables as keyword args: x, y. From version 0.12, the only valid positional argument will be `data`, and passing other arguments without an explicit keyword will result in an error or misinterpretation.\n",
      "  FutureWarning\n"
     ]
    },
    {
     "data": {
      "text/plain": [
       "<AxesSubplot:xlabel='No-show', ylabel='Age'>"
      ]
     },
     "execution_count": 31,
     "metadata": {},
     "output_type": "execute_result"
    },
    {
     "data": {
      "image/png": "[encoded data removed]",
      "text/plain": [
       "<Figure size 432x288 with 1 Axes>"
      ]
     },
     "metadata": {
      "needs_background": "light"
     },
     "output_type": "display_data"
    }
   ],
   "source": [
    "#Exploring Age\n",
    "sb.boxplot(Data['No-show'],Data['Age'])"
   ]
  },
  {
   "cell_type": "code",
   "execution_count": 32,
   "id": "a8b59cf4",
   "metadata": {
    "execution": {
     "iopub.execute_input": "2021-09-01T15:23:12.932034Z",
     "iopub.status.busy": "2021-09-01T15:23:12.931219Z",
     "iopub.status.idle": "2021-09-01T15:23:13.979126Z",
     "shell.execute_reply": "2021-09-01T15:23:13.978416Z",
     "shell.execute_reply.started": "2021-09-01T15:18:56.907903Z"
    },
    "papermill": {
     "duration": 1.134287,
     "end_time": "2021-09-01T15:23:13.979297",
     "exception": false,
     "start_time": "2021-09-01T15:23:12.845010",
     "status": "completed"
    },
    "tags": []
   },
   "outputs": [
    {
     "name": "stderr",
     "output_type": "stream",
     "text": [
      "/opt/conda/lib/python3.7/site-packages/seaborn/distributions.py:2557: FutureWarning: `distplot` is a deprecated function and will be removed in a future version. Please adapt your code to use either `displot` (a figure-level function with similar flexibility) or `histplot` (an axes-level function for histograms).\n",
      "  warnings.warn(msg, FutureWarning)\n",
      "/opt/conda/lib/python3.7/site-packages/seaborn/distributions.py:2557: FutureWarning: `distplot` is a deprecated function and will be removed in a future version. Please adapt your code to use either `displot` (a figure-level function with similar flexibility) or `histplot` (an axes-level function for histograms).\n",
      "  warnings.warn(msg, FutureWarning)\n"
     ]
    },
    {
     "data": {
      "text/plain": [
       "Text(0.5, 1.0, 'Comparing age distributions for show & No-show')"
      ]
     },
     "execution_count": 32,
     "metadata": {},
     "output_type": "execute_result"
    },
    {
     "data": {
      "image/png": "[encoded data removed]",
      "text/plain": [
       "<Figure size 432x288 with 1 Axes>"
      ]
     },
     "metadata": {
      "needs_background": "light"
     },
     "output_type": "display_data"
    }
   ],
   "source": [
    "# comparing the age distributions for both No-show and show\n",
    "sb.distplot(Data['Age'][Data['No-show'] == 0],bins=20,color='yellow') \n",
    "sb.distplot(Data['Age'][Data['No-show'] == 1],bins=20)\n",
    "plt.legend({'No-show = 1','No-show = 0'})\n",
    "plt.title('Comparing age distributions for show & No-show')"
   ]
  },
  {
   "cell_type": "markdown",
   "id": "6ebb8eb8",
   "metadata": {
    "papermill": {
     "duration": 0.082969,
     "end_time": "2021-09-01T15:23:14.144638",
     "exception": false,
     "start_time": "2021-09-01T15:23:14.061669",
     "status": "completed"
    },
    "tags": []
   },
   "source": [
    "seems that from 5 years to 40 years more people will ignore their appointments as the graph show a higher freqencies @ the blue curve in this period .. this is real fact as in this years everyone be more youth and powerful ... and at the first 5 years the patients attend ( the yellow curve shows higher density ) as thier parents care about them ... same for people above 45 we see higher density at the yellow curve meaning that they are more careful about attendence and their health"
   ]
  },
  {
   "cell_type": "code",
   "execution_count": 33,
   "id": "5d52957b",
   "metadata": {
    "execution": {
     "iopub.execute_input": "2021-09-01T15:23:14.346430Z",
     "iopub.status.busy": "2021-09-01T15:23:14.330579Z",
     "iopub.status.idle": "2021-09-01T15:23:14.636500Z",
     "shell.execute_reply": "2021-09-01T15:23:14.635900Z",
     "shell.execute_reply.started": "2021-09-01T15:14:02.692353Z"
    },
    "papermill": {
     "duration": 0.411013,
     "end_time": "2021-09-01T15:23:14.636659",
     "exception": false,
     "start_time": "2021-09-01T15:23:14.225646",
     "status": "completed"
    },
    "tags": []
   },
   "outputs": [
    {
     "data": {
      "text/plain": [
       "0        2016-04-29\n",
       "1        2016-04-29\n",
       "2        2016-04-29\n",
       "3        2016-04-29\n",
       "4        2016-04-29\n",
       "            ...    \n",
       "110522   2016-05-03\n",
       "110523   2016-05-03\n",
       "110524   2016-04-27\n",
       "110525   2016-04-27\n",
       "110526   2016-04-27\n",
       "Name: ScheduledDay, Length: 110327, dtype: datetime64[ns]"
      ]
     },
     "execution_count": 33,
     "metadata": {},
     "output_type": "execute_result"
    }
   ],
   "source": [
    "## EXploring time effect on No-show\n",
    "## converting time\n",
    "import datetime as dt\n",
    "Data['ScheduledDay'] = pd.to_datetime(Data['ScheduledDay']).dt.date.astype('datetime64[ns]')\n",
    "Data['AppointmentDay'] = pd.to_datetime(Data['AppointmentDay']).dt.date.astype('datetime64[ns]')\n",
    "Data['ScheduledDay']"
   ]
  },
  {
   "cell_type": "code",
   "execution_count": 34,
   "id": "c679fabf",
   "metadata": {
    "execution": {
     "iopub.execute_input": "2021-09-01T15:23:15.005936Z",
     "iopub.status.busy": "2021-09-01T15:23:14.843241Z",
     "iopub.status.idle": "2021-09-01T15:23:16.668549Z",
     "shell.execute_reply": "2021-09-01T15:23:16.669188Z",
     "shell.execute_reply.started": "2021-09-01T15:14:04.006368Z"
    },
    "papermill": {
     "duration": 1.952278,
     "end_time": "2021-09-01T15:23:16.669418",
     "exception": false,
     "start_time": "2021-09-01T15:23:14.717140",
     "status": "completed"
    },
    "tags": []
   },
   "outputs": [
    {
     "data": {
      "text/plain": [
       "[4, 4, 4, 4, 4, 2, 2, 2, 4, 2, 2, 1, 3, 3, 3, 1, 3, 3, 1, 4]"
      ]
     },
     "execution_count": 34,
     "metadata": {},
     "output_type": "execute_result"
    }
   ],
   "source": [
    "# dividing dates to days, months and years\n",
    "ScheduledDays = [ x.day for x in Data['ScheduledDay'] ]\n",
    "ScheduledDays_of_week = [ x.weekday() for x in Data['ScheduledDay'] ]\n",
    "ScheduledMonths = [ x.month for x in Data['ScheduledDay'] ]\n",
    "\n",
    "AppointmentDays = [ x.day for x in Data['AppointmentDay'] ]\n",
    "AppointmentDays_of_week = [ x.weekday() for x in Data['AppointmentDay'] ]\n",
    "AppointmentMonths = [ x.month for x in Data['AppointmentDay'] ]\n",
    "\n",
    "ScheduledDays_of_week[:20]"
   ]
  },
  {
   "cell_type": "code",
   "execution_count": 35,
   "id": "a40eb17a",
   "metadata": {
    "execution": {
     "iopub.execute_input": "2021-09-01T15:23:16.889115Z",
     "iopub.status.busy": "2021-09-01T15:23:16.888419Z",
     "iopub.status.idle": "2021-09-01T15:23:17.155825Z",
     "shell.execute_reply": "2021-09-01T15:23:17.154800Z",
     "shell.execute_reply.started": "2021-09-01T15:14:05.902140Z"
    },
    "papermill": {
     "duration": 0.406496,
     "end_time": "2021-09-01T15:23:17.155995",
     "exception": false,
     "start_time": "2021-09-01T15:23:16.749499",
     "status": "completed"
    },
    "tags": []
   },
   "outputs": [
    {
     "data": {
      "text/html": [
       "<div>\n",
       "<style scoped>\n",
       "    .dataframe tbody tr th:only-of-type {\n",
       "        vertical-align: middle;\n",
       "    }\n",
       "\n",
       "    .dataframe tbody tr th {\n",
       "        vertical-align: top;\n",
       "    }\n",
       "\n",
       "    .dataframe thead th {\n",
       "        text-align: right;\n",
       "    }\n",
       "</style>\n",
       "<table border=\"1\" class=\"dataframe\">\n",
       "  <thead>\n",
       "    <tr style=\"text-align: right;\">\n",
       "      <th></th>\n",
       "      <th>ScheduledDays</th>\n",
       "      <th>ScheduledDays_of_week</th>\n",
       "      <th>ScheduledMonths</th>\n",
       "      <th>AppointmentDays</th>\n",
       "      <th>AppointmentDays_of_week</th>\n",
       "      <th>AppointmentMonths</th>\n",
       "      <th>No-show</th>\n",
       "    </tr>\n",
       "  </thead>\n",
       "  <tbody>\n",
       "    <tr>\n",
       "      <th>0</th>\n",
       "      <td>29</td>\n",
       "      <td>4</td>\n",
       "      <td>4</td>\n",
       "      <td>29</td>\n",
       "      <td>4</td>\n",
       "      <td>4</td>\n",
       "      <td>0.0</td>\n",
       "    </tr>\n",
       "    <tr>\n",
       "      <th>1</th>\n",
       "      <td>29</td>\n",
       "      <td>4</td>\n",
       "      <td>4</td>\n",
       "      <td>29</td>\n",
       "      <td>4</td>\n",
       "      <td>4</td>\n",
       "      <td>0.0</td>\n",
       "    </tr>\n",
       "    <tr>\n",
       "      <th>2</th>\n",
       "      <td>29</td>\n",
       "      <td>4</td>\n",
       "      <td>4</td>\n",
       "      <td>29</td>\n",
       "      <td>4</td>\n",
       "      <td>4</td>\n",
       "      <td>0.0</td>\n",
       "    </tr>\n",
       "    <tr>\n",
       "      <th>3</th>\n",
       "      <td>29</td>\n",
       "      <td>4</td>\n",
       "      <td>4</td>\n",
       "      <td>29</td>\n",
       "      <td>4</td>\n",
       "      <td>4</td>\n",
       "      <td>0.0</td>\n",
       "    </tr>\n",
       "    <tr>\n",
       "      <th>4</th>\n",
       "      <td>29</td>\n",
       "      <td>4</td>\n",
       "      <td>4</td>\n",
       "      <td>29</td>\n",
       "      <td>4</td>\n",
       "      <td>4</td>\n",
       "      <td>0.0</td>\n",
       "    </tr>\n",
       "  </tbody>\n",
       "</table>\n",
       "</div>"
      ],
      "text/plain": [
       "   ScheduledDays  ScheduledDays_of_week  ScheduledMonths  AppointmentDays  \\\n",
       "0             29                      4                4               29   \n",
       "1             29                      4                4               29   \n",
       "2             29                      4                4               29   \n",
       "3             29                      4                4               29   \n",
       "4             29                      4                4               29   \n",
       "\n",
       "   AppointmentDays_of_week  AppointmentMonths  No-show  \n",
       "0                        4                  4      0.0  \n",
       "1                        4                  4      0.0  \n",
       "2                        4                  4      0.0  \n",
       "3                        4                  4      0.0  \n",
       "4                        4                  4      0.0  "
      ]
     },
     "execution_count": 35,
     "metadata": {},
     "output_type": "execute_result"
    }
   ],
   "source": [
    "#creating a detailed date datafrmae\n",
    "date_series = {'ScheduledDays':ScheduledDays,\n",
    "               'ScheduledDays_of_week':ScheduledDays_of_week,\n",
    "               'ScheduledMonths':ScheduledMonths,\n",
    "               'AppointmentDays':AppointmentDays,\n",
    "               'AppointmentDays_of_week':AppointmentDays_of_week,\n",
    "               'AppointmentMonths':AppointmentMonths,\n",
    "                   }\n",
    "dates_indetail = pd.DataFrame(date_series)\n",
    "dates_indetail['No-show'] = Data['No-show']\n",
    "dates_indetail[:5]"
   ]
  },
  {
   "cell_type": "code",
   "execution_count": 36,
   "id": "4167388f",
   "metadata": {
    "execution": {
     "iopub.execute_input": "2021-09-01T15:23:17.326139Z",
     "iopub.status.busy": "2021-09-01T15:23:17.325430Z",
     "iopub.status.idle": "2021-09-01T15:23:17.378568Z",
     "shell.execute_reply": "2021-09-01T15:23:17.377969Z",
     "shell.execute_reply.started": "2021-09-01T15:14:06.492224Z"
    },
    "papermill": {
     "duration": 0.140662,
     "end_time": "2021-09-01T15:23:17.378745",
     "exception": false,
     "start_time": "2021-09-01T15:23:17.238083",
     "status": "completed"
    },
    "tags": []
   },
   "outputs": [
    {
     "data": {
      "text/html": [
       "<div>\n",
       "<style scoped>\n",
       "    .dataframe tbody tr th:only-of-type {\n",
       "        vertical-align: middle;\n",
       "    }\n",
       "\n",
       "    .dataframe tbody tr th {\n",
       "        vertical-align: top;\n",
       "    }\n",
       "\n",
       "    .dataframe thead th {\n",
       "        text-align: right;\n",
       "    }\n",
       "</style>\n",
       "<table border=\"1\" class=\"dataframe\">\n",
       "  <thead>\n",
       "    <tr style=\"text-align: right;\">\n",
       "      <th></th>\n",
       "      <th>ScheduledDays</th>\n",
       "      <th>ScheduledDays_of_week</th>\n",
       "      <th>ScheduledMonths</th>\n",
       "      <th>AppointmentDays</th>\n",
       "      <th>AppointmentDays_of_week</th>\n",
       "      <th>AppointmentMonths</th>\n",
       "      <th>No-show</th>\n",
       "    </tr>\n",
       "  </thead>\n",
       "  <tbody>\n",
       "    <tr>\n",
       "      <th>count</th>\n",
       "      <td>110327.000000</td>\n",
       "      <td>110327.000000</td>\n",
       "      <td>110327.000000</td>\n",
       "      <td>110327.000000</td>\n",
       "      <td>110327.000000</td>\n",
       "      <td>110327.000000</td>\n",
       "      <td>110127.000000</td>\n",
       "    </tr>\n",
       "    <tr>\n",
       "      <th>mean</th>\n",
       "      <td>14.252667</td>\n",
       "      <td>1.852067</td>\n",
       "      <td>4.823806</td>\n",
       "      <td>12.499361</td>\n",
       "      <td>1.858276</td>\n",
       "      <td>5.210094</td>\n",
       "      <td>0.201867</td>\n",
       "    </tr>\n",
       "    <tr>\n",
       "      <th>std</th>\n",
       "      <td>9.345836</td>\n",
       "      <td>1.378527</td>\n",
       "      <td>0.715840</td>\n",
       "      <td>9.056694</td>\n",
       "      <td>1.371710</td>\n",
       "      <td>0.473767</td>\n",
       "      <td>0.401395</td>\n",
       "    </tr>\n",
       "    <tr>\n",
       "      <th>min</th>\n",
       "      <td>1.000000</td>\n",
       "      <td>0.000000</td>\n",
       "      <td>1.000000</td>\n",
       "      <td>1.000000</td>\n",
       "      <td>0.000000</td>\n",
       "      <td>4.000000</td>\n",
       "      <td>0.000000</td>\n",
       "    </tr>\n",
       "    <tr>\n",
       "      <th>25%</th>\n",
       "      <td>6.000000</td>\n",
       "      <td>1.000000</td>\n",
       "      <td>4.000000</td>\n",
       "      <td>5.000000</td>\n",
       "      <td>1.000000</td>\n",
       "      <td>5.000000</td>\n",
       "      <td>0.000000</td>\n",
       "    </tr>\n",
       "    <tr>\n",
       "      <th>50%</th>\n",
       "      <td>13.000000</td>\n",
       "      <td>2.000000</td>\n",
       "      <td>5.000000</td>\n",
       "      <td>10.000000</td>\n",
       "      <td>2.000000</td>\n",
       "      <td>5.000000</td>\n",
       "      <td>0.000000</td>\n",
       "    </tr>\n",
       "    <tr>\n",
       "      <th>75%</th>\n",
       "      <td>22.000000</td>\n",
       "      <td>3.000000</td>\n",
       "      <td>5.000000</td>\n",
       "      <td>19.000000</td>\n",
       "      <td>3.000000</td>\n",
       "      <td>5.000000</td>\n",
       "      <td>0.000000</td>\n",
       "    </tr>\n",
       "    <tr>\n",
       "      <th>max</th>\n",
       "      <td>31.000000</td>\n",
       "      <td>5.000000</td>\n",
       "      <td>12.000000</td>\n",
       "      <td>31.000000</td>\n",
       "      <td>5.000000</td>\n",
       "      <td>6.000000</td>\n",
       "      <td>1.000000</td>\n",
       "    </tr>\n",
       "  </tbody>\n",
       "</table>\n",
       "</div>"
      ],
      "text/plain": [
       "       ScheduledDays  ScheduledDays_of_week  ScheduledMonths  AppointmentDays  \\\n",
       "count  110327.000000          110327.000000    110327.000000    110327.000000   \n",
       "mean       14.252667               1.852067         4.823806        12.499361   \n",
       "std         9.345836               1.378527         0.715840         9.056694   \n",
       "min         1.000000               0.000000         1.000000         1.000000   \n",
       "25%         6.000000               1.000000         4.000000         5.000000   \n",
       "50%        13.000000               2.000000         5.000000        10.000000   \n",
       "75%        22.000000               3.000000         5.000000        19.000000   \n",
       "max        31.000000               5.000000        12.000000        31.000000   \n",
       "\n",
       "       AppointmentDays_of_week  AppointmentMonths        No-show  \n",
       "count            110327.000000      110327.000000  110127.000000  \n",
       "mean                  1.858276           5.210094       0.201867  \n",
       "std                   1.371710           0.473767       0.401395  \n",
       "min                   0.000000           4.000000       0.000000  \n",
       "25%                   1.000000           5.000000       0.000000  \n",
       "50%                   2.000000           5.000000       0.000000  \n",
       "75%                   3.000000           5.000000       0.000000  \n",
       "max                   5.000000           6.000000       1.000000  "
      ]
     },
     "execution_count": 36,
     "metadata": {},
     "output_type": "execute_result"
    }
   ],
   "source": [
    "dates_indetail.describe(include='all')"
   ]
  },
  {
   "cell_type": "markdown",
   "id": "c9679117",
   "metadata": {
    "papermill": {
     "duration": 0.0817,
     "end_time": "2021-09-01T15:23:17.542774",
     "exception": false,
     "start_time": "2021-09-01T15:23:17.461074",
     "status": "completed"
    },
    "tags": []
   },
   "source": [
    "for both scheduled and appointment days of week , people like the first 3 days more"
   ]
  },
  {
   "cell_type": "code",
   "execution_count": 37,
   "id": "f832f76a",
   "metadata": {
    "execution": {
     "iopub.execute_input": "2021-09-01T15:23:17.736140Z",
     "iopub.status.busy": "2021-09-01T15:23:17.732777Z",
     "iopub.status.idle": "2021-09-01T15:23:19.207572Z",
     "shell.execute_reply": "2021-09-01T15:23:19.208075Z",
     "shell.execute_reply.started": "2021-09-01T15:22:01.990537Z"
    },
    "papermill": {
     "duration": 1.583656,
     "end_time": "2021-09-01T15:23:19.208276",
     "exception": false,
     "start_time": "2021-09-01T15:23:17.624620",
     "status": "completed"
    },
    "tags": []
   },
   "outputs": [
    {
     "name": "stderr",
     "output_type": "stream",
     "text": [
      "/opt/conda/lib/python3.7/site-packages/seaborn/distributions.py:2557: FutureWarning: `distplot` is a deprecated function and will be removed in a future version. Please adapt your code to use either `displot` (a figure-level function with similar flexibility) or `histplot` (an axes-level function for histograms).\n",
      "  warnings.warn(msg, FutureWarning)\n",
      "/opt/conda/lib/python3.7/site-packages/seaborn/distributions.py:2557: FutureWarning: `distplot` is a deprecated function and will be removed in a future version. Please adapt your code to use either `displot` (a figure-level function with similar flexibility) or `histplot` (an axes-level function for histograms).\n",
      "  warnings.warn(msg, FutureWarning)\n"
     ]
    },
    {
     "data": {
      "text/plain": [
       "Text(0.5, 1.0, 'Days of month')"
      ]
     },
     "execution_count": 37,
     "metadata": {},
     "output_type": "execute_result"
    },
    {
     "data": {
      "image/png": "[encoded data removed]",
      "text/plain": [
       "<Figure size 432x288 with 1 Axes>"
      ]
     },
     "metadata": {
      "needs_background": "light"
     },
     "output_type": "display_data"
    }
   ],
   "source": [
    "#exploring days of month\n",
    "sb.distplot(ScheduledDays,bins=15,color='yellow')\n",
    "sb.distplot(AppointmentDays,bins=15,color='darkgray')\n",
    "plt.legend({'AppointmentDays of month','ScheduledDays of month'})\n",
    "plt.title('Days of month')"
   ]
  },
  {
   "cell_type": "markdown",
   "id": "da293dae",
   "metadata": {
    "papermill": {
     "duration": 0.084485,
     "end_time": "2021-09-01T15:23:19.378143",
     "exception": false,
     "start_time": "2021-09-01T15:23:19.293658",
     "status": "completed"
    },
    "tags": []
   },
   "source": [
    "so we could see that people calls more to schedule an appointment at the first and the end\n",
    "    of months as we see the decrease after the first 5 days till it reachs the lowest possible \n",
    "    @ the last 10 days of the month then it begins to increase @ the last days of month"
   ]
  },
  {
   "cell_type": "code",
   "execution_count": 38,
   "id": "fc08b6fc",
   "metadata": {
    "execution": {
     "iopub.execute_input": "2021-09-01T15:23:19.583649Z",
     "iopub.status.busy": "2021-09-01T15:23:19.582962Z",
     "iopub.status.idle": "2021-09-01T15:23:19.843626Z",
     "shell.execute_reply": "2021-09-01T15:23:19.843030Z",
     "shell.execute_reply.started": "2021-09-01T15:14:09.356793Z"
    },
    "papermill": {
     "duration": 0.368362,
     "end_time": "2021-09-01T15:23:19.843798",
     "exception": false,
     "start_time": "2021-09-01T15:23:19.475436",
     "status": "completed"
    },
    "tags": []
   },
   "outputs": [
    {
     "name": "stderr",
     "output_type": "stream",
     "text": [
      "/opt/conda/lib/python3.7/site-packages/seaborn/_decorators.py:43: FutureWarning: Pass the following variable as a keyword arg: x. From version 0.12, the only valid positional argument will be `data`, and passing other arguments without an explicit keyword will result in an error or misinterpretation.\n",
      "  FutureWarning\n"
     ]
    },
    {
     "data": {
      "text/plain": [
       "<AxesSubplot:xlabel='AppointmentDays_of_week', ylabel='count'>"
      ]
     },
     "execution_count": 38,
     "metadata": {},
     "output_type": "execute_result"
    },
    {
     "data": {
      "image/png": "[encoded data removed]",
      "text/plain": [
       "<Figure size 432x288 with 1 Axes>"
      ]
     },
     "metadata": {
      "needs_background": "light"
     },
     "output_type": "display_data"
    }
   ],
   "source": [
    "# exploring days of week\n",
    "sb.countplot(dates_indetail['AppointmentDays_of_week'],\n",
    "             hue = dates_indetail['No-show'])"
   ]
  },
  {
   "cell_type": "code",
   "execution_count": 39,
   "id": "450ced44",
   "metadata": {
    "execution": {
     "iopub.execute_input": "2021-09-01T15:23:20.027412Z",
     "iopub.status.busy": "2021-09-01T15:23:20.026699Z",
     "iopub.status.idle": "2021-09-01T15:23:20.063473Z",
     "shell.execute_reply": "2021-09-01T15:23:20.063951Z",
     "shell.execute_reply.started": "2021-09-01T15:14:09.646709Z"
    },
    "papermill": {
     "duration": 0.132235,
     "end_time": "2021-09-01T15:23:20.064162",
     "exception": false,
     "start_time": "2021-09-01T15:23:19.931927",
     "status": "completed"
    },
    "tags": []
   },
   "outputs": [
    {
     "name": "stdout",
     "output_type": "stream",
     "text": [
      "days of week  [4, 1, 0, 2, 3, 5]\n",
      "attendance percent for each day [80, 80, 80, 80, 79, 85]\n"
     ]
    }
   ],
   "source": [
    "# exploring days of week attendance percents\n",
    "days = []\n",
    "each_day_attendance_percent = []\n",
    "for i in dates_indetail['AppointmentDays_of_week'].unique():\n",
    "    percentage = len(dates_indetail[(dates_indetail['AppointmentDays_of_week'] == int(i)) & (dates_indetail['No-show'] == 0 )]) / len(dates_indetail[dates_indetail['AppointmentDays_of_week'] == int(i)])*100\n",
    "    days.append(i)\n",
    "    each_day_attendance_percent.append(percentage)\n",
    "    \n",
    "print('days of week ',days)\n",
    "print('attendance percent for each day' , [round(x) for x in each_day_attendance_percent ])"
   ]
  },
  {
   "cell_type": "markdown",
   "id": "d82c4d78",
   "metadata": {
    "papermill": {
     "duration": 0.086121,
     "end_time": "2021-09-01T15:23:20.237199",
     "exception": false,
     "start_time": "2021-09-01T15:23:20.151078",
     "status": "completed"
    },
    "tags": []
   },
   "source": [
    "we se almost equal percents so day of the week doesn't affect attendance rate"
   ]
  },
  {
   "cell_type": "code",
   "execution_count": 40,
   "id": "4b07e60b",
   "metadata": {
    "execution": {
     "iopub.execute_input": "2021-09-01T15:23:20.417104Z",
     "iopub.status.busy": "2021-09-01T15:23:20.416414Z",
     "iopub.status.idle": "2021-09-01T15:23:20.636542Z",
     "shell.execute_reply": "2021-09-01T15:23:20.635852Z",
     "shell.execute_reply.started": "2021-09-01T15:14:10.380434Z"
    },
    "papermill": {
     "duration": 0.312688,
     "end_time": "2021-09-01T15:23:20.636702",
     "exception": false,
     "start_time": "2021-09-01T15:23:20.324014",
     "status": "completed"
    },
    "tags": []
   },
   "outputs": [
    {
     "name": "stderr",
     "output_type": "stream",
     "text": [
      "/opt/conda/lib/python3.7/site-packages/seaborn/_decorators.py:43: FutureWarning: Pass the following variable as a keyword arg: x. From version 0.12, the only valid positional argument will be `data`, and passing other arguments without an explicit keyword will result in an error or misinterpretation.\n",
      "  FutureWarning\n"
     ]
    },
    {
     "data": {
      "text/plain": [
       "<AxesSubplot:xlabel='AppointmentMonths', ylabel='count'>"
      ]
     },
     "execution_count": 40,
     "metadata": {},
     "output_type": "execute_result"
    },
    {
     "data": {
      "image/png": "[encoded data removed]",
      "text/plain": [
       "<Figure size 432x288 with 1 Axes>"
      ]
     },
     "metadata": {
      "needs_background": "light"
     },
     "output_type": "display_data"
    }
   ],
   "source": [
    "sb.countplot(dates_indetail['AppointmentMonths'],\n",
    "             hue = dates_indetail['No-show'])\n",
    "#seems that May was full of patients"
   ]
  },
  {
   "cell_type": "markdown",
   "id": "d426d2b2",
   "metadata": {
    "papermill": {
     "duration": 0.088724,
     "end_time": "2021-09-01T15:23:20.815192",
     "exception": false,
     "start_time": "2021-09-01T15:23:20.726468",
     "status": "completed"
    },
    "tags": []
   },
   "source": [
    "# Multivariate Analysis\n"
   ]
  },
  {
   "cell_type": "markdown",
   "id": "a5858144",
   "metadata": {
    "papermill": {
     "duration": 0.087656,
     "end_time": "2021-09-01T15:23:20.990747",
     "exception": false,
     "start_time": "2021-09-01T15:23:20.903091",
     "status": "completed"
    },
    "tags": []
   },
   "source": [
    "#### Multivariate Analysis for No-show & SMS_received with respect to other features"
   ]
  },
  {
   "cell_type": "code",
   "execution_count": 41,
   "id": "f82da448",
   "metadata": {
    "execution": {
     "iopub.execute_input": "2021-09-01T15:23:21.206408Z",
     "iopub.status.busy": "2021-09-01T15:23:21.205208Z",
     "iopub.status.idle": "2021-09-01T15:23:23.498645Z",
     "shell.execute_reply": "2021-09-01T15:23:23.497881Z",
     "shell.execute_reply.started": "2021-09-01T15:14:11.682344Z"
    },
    "papermill": {
     "duration": 2.418564,
     "end_time": "2021-09-01T15:23:23.498826",
     "exception": false,
     "start_time": "2021-09-01T15:23:21.080262",
     "status": "completed"
    },
    "tags": []
   },
   "outputs": [
    {
     "data": {
      "text/plain": [
       "<AxesSubplot:xlabel='Gender', ylabel='count'>"
      ]
     },
     "execution_count": 41,
     "metadata": {},
     "output_type": "execute_result"
    },
    {
     "data": {
      "image/png": "[encoded data removed]",
      "text/plain": [
       "<Figure size 720x1080 with 6 Axes>"
      ]
     },
     "metadata": {},
     "output_type": "display_data"
    }
   ],
   "source": [
    "No_show_0 = {0: \"darkgray\", 1 : \"yellow\",0: \"darkgray\", 1 : \"yellow\"}\n",
    "No_show_1 = {0: \"darkgray\", 1 : \"yellow\",0: \"darkgray\", 1 : \"yellow\"}\n",
    "sb.set_style(\"whitegrid\")\n",
    "fig, ax = plt.subplots(3, 2,figsize=(10,15),sharey=True,constrained_layout = True)\n",
    "\n",
    "sb.countplot( x= Data['Handcap'][Data['No-show'] == 0 ] , hue=Data['SMS_received'] , ax=ax[0,0],palette= No_show_0 )\n",
    "sb.countplot( x= Data['Handcap'][Data['No-show'] == 1 ] , hue=Data['SMS_received'] , ax=ax[0,0],palette=No_show_1 )\n",
    "\n",
    "sb.countplot( x= Data['Alcoholism'][Data['No-show'] == 0 ] , hue=Data['SMS_received'] , ax=ax[0,1],palette= No_show_0 )\n",
    "sb.countplot( x= Data['Alcoholism'][Data['No-show'] == 1 ] , hue=Data['SMS_received'] , ax=ax[0,1],palette=No_show_1 )\n",
    "\n",
    "sb.countplot( x= Data['Diabetes'][Data['No-show'] == 0 ] , hue=Data['SMS_received'] , ax=ax[1,0] ,palette= No_show_0)\n",
    "sb.countplot( x= Data['Diabetes'][Data['No-show'] == 1 ] , hue=Data['SMS_received'] , ax=ax[1,0] ,palette=No_show_1)\n",
    "\n",
    "sb.countplot( x= Data['Hipertension'][Data['No-show'] == 0 ] , hue=Data['SMS_received'] , ax=ax[1,1]  ,palette= No_show_0)\n",
    "sb.countplot( x= Data['Hipertension'][Data['No-show'] == 1 ] , hue=Data['SMS_received'] , ax=ax[1,1] ,palette=No_show_1)\n",
    "\n",
    "sb.countplot( x= Data['Scholarship'][Data['No-show'] == 0 ] , hue=Data['SMS_received'] , ax=ax[2,0] ,palette= No_show_0 )\n",
    "sb.countplot( x= Data['Scholarship'][Data['No-show'] == 1 ] , hue=Data['SMS_received'] , ax=ax[2,0],palette=No_show_1 )\n",
    "\n",
    "sb.countplot( x= Data['Gender'][Data['No-show'] == 0 ] , hue=Data['SMS_received'] , ax=ax[2,1] ,palette= No_show_0 )\n",
    "sb.countplot( x= Data['Gender'][Data['No-show'] == 1 ] , hue=Data['SMS_received'] , ax=ax[2,1],palette=No_show_1 )"
   ]
  },
  {
   "cell_type": "markdown",
   "id": "0ac38993",
   "metadata": {
    "papermill": {
     "duration": 0.089692,
     "end_time": "2021-09-01T15:23:23.678010",
     "exception": false,
     "start_time": "2021-09-01T15:23:23.588318",
     "status": "completed"
    },
    "tags": []
   },
   "source": [
    "this plot to investigate how sending a SMS to people with a positive value for a specific feature will affect the No-show values \n",
    "all the bars in the subplots represent the No-show value = 0 with respect to each feature and a hue = SMS_received\n",
    "the white line in each bar represent the no-show value = 1 , so we can see the effect of each feature being positive & sending or not sending a SMS on the No-show values ( the right side of each subplot )\n",
    "* results :\n",
    "      - we will ignore the effect of Handcap & alcoholism because it seems that we did not send enough SMSs\n",
    "      - for hipertension = 1 : percent of people ( No-show = 1 ) that we send a SMS is more than the half\n",
    "                               that we did not send a SMS\n",
    "                               but the percent of people ( No-show = 0 ) that we send a SMS is almost equal\n",
    "                               to the half that we did not send a SMSso sending a SMS was for the favor for\n",
    "                               No-show = 1 , so we don't need to send alot of SMSs for people who have\n",
    "                               Hipertension ( it did not make an effective difference)\n",
    "      - for Diabetes = 1 : seems it is the same case of hipertension , so we don't need to send that much of\n",
    "                           SMSs\n",
    "      - for Scholarship = 1 : almost equal percents of people ( No-show = 1 ) that we send and did not send\n",
    "                              SMSs , but for ( No-show = 0) percent of people that received a SMSs is less\n",
    "                              the half of that we did not send , so sending SMSs to \n",
    "                              people who had scolarships with in the favor for No-show = 1 , and it is the \n",
    "                              most observable one so those people that we should send the lowest number of\n",
    "                              SMSs\n",
    "      - for Gender : for females a lot of them received SMSs but we have 1:2 percents ( No-show = 1 : no-\n",
    "                     show = 0 ), but we have 1:5 percents for who didn't receive\n",
    "                     for males : 1:2 percents for who received , 1:5 for who didn't receive it also seems\n",
    "                     that sending SMSs to males is more effective than females .. as the males percent\n",
    "                     between SMS received and not received ( No-show = 1 for both ) is lower than same\n",
    "                     percent for females\n",
    "                     \n",
    "Conclusion : we send a lot of useless SMSs so we should start to decrease it , and the best way is to decrease it by this features sequence ( Scolarships , hipertension , diabetes and finally gender )"
   ]
  },
  {
   "cell_type": "code",
   "execution_count": 42,
   "id": "c5f16023",
   "metadata": {
    "execution": {
     "iopub.execute_input": "2021-09-01T15:23:23.864011Z",
     "iopub.status.busy": "2021-09-01T15:23:23.862927Z",
     "iopub.status.idle": "2021-09-01T15:23:24.713188Z",
     "shell.execute_reply": "2021-09-01T15:23:24.713711Z",
     "shell.execute_reply.started": "2021-09-01T15:14:13.662633Z"
    },
    "papermill": {
     "duration": 0.946256,
     "end_time": "2021-09-01T15:23:24.713927",
     "exception": false,
     "start_time": "2021-09-01T15:23:23.767671",
     "status": "completed"
    },
    "tags": []
   },
   "outputs": [
    {
     "name": "stderr",
     "output_type": "stream",
     "text": [
      "/opt/conda/lib/python3.7/site-packages/seaborn/_decorators.py:43: FutureWarning: Pass the following variables as keyword args: x, y. From version 0.12, the only valid positional argument will be `data`, and passing other arguments without an explicit keyword will result in an error or misinterpretation.\n",
      "  FutureWarning\n"
     ]
    },
    {
     "data": {
      "text/plain": [
       "<AxesSubplot:xlabel='No-show', ylabel='Age'>"
      ]
     },
     "execution_count": 42,
     "metadata": {},
     "output_type": "execute_result"
    },
    {
     "data": {
      "image/png": "[encoded data removed]",
      "text/plain": [
       "<Figure size 432x288 with 1 Axes>"
      ]
     },
     "metadata": {},
     "output_type": "display_data"
    }
   ],
   "source": [
    "sb.violinplot(Data['No-show'],Data['Age'],hue=Data['SMS_received'])"
   ]
  },
  {
   "cell_type": "markdown",
   "id": "3ed05950",
   "metadata": {
    "papermill": {
     "duration": 0.092439,
     "end_time": "2021-09-01T15:23:24.900354",
     "exception": false,
     "start_time": "2021-09-01T15:23:24.807915",
     "status": "completed"
    },
    "tags": []
   },
   "source": [
    "we can see how the plot become denser in the age between 45 and 65 when we send a SMS\n",
    "    notice that this is mostly due to sending SMS because we can see how slightly the vilion\n",
    "    become denser in the same range if we don't send a SMS"
   ]
  },
  {
   "cell_type": "code",
   "execution_count": 43,
   "id": "0fd76861",
   "metadata": {
    "execution": {
     "iopub.execute_input": "2021-09-01T15:23:25.101633Z",
     "iopub.status.busy": "2021-09-01T15:23:25.100314Z",
     "iopub.status.idle": "2021-09-01T15:23:25.150910Z",
     "shell.execute_reply": "2021-09-01T15:23:25.150221Z",
     "shell.execute_reply.started": "2021-09-01T15:14:14.503136Z"
    },
    "papermill": {
     "duration": 0.154168,
     "end_time": "2021-09-01T15:23:25.151067",
     "exception": false,
     "start_time": "2021-09-01T15:23:24.996899",
     "status": "completed"
    },
    "tags": []
   },
   "outputs": [
    {
     "name": "stderr",
     "output_type": "stream",
     "text": [
      "/opt/conda/lib/python3.7/site-packages/ipykernel_launcher.py:2: FutureWarning: Indexing with multiple keys (implicitly converted to a tuple of keys) will be deprecated, use a list instead.\n",
      "  \n"
     ]
    }
   ],
   "source": [
    "# checking sending SMS by Neighbourhood\n",
    "data_1 = Data.groupby('Neighbourhood')['No-show','SMS_received'].sum().sort_values(by='Neighbourhood')\n",
    "data_1['number of patient / neighbourhood'] = Data['Neighbourhood'].value_counts().sort_index()\n",
    "data_1['SMS_received attendance percent / neighbourhood'] = 100* data_1['SMS_received']/(data_1['number of patient / neighbourhood'] - data_1['No-show'] )"
   ]
  },
  {
   "cell_type": "code",
   "execution_count": 44,
   "id": "77c6e844",
   "metadata": {
    "execution": {
     "iopub.execute_input": "2021-09-01T15:23:25.346598Z",
     "iopub.status.busy": "2021-09-01T15:23:25.345896Z",
     "iopub.status.idle": "2021-09-01T15:23:25.351213Z",
     "shell.execute_reply": "2021-09-01T15:23:25.350674Z",
     "shell.execute_reply.started": "2021-09-01T15:14:14.566514Z"
    },
    "papermill": {
     "duration": 0.10868,
     "end_time": "2021-09-01T15:23:25.351388",
     "exception": false,
     "start_time": "2021-09-01T15:23:25.242708",
     "status": "completed"
    },
    "tags": []
   },
   "outputs": [
    {
     "data": {
      "text/plain": [
       "count    80.000000\n",
       "mean     40.867366\n",
       "std       9.477022\n",
       "min       0.000000\n",
       "25%      37.384445\n",
       "50%      42.093356\n",
       "75%      45.341438\n",
       "max      75.000000\n",
       "Name: SMS_received attendance percent / neighbourhood, dtype: float64"
      ]
     },
     "execution_count": 44,
     "metadata": {},
     "output_type": "execute_result"
    }
   ],
   "source": [
    "data_1['SMS_received attendance percent / neighbourhood'].describe()"
   ]
  },
  {
   "cell_type": "code",
   "execution_count": 45,
   "id": "42bbbd3f",
   "metadata": {
    "execution": {
     "iopub.execute_input": "2021-09-01T15:23:25.579584Z",
     "iopub.status.busy": "2021-09-01T15:23:25.578574Z",
     "iopub.status.idle": "2021-09-01T15:23:25.853688Z",
     "shell.execute_reply": "2021-09-01T15:23:25.853029Z",
     "shell.execute_reply.started": "2021-09-01T15:14:14.583277Z"
    },
    "papermill": {
     "duration": 0.403849,
     "end_time": "2021-09-01T15:23:25.853841",
     "exception": false,
     "start_time": "2021-09-01T15:23:25.449992",
     "status": "completed"
    },
    "tags": []
   },
   "outputs": [
    {
     "name": "stderr",
     "output_type": "stream",
     "text": [
      "/opt/conda/lib/python3.7/site-packages/seaborn/distributions.py:2557: FutureWarning: `distplot` is a deprecated function and will be removed in a future version. Please adapt your code to use either `displot` (a figure-level function with similar flexibility) or `histplot` (an axes-level function for histograms).\n",
      "  warnings.warn(msg, FutureWarning)\n"
     ]
    },
    {
     "data": {
      "text/plain": [
       "<AxesSubplot:xlabel='SMS_received attendance percent / neighbourhood', ylabel='Density'>"
      ]
     },
     "execution_count": 45,
     "metadata": {},
     "output_type": "execute_result"
    },
    {
     "data": {
      "image/png": "[encoded data removed]",
      "text/plain": [
       "<Figure size 432x288 with 1 Axes>"
      ]
     },
     "metadata": {},
     "output_type": "display_data"
    }
   ],
   "source": [
    "sb.distplot(data_1['SMS_received attendance percent / neighbourhood'])"
   ]
  },
  {
   "cell_type": "markdown",
   "id": "82bacd50",
   "metadata": {
    "papermill": {
     "duration": 0.094182,
     "end_time": "2021-09-01T15:23:26.042525",
     "exception": false,
     "start_time": "2021-09-01T15:23:25.948343",
     "status": "completed"
    },
    "tags": []
   },
   "source": [
    "so we will focus on sending SMS to the highest neibourhood attendance percent ( above mean 40% )"
   ]
  },
  {
   "cell_type": "code",
   "execution_count": 46,
   "id": "a14d1c6c",
   "metadata": {
    "execution": {
     "iopub.execute_input": "2021-09-01T15:23:26.246593Z",
     "iopub.status.busy": "2021-09-01T15:23:26.245751Z",
     "iopub.status.idle": "2021-09-01T15:23:26.250334Z",
     "shell.execute_reply": "2021-09-01T15:23:26.249791Z",
     "shell.execute_reply.started": "2021-09-01T15:14:14.906703Z"
    },
    "papermill": {
     "duration": 0.10898,
     "end_time": "2021-09-01T15:23:26.250498",
     "exception": false,
     "start_time": "2021-09-01T15:23:26.141518",
     "status": "completed"
    },
    "tags": []
   },
   "outputs": [
    {
     "data": {
      "text/plain": [
       "Index(['ILHA DO FRADE'], dtype='object', name='Neighbourhood')"
      ]
     },
     "execution_count": 46,
     "metadata": {},
     "output_type": "execute_result"
    }
   ],
   "source": [
    "data_1[data_1['SMS_received attendance percent / neighbourhood'] > 42].index #41 neighbourhoods\n",
    "data_1[data_1['SMS_received attendance percent / neighbourhood'] > 60].index # the most important one "
   ]
  },
  {
   "cell_type": "markdown",
   "id": "040369b4",
   "metadata": {
    "papermill": {
     "duration": 0.093498,
     "end_time": "2021-09-01T15:23:26.437033",
     "exception": false,
     "start_time": "2021-09-01T15:23:26.343535",
     "status": "completed"
    },
    "tags": []
   },
   "source": [
    "### Multivariate Analysis for No-show & Age with respect to other features\n"
   ]
  },
  {
   "cell_type": "code",
   "execution_count": 47,
   "id": "6913a39e",
   "metadata": {
    "execution": {
     "iopub.execute_input": "2021-09-01T15:23:26.663745Z",
     "iopub.status.busy": "2021-09-01T15:23:26.663021Z",
     "iopub.status.idle": "2021-09-01T15:23:31.208566Z",
     "shell.execute_reply": "2021-09-01T15:23:31.209080Z",
     "shell.execute_reply.started": "2021-09-01T15:14:15.607541Z"
    },
    "papermill": {
     "duration": 4.675863,
     "end_time": "2021-09-01T15:23:31.209270",
     "exception": false,
     "start_time": "2021-09-01T15:23:26.533407",
     "status": "completed"
    },
    "tags": []
   },
   "outputs": [
    {
     "name": "stderr",
     "output_type": "stream",
     "text": [
      "/opt/conda/lib/python3.7/site-packages/seaborn/_decorators.py:43: FutureWarning: Pass the following variables as keyword args: x, y. From version 0.12, the only valid positional argument will be `data`, and passing other arguments without an explicit keyword will result in an error or misinterpretation.\n",
      "  FutureWarning\n",
      "/opt/conda/lib/python3.7/site-packages/seaborn/_decorators.py:43: FutureWarning: Pass the following variables as keyword args: x, y. From version 0.12, the only valid positional argument will be `data`, and passing other arguments without an explicit keyword will result in an error or misinterpretation.\n",
      "  FutureWarning\n",
      "/opt/conda/lib/python3.7/site-packages/seaborn/_decorators.py:43: FutureWarning: Pass the following variables as keyword args: x, y. From version 0.12, the only valid positional argument will be `data`, and passing other arguments without an explicit keyword will result in an error or misinterpretation.\n",
      "  FutureWarning\n",
      "/opt/conda/lib/python3.7/site-packages/seaborn/_decorators.py:43: FutureWarning: Pass the following variables as keyword args: x, y. From version 0.12, the only valid positional argument will be `data`, and passing other arguments without an explicit keyword will result in an error or misinterpretation.\n",
      "  FutureWarning\n",
      "/opt/conda/lib/python3.7/site-packages/seaborn/_decorators.py:43: FutureWarning: Pass the following variables as keyword args: x, y. From version 0.12, the only valid positional argument will be `data`, and passing other arguments without an explicit keyword will result in an error or misinterpretation.\n",
      "  FutureWarning\n",
      "/opt/conda/lib/python3.7/site-packages/seaborn/_decorators.py:43: FutureWarning: Pass the following variables as keyword args: x, y. From version 0.12, the only valid positional argument will be `data`, and passing other arguments without an explicit keyword will result in an error or misinterpretation.\n",
      "  FutureWarning\n",
      "/opt/conda/lib/python3.7/site-packages/seaborn/_decorators.py:43: FutureWarning: Pass the following variables as keyword args: x, y. From version 0.12, the only valid positional argument will be `data`, and passing other arguments without an explicit keyword will result in an error or misinterpretation.\n",
      "  FutureWarning\n",
      "/opt/conda/lib/python3.7/site-packages/seaborn/_decorators.py:43: FutureWarning: Pass the following variables as keyword args: x, y. From version 0.12, the only valid positional argument will be `data`, and passing other arguments without an explicit keyword will result in an error or misinterpretation.\n",
      "  FutureWarning\n",
      "/opt/conda/lib/python3.7/site-packages/seaborn/_decorators.py:43: FutureWarning: Pass the following variables as keyword args: x, y. From version 0.12, the only valid positional argument will be `data`, and passing other arguments without an explicit keyword will result in an error or misinterpretation.\n",
      "  FutureWarning\n",
      "/opt/conda/lib/python3.7/site-packages/seaborn/_decorators.py:43: FutureWarning: Pass the following variables as keyword args: x, y. From version 0.12, the only valid positional argument will be `data`, and passing other arguments without an explicit keyword will result in an error or misinterpretation.\n",
      "  FutureWarning\n",
      "/opt/conda/lib/python3.7/site-packages/seaborn/_decorators.py:43: FutureWarning: Pass the following variables as keyword args: x, y. From version 0.12, the only valid positional argument will be `data`, and passing other arguments without an explicit keyword will result in an error or misinterpretation.\n",
      "  FutureWarning\n",
      "/opt/conda/lib/python3.7/site-packages/seaborn/_decorators.py:43: FutureWarning: Pass the following variables as keyword args: x, y. From version 0.12, the only valid positional argument will be `data`, and passing other arguments without an explicit keyword will result in an error or misinterpretation.\n",
      "  FutureWarning\n"
     ]
    },
    {
     "data": {
      "image/png": "[encoded data removed]",
      "text/plain": [
       "<Figure size 1080x1080 with 6 Axes>"
      ]
     },
     "metadata": {},
     "output_type": "display_data"
    }
   ],
   "source": [
    "No_show_0 = {0: \"black\", 1 : \"black\"}\n",
    "No_show_1 = {0: \"gold\", 1 : \"gold\"}\n",
    "# gold color will be for No-show = 1 , the black for NO-show = 0\n",
    "sb.set_style(\"whitegrid\")\n",
    "fig , ax = plt.subplots(3,2,figsize=(15,15),constrained_layout=True)\n",
    "\n",
    "sb.violinplot(Data['Handcap'][Data['No-show'] == 0],Data['Age'], ax=ax[0,0],gridsize=10,palette=No_show_0)\n",
    "sb.violinplot(Data['Handcap'][Data['No-show'] == 1],Data['Age'], ax=ax[0,0],gridsize=10,palette=No_show_1)\n",
    "\n",
    "sb.violinplot(Data['Alcoholism'][Data['No-show'] == 0],Data['Age'], ax=ax[0,1],palette=No_show_0)\n",
    "sb.violinplot(Data['Alcoholism'][Data['No-show'] == 1],Data['Age'], ax=ax[0,1],palette=No_show_1)\n",
    "\n",
    "sb.violinplot(Data['Diabetes'][Data['No-show'] == 0],Data['Age'], ax=ax[1,0],palette=No_show_0)\n",
    "sb.violinplot(Data['Diabetes'][Data['No-show'] == 1],Data['Age'], ax=ax[1,0],palette=No_show_1)\n",
    "\n",
    "sb.violinplot(Data['Hipertension'][Data['No-show'] == 0],Data['Age'], ax=ax[1,1],palette=No_show_0)\n",
    "sb.violinplot(Data['Hipertension'][Data['No-show'] == 1],Data['Age'], ax=ax[1,1],palette=No_show_1)\n",
    "\n",
    "sb.violinplot(Data['Gender'][Data['No-show'] == 0],Data['Age'], ax=ax[2,1],palette={'F': \"black\", 'M' : \"black\"})\n",
    "sb.violinplot(Data['Gender'][Data['No-show'] == 1],Data['Age'], ax=ax[2,1],palette={'F': \"gold\", 'M' : \"gold\"})\n",
    "\n",
    "sb.violinplot(Data['Scholarship'][Data['No-show'] == 0],Data['Age'], ax=ax[2,0],palette=No_show_0)\n",
    "sb.violinplot(Data['Scholarship'][Data['No-show'] == 1],Data['Age'], ax=ax[2,0],palette=No_show_1)\n",
    "\n",
    "for x in fig.axes:\n",
    "    for violin, alpha in zip(x.collections[::2], [0.3,0.3,0.3,0.3]):\n",
    "        violin.set_alpha(alpha)"
   ]
  },
  {
   "cell_type": "markdown",
   "id": "4145a931",
   "metadata": {
    "papermill": {
     "duration": 0.180468,
     "end_time": "2021-09-01T15:23:31.493996",
     "exception": false,
     "start_time": "2021-09-01T15:23:31.313528",
     "status": "completed"
    },
    "tags": []
   },
   "source": [
    "for each chart we see ( No-show = 0 & No-show =1 distribution with age ) \n",
    "for both 0,1 values of the other features , difference between the overlapped violins @ left side should be the difference between violins @ right side if the x-axis feature has no effect\n",
    "( refering to this difference as relative density ) \n",
    "* comparison results :\n",
    "        - for Handcap : people above 90 years old have an increase relative density in No-show if they had a\n",
    "                        handcap ,people from 20 : 40 have an increase in relative density for No-show if\n",
    "                        they had no Handcap\n",
    "                        so handcaps did not prevent them from attending the appointment\n",
    "        - for alcoholism : there is an increase in relative density for No-show = 0 after 60 years for\n",
    "                        alcoholists \n",
    "        - for diabetes : above 50 years , increase in relative density  No-show =1 if they had diabetes , so\n",
    "                        diabetes prevent people above 50 years old from attending the appointment\n",
    "        - for hipertension : increase in realtive density for no_show = 0 & hipertension =0 for people\n",
    "                        between 43 and 60 years old , this means that people with age in this interval ,if\n",
    "                        they have hipertension they will not attend the appointment\n",
    "        - there is no observed difference for gender or scholarship with age on affecting the No-show   "
   ]
  },
  {
   "cell_type": "code",
   "execution_count": 48,
   "id": "feaf2c23",
   "metadata": {
    "execution": {
     "iopub.execute_input": "2021-09-01T15:23:31.711516Z",
     "iopub.status.busy": "2021-09-01T15:23:31.710257Z",
     "iopub.status.idle": "2021-09-01T15:23:31.988999Z",
     "shell.execute_reply": "2021-09-01T15:23:31.988290Z",
     "shell.execute_reply.started": "2021-09-01T15:14:20.091501Z"
    },
    "papermill": {
     "duration": 0.391277,
     "end_time": "2021-09-01T15:23:31.989162",
     "exception": false,
     "start_time": "2021-09-01T15:23:31.597885",
     "status": "completed"
    },
    "tags": []
   },
   "outputs": [
    {
     "data": {
      "text/plain": [
       "<AxesSubplot:xlabel='Hipertension', ylabel='count'>"
      ]
     },
     "execution_count": 48,
     "metadata": {},
     "output_type": "execute_result"
    },
    {
     "data": {
      "image/png": "[encoded data removed]",
      "text/plain": [
       "<Figure size 432x288 with 1 Axes>"
      ]
     },
     "metadata": {},
     "output_type": "display_data"
    }
   ],
   "source": [
    "#hipertension & diabetes\n",
    "my_pal = {0: \"darkgray\", 1 : \"yellow\",0: \"darkgray\", 1 : \"yellow\"}\n",
    "\n",
    "\n",
    "sb.countplot( x= Data['Hipertension'][Data['No-show'] == 0 ] , hue=Data['Diabetes'] ,palette= my_pal )\n",
    "sb.countplot( x= Data['Hipertension'][Data['No-show'] == 1 ] , hue=Data['Diabetes'] , palette=my_pal )\n"
   ]
  },
  {
   "cell_type": "markdown",
   "id": "98234a88",
   "metadata": {
    "papermill": {
     "duration": 0.106062,
     "end_time": "2021-09-01T15:23:32.201700",
     "exception": false,
     "start_time": "2021-09-01T15:23:32.095638",
     "status": "completed"
    },
    "tags": []
   },
   "source": [
    " for people who have hipertension : ( for No-show = 1 ) 1:2 ratio between people who have and don't have diabetes ( for No-show = 0 ) 1:2 ratio between people who have and don't have diabetes seems that diabetes with hipertension together don't have an effective change for No-show values"
   ]
  },
  {
   "cell_type": "code",
   "execution_count": 49,
   "id": "1a7c52a0",
   "metadata": {
    "execution": {
     "iopub.execute_input": "2021-09-01T15:23:32.419744Z",
     "iopub.status.busy": "2021-09-01T15:23:32.418481Z",
     "iopub.status.idle": "2021-09-01T15:23:32.707664Z",
     "shell.execute_reply": "2021-09-01T15:23:32.707050Z",
     "shell.execute_reply.started": "2021-09-01T15:14:20.355767Z"
    },
    "papermill": {
     "duration": 0.401763,
     "end_time": "2021-09-01T15:23:32.707826",
     "exception": false,
     "start_time": "2021-09-01T15:23:32.306063",
     "status": "completed"
    },
    "tags": []
   },
   "outputs": [
    {
     "data": {
      "text/plain": [
       "<AxesSubplot:xlabel='Alcoholism', ylabel='count'>"
      ]
     },
     "execution_count": 49,
     "metadata": {},
     "output_type": "execute_result"
    },
    {
     "data": {
      "image/png": "[encoded data removed]",
      "text/plain": [
       "<Figure size 432x288 with 1 Axes>"
      ]
     },
     "metadata": {},
     "output_type": "display_data"
    }
   ],
   "source": [
    "#alcoholism & handcap\n",
    "my_pal = {0: \"darkgray\", 1 : \"yellow\",0: \"darkgray\", 1 : \"yellow\"}\n",
    "\n",
    "\n",
    "sb.countplot( x= Data['Alcoholism'][Data['No-show'] == 0 ] , hue=Data['Handcap'] ,palette= my_pal )\n",
    "sb.countplot( x= Data['Alcoholism'][Data['No-show'] == 1 ] , hue=Data['Handcap'] , palette=my_pal )"
   ]
  },
  {
   "cell_type": "markdown",
   "id": "8f9c6651",
   "metadata": {
    "papermill": {
     "duration": 0.108119,
     "end_time": "2021-09-01T15:23:32.923001",
     "exception": false,
     "start_time": "2021-09-01T15:23:32.814882",
     "status": "completed"
    },
    "tags": []
   },
   "source": [
    "seems that we almost don't have alcoholists with handcaps"
   ]
  },
  {
   "cell_type": "code",
   "execution_count": 50,
   "id": "b27c8587",
   "metadata": {
    "execution": {
     "iopub.execute_input": "2021-09-01T15:23:33.145794Z",
     "iopub.status.busy": "2021-09-01T15:23:33.144703Z",
     "iopub.status.idle": "2021-09-01T15:23:33.427118Z",
     "shell.execute_reply": "2021-09-01T15:23:33.426471Z",
     "shell.execute_reply.started": "2021-09-01T15:14:20.619405Z"
    },
    "papermill": {
     "duration": 0.39796,
     "end_time": "2021-09-01T15:23:33.427281",
     "exception": false,
     "start_time": "2021-09-01T15:23:33.029321",
     "status": "completed"
    },
    "tags": []
   },
   "outputs": [
    {
     "data": {
      "text/plain": [
       "<AxesSubplot:xlabel='Alcoholism', ylabel='count'>"
      ]
     },
     "execution_count": 50,
     "metadata": {},
     "output_type": "execute_result"
    },
    {
     "data": {
      "image/png": "[encoded data removed]",
      "text/plain": [
       "<Figure size 432x288 with 1 Axes>"
      ]
     },
     "metadata": {},
     "output_type": "display_data"
    }
   ],
   "source": [
    "#alcoholism & hipertension\n",
    "my_pal = {0: \"darkgray\", 1 : \"yellow\",0: \"darkgray\", 1 : \"yellow\"}\n",
    "\n",
    "sb.countplot( x= Data['Alcoholism'][Data['No-show'] == 0 ] , hue=Data['Hipertension'] ,palette= my_pal )\n",
    "sb.countplot( x= Data['Alcoholism'][Data['No-show'] == 1 ] , hue=Data['Hipertension'] , palette=my_pal )"
   ]
  },
  {
   "cell_type": "code",
   "execution_count": 51,
   "id": "87a382c2",
   "metadata": {
    "execution": {
     "iopub.execute_input": "2021-09-01T15:23:33.650316Z",
     "iopub.status.busy": "2021-09-01T15:23:33.649530Z",
     "iopub.status.idle": "2021-09-01T15:23:34.049713Z",
     "shell.execute_reply": "2021-09-01T15:23:34.050264Z",
     "shell.execute_reply.started": "2021-09-01T15:14:20.884376Z"
    },
    "papermill": {
     "duration": 0.514464,
     "end_time": "2021-09-01T15:23:34.050481",
     "exception": false,
     "start_time": "2021-09-01T15:23:33.536017",
     "status": "completed"
    },
    "tags": []
   },
   "outputs": [
    {
     "data": {
      "text/plain": [
       "<AxesSubplot:xlabel='Gender', ylabel='count'>"
      ]
     },
     "execution_count": 51,
     "metadata": {},
     "output_type": "execute_result"
    },
    {
     "data": {
      "image/png": "[encoded data removed]",
      "text/plain": [
       "<Figure size 432x288 with 1 Axes>"
      ]
     },
     "metadata": {},
     "output_type": "display_data"
    }
   ],
   "source": [
    "#gender & handcap\n",
    "my_pal = {0: \"darkgray\", 1 : \"yellow\",0: \"darkgray\", 1 : \"yellow\"}\n",
    "\n",
    "sb.countplot( x= Data['Gender'][Data['No-show'] == 0 ] , hue=Data['Handcap'] ,palette= my_pal )\n",
    "sb.countplot( x= Data['Gender'][Data['No-show'] == 1 ] , hue=Data['Handcap'] , palette=my_pal )"
   ]
  },
  {
   "cell_type": "code",
   "execution_count": 52,
   "id": "b62a14b7",
   "metadata": {
    "execution": {
     "iopub.execute_input": "2021-09-01T15:23:34.276646Z",
     "iopub.status.busy": "2021-09-01T15:23:34.275931Z",
     "iopub.status.idle": "2021-09-01T15:23:34.676023Z",
     "shell.execute_reply": "2021-09-01T15:23:34.675392Z",
     "shell.execute_reply.started": "2021-09-01T15:14:21.273196Z"
    },
    "papermill": {
     "duration": 0.515598,
     "end_time": "2021-09-01T15:23:34.676172",
     "exception": false,
     "start_time": "2021-09-01T15:23:34.160574",
     "status": "completed"
    },
    "tags": []
   },
   "outputs": [
    {
     "data": {
      "text/plain": [
       "<AxesSubplot:xlabel='Gender', ylabel='count'>"
      ]
     },
     "execution_count": 52,
     "metadata": {},
     "output_type": "execute_result"
    },
    {
     "data": {
      "image/png": "[encoded data removed]",
      "text/plain": [
       "<Figure size 432x288 with 1 Axes>"
      ]
     },
     "metadata": {},
     "output_type": "display_data"
    }
   ],
   "source": [
    "#gender & hipertension\n",
    "my_pal = {0: \"darkgray\", 1 : \"yellow\",0: \"darkgray\", 1 : \"yellow\"}\n",
    "\n",
    "sb.countplot( x= Data['Gender'][Data['No-show'] == 0 ] , hue=Data['Hipertension'] ,palette= my_pal )\n",
    "sb.countplot( x= Data['Gender'][Data['No-show'] == 1 ] , hue=Data['Hipertension'] , palette=my_pal )"
   ]
  },
  {
   "cell_type": "markdown",
   "id": "d328b4cd",
   "metadata": {
    "papermill": {
     "duration": 0.117434,
     "end_time": "2021-09-01T15:23:34.920141",
     "exception": false,
     "start_time": "2021-09-01T15:23:34.802707",
     "status": "completed"
    },
    "tags": []
   },
   "source": [
    "* for males the hipertension to no hipertension ratios : ( no-show = 1 ) ratio = 1:6 , ( no-show = 0 ) ratio = 1:4 \n",
    "* for females the hipertension to no hipertension ratios : ( no-show = 1 ) ratio = 1:5 , ( no-show = 0 ) ratio = 1:4 \n",
    "* so males with hipertension will attend the appointment more than females who have a hipertension'''"
   ]
  },
  {
   "cell_type": "markdown",
   "id": "4424df9b",
   "metadata": {
    "papermill": {
     "duration": 0.118163,
     "end_time": "2021-09-01T15:23:35.159749",
     "exception": false,
     "start_time": "2021-09-01T15:23:35.041586",
     "status": "completed"
    },
    "tags": []
   },
   "source": [
    "# Conclusions\n",
    "\n",
    "* so we have above 75% of patients (IDs) when they call for an appointment , they attend ( trustful IDs )\n",
    "* 191 out of 62299 patients’ IDs are trustless as they called more than twice and didn’t attend.\n",
    "* we have higher percentage of attendance for people who didn't receive a SMS , we may run a Matched pair design A/B test to see how SMS precisely affect no-show.\n",
    "* we have a higher number of people who had a handcap classified as No-show = 0  but seems that handcap  doesn't affect the No-show (attendance). \n",
    "* Alcoholism , Diabetes , Scholarship , Hipertension and Gender each one of them (individually)  will not affect the no-show number.\n",
    "* we have an average 80% of attendance / Neighborhood , so w can trust patients from neighborhood with attendance percent equals that or more, ( ILHA DO BOI )  is the most trusted neighborhood.\n",
    "* from 5 years to 40 years more people will ignore their appointments this is a real fact as in this years everyone is more youth and powerful ...and at the first 5 years the patients attend ( the yellow curve shows higher density ) as thier parents care about them.\n",
    "* we could see that people calls more to schedule an appointment at the first and the end of months as we see the decrease after the first 5 days till it reachs the lowest possible @ the last 10 days of the month then it begins to increase @ the last days of month.\n",
    "* day of the week doesn't affect attendance rate\n",
    "* we need to send more SMSs to people between 45 and 65 years old.\n",
    "* we send a lot of useless SMSs so we should start to decrease it , and the best way is to decrease it by this features sequence ( Scolarships , hipertension , diabetes and finally gender ).\n",
    "* sending SMSs to people between 45 and 65 years old will increase the appointments attendance\n",
    "* we need to send more SMSs to ( neighborhood with respect to SMSs percent ) > 40 ( 41 neighbourhoods ) ( illustrated above ) ( the most important neighborhood to send SMSs is “ ILHA DO FRADE “ ).\n",
    "* patient who are greater than 90 years old if they had a handcap , most likely they will not attend the appointment \n",
    "* Alcoholists who are 60 years old or more , most likely they will attend the appointment.\n",
    "* patients with 50 years old or more who have diabetes , most likely the will not attend the appointment\n",
    "* patient between 43 and 60 years old who have hypertension , most likely will not attend the appointment\n",
    "* males with hipertension will attend the appointment more than females who have a hipertension\n",
    "\n",
    "\n"
   ]
  }
 ],
 "metadata": {
  "kernelspec": {
   "display_name": "Python 3",
   "language": "python",
   "name": "python3"
  },
  "language_info": {
   "codemirror_mode": {
    "name": "ipython",
    "version": 3
   },
   "file_extension": ".py",
   "mimetype": "text/x-python",
   "name": "python",
   "nbconvert_exporter": "python",
   "pygments_lexer": "ipython3",
   "version": "3.7.10"
  },
  "papermill": {
   "default_parameters": {},
   "duration": 48.989771,
   "end_time": "2021-09-01T15:23:37.158600",
   "environment_variables": {},
   "exception": null,
   "input_path": "__notebook__.ipynb",
   "output_path": "__notebook__.ipynb",
   "parameters": {},
   "start_time": "2021-09-01T15:22:48.168829",
   "version": "2.3.3"
  }
 },
 "nbformat": 4,
 "nbformat_minor": 5
}
